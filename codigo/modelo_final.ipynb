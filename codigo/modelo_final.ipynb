{
  "cells": [
    {
      "cell_type": "markdown",
      "metadata": {
        "id": "5ju-PHDCWeHA"
      },
      "source": [
        "# 1 - Normalização e Pré-processamento:\n",
        "\n",
        "Normalizem as observações para estarem dentro de um intervalo razoável.\n",
        "\n",
        "Convertam as ações em um formato compatível com o ambiente e criem as funções de cada ação.\n",
        "Identifiquem as features relevantes que podem ajudar o agente a aprender melhor.\n",
        "\n",
        "Extraíam e processem essas features a partir dos dados brutos, se necessário, para facilitar o aprendizado do agente."
      ]
    },
    {
      "cell_type": "markdown",
      "metadata": {
        "id": "FnRPtKW3eir9"
      },
      "source": [
        "## Importação"
      ]
    },
    {
      "cell_type": "code",
      "execution_count": 58,
      "metadata": {
        "id": "-qg4YsPgXG51"
      },
      "outputs": [],
      "source": [
        "import warnings\n",
        "\n",
        "# Ignore DeprecationWarning\n",
        "warnings.filterwarnings(\"ignore\", category=DeprecationWarning)"
      ]
    },
    {
      "cell_type": "code",
      "execution_count": 59,
      "metadata": {
        "colab": {
          "base_uri": "https://localhost:8080/"
        },
        "id": "q_5lhlvdXUJS",
        "outputId": "0b2f163b-6892-4272-ae93-f00c346eedc2"
      },
      "outputs": [
        {
          "output_type": "stream",
          "name": "stdout",
          "text": [
            "Drive already mounted at /content/drive; to attempt to forcibly remount, call drive.mount(\"/content/drive\", force_remount=True).\n"
          ]
        }
      ],
      "source": [
        "from google.colab import drive\n",
        "drive.mount('/content/drive')"
      ]
    },
    {
      "cell_type": "code",
      "execution_count": 60,
      "metadata": {
        "id": "kA8ayD-UZSjp"
      },
      "outputs": [],
      "source": [
        "# IMPORTANTE: Coloque os arquivos fornecidos pelo parceiro em uma pasta chamada \"Data\", na raiz do seu Google Drive\n",
        "# Os arquivos .xlsx abaixo foram tratados previamente a partir do .xlsb enviados pelo ciente\n",
        "# Consistem em ações filtradas no Excel para que constem apenas ações VALE3 (Vale ON) do CLIENTE 4 da corretora FUTU (Nova Futura) da base 2023.\n",
        "\n",
        "spot_path  = '/content/drive/MyDrive/Data/2023_COMPRA_C4_VALE3_FUTU.xlsx'\n",
        "futures_path = '/content/drive/MyDrive/Data/2023_VENDA_C4_VALE3_FUTU.xlsx'"
      ]
    },
    {
      "cell_type": "code",
      "execution_count": 61,
      "metadata": {
        "id": "Ne6-t8YSZWvn"
      },
      "outputs": [],
      "source": [
        "# Bibliotecas de análise\n",
        "import numpy as np\n",
        "import pandas as pd\n",
        "import matplotlib.pyplot as plt"
      ]
    },
    {
      "cell_type": "code",
      "execution_count": 62,
      "metadata": {
        "id": "kUr1FVnKZgfx"
      },
      "outputs": [],
      "source": [
        "# Arquivo de compras - mercado \"spot\" (à vista)\n",
        "df_spot = pd.read_excel(spot_path)\n",
        "# Arquivo de vendas - mercado de \"futures\" (a termo)\n",
        "df_futures = pd.read_excel(futures_path)"
      ]
    },
    {
      "cell_type": "code",
      "execution_count": 63,
      "metadata": {
        "id": "zFuNCRmQbZv7",
        "outputId": "84804438-a89a-44c5-fac0-a1762a5007a8",
        "colab": {
          "base_uri": "https://localhost:8080/"
        }
      },
      "outputs": [
        {
          "output_type": "stream",
          "name": "stdout",
          "text": [
            "  Cód. Cliente Dt. Operação Tipo Operação Cód. Título Cód. Corretora  \\\n",
            "0    Cliente 4   2023-07-28             C       VALE3           FUTU   \n",
            "1    Cliente 4   2023-07-28             C       VALE3           FUTU   \n",
            "2    Cliente 4   2023-11-08             C       VALE3           FUTU   \n",
            "3    Cliente 4   2023-09-21             C       VALE3           FUTU   \n",
            "4    Cliente 4   2023-05-23             C       VALE3           FUTU   \n",
            "\n",
            "   Quantidade      Preço  Valor Líquido Dt. Liquidação Tipo  \n",
            "0         500  68.765780      -34382.89     2023-08-01   AV  \n",
            "1        1500  68.865820     -103298.73     2023-08-01   AV  \n",
            "2        2000  70.096110     -140192.22     2023-11-10   AV  \n",
            "3       10000  67.815595     -678155.95     2023-09-25   AV  \n",
            "4        2000  66.915825     -133831.65     2023-05-25   AV  \n"
          ]
        },
        {
          "output_type": "execute_result",
          "data": {
            "text/plain": [
              "Cód. Cliente              object\n",
              "Dt. Operação      datetime64[ns]\n",
              "Tipo Operação             object\n",
              "Cód. Título               object\n",
              "Cód. Corretora            object\n",
              "Quantidade                 int64\n",
              "Preço                    float64\n",
              "Valor Líquido            float64\n",
              "Dt. Liquidação    datetime64[ns]\n",
              "Tipo                      object\n",
              "dtype: object"
            ]
          },
          "metadata": {},
          "execution_count": 63
        }
      ],
      "source": [
        "print(df_spot.head())\n",
        "df_spot.dtypes"
      ]
    },
    {
      "cell_type": "code",
      "execution_count": 64,
      "metadata": {
        "id": "oBHgcQBNZcxB",
        "outputId": "d75b0440-ba03-4d5f-92d3-242dce3e0494",
        "colab": {
          "base_uri": "https://localhost:8080/"
        }
      },
      "outputs": [
        {
          "output_type": "stream",
          "name": "stdout",
          "text": [
            "    Chave Cód. Cliente Dt. Operação Tipo Operação Cód. Título Cód. Corretora  \\\n",
            "0   5048A    Cliente 4   2023-02-10             V       VALE3           FUTU   \n",
            "1   6431A    Cliente 4   2023-10-04             V       VALE3           FUTU   \n",
            "2   6432A    Cliente 4   2023-10-04             V       VALE3           FUTU   \n",
            "3  13878A    Cliente 4   2023-04-20             V       VALE3           FUTU   \n",
            "4  13879A    Cliente 4   2023-04-20             V       VALE3           FUTU   \n",
            "\n",
            "   Quantidade      Preço  Valor Líquido Vencimento Tipo        DI  \n",
            "0         575  89.022087       51187.70 2023-04-25   TE  0.136535  \n",
            "1          53  66.586981        3529.11 2023-11-03   TE  0.126429  \n",
            "2          53  66.586981        3529.11 2023-11-03   TE  0.126429  \n",
            "3         978  76.640153       74954.07 2023-06-19   TE  0.136376  \n",
            "4          22  76.650909        1686.32 2023-06-19   TE  0.136376  \n"
          ]
        },
        {
          "output_type": "execute_result",
          "data": {
            "text/plain": [
              "Chave                     object\n",
              "Cód. Cliente              object\n",
              "Dt. Operação      datetime64[ns]\n",
              "Tipo Operação             object\n",
              "Cód. Título               object\n",
              "Cód. Corretora            object\n",
              "Quantidade                 int64\n",
              "Preço                    float64\n",
              "Valor Líquido            float64\n",
              "Vencimento        datetime64[ns]\n",
              "Tipo                      object\n",
              "DI                       float64\n",
              "dtype: object"
            ]
          },
          "metadata": {},
          "execution_count": 64
        }
      ],
      "source": [
        "print(df_futures.head())\n",
        "df_futures.dtypes"
      ]
    },
    {
      "cell_type": "markdown",
      "metadata": {
        "id": "xNSL63ChhpLN"
      },
      "source": [
        "## Feature Engineering"
      ]
    },
    {
      "cell_type": "markdown",
      "metadata": {
        "id": "03apyZCcO9R_"
      },
      "source": [
        "## Computar Valor Presente do Termo (Preço 100% do DI)"
      ]
    },
    {
      "cell_type": "code",
      "execution_count": 65,
      "metadata": {
        "id": "5l6mnuHht7V_",
        "outputId": "002d0d0d-3bb4-4664-c805-9bc89951164f",
        "colab": {
          "base_uri": "https://localhost:8080/"
        }
      },
      "outputs": [
        {
          "output_type": "stream",
          "name": "stdout",
          "text": [
            "Requirement already satisfied: pandas-market-calendars in /usr/local/lib/python3.10/dist-packages (4.4.0)\n",
            "Requirement already satisfied: pandas>=1.1 in /usr/local/lib/python3.10/dist-packages (from pandas-market-calendars) (1.5.3)\n",
            "Requirement already satisfied: pytz in /usr/local/lib/python3.10/dist-packages (from pandas-market-calendars) (2023.4)\n",
            "Requirement already satisfied: python-dateutil in /usr/local/lib/python3.10/dist-packages (from pandas-market-calendars) (2.8.2)\n",
            "Requirement already satisfied: exchange-calendars>=3.3 in /usr/local/lib/python3.10/dist-packages (from pandas-market-calendars) (4.5.3)\n",
            "Requirement already satisfied: numpy<2 in /usr/local/lib/python3.10/dist-packages (from exchange-calendars>=3.3->pandas-market-calendars) (1.25.2)\n",
            "Requirement already satisfied: pyluach in /usr/local/lib/python3.10/dist-packages (from exchange-calendars>=3.3->pandas-market-calendars) (2.2.0)\n",
            "Requirement already satisfied: toolz in /usr/local/lib/python3.10/dist-packages (from exchange-calendars>=3.3->pandas-market-calendars) (0.12.1)\n",
            "Requirement already satisfied: tzdata in /usr/local/lib/python3.10/dist-packages (from exchange-calendars>=3.3->pandas-market-calendars) (2024.1)\n",
            "Requirement already satisfied: korean-lunar-calendar in /usr/local/lib/python3.10/dist-packages (from exchange-calendars>=3.3->pandas-market-calendars) (0.3.1)\n",
            "Requirement already satisfied: six>=1.5 in /usr/local/lib/python3.10/dist-packages (from python-dateutil->pandas-market-calendars) (1.16.0)\n"
          ]
        }
      ],
      "source": [
        "!pip install pandas-market-calendars # biblioteca para pegar os dias úteis do ano para cálculo do valor descontado"
      ]
    },
    {
      "cell_type": "code",
      "execution_count": 66,
      "metadata": {
        "id": "q2mit0qPO4h5"
      },
      "outputs": [],
      "source": [
        "import pandas_market_calendars as mcal\n",
        "\n",
        "# Pre-computar o calendário da BMF (B3)\n",
        "# TODO: alguns dias desse calendário não batem com a planilha enviada pelo parceiro, talvez alguns feriados\n",
        "# estão sendo contabilizados e outros não. Verificar qual calendário o parceiro usa internamente.\n",
        "# De qualquer forma como é normalmente apenas um dia a mais ou a menos, isso não impacta o cálculo final.\n",
        "bmf_calendar = mcal.get_calendar('BMF')\n",
        "\n",
        "def business_days(start, end, calendar):\n",
        "    \"\"\"\n",
        "    Computa os dias úteis (DU) entre duas datas.\n",
        "    \"\"\"\n",
        "    schedule = calendar.schedule(start_date=start, end_date=end)\n",
        "    return len(schedule)\n",
        "\n",
        "# Adicionar uma coluna com o número dos dias úteis  a column with the number of business days until expiration for each row\n",
        "df_futures['DU'] = df_futures.apply(\n",
        "    lambda row: business_days(row['Dt. Operação'], row['Vencimento'], bmf_calendar), axis=1)\n",
        "\n",
        "# Computar o Valor Presente (VP) do Preço com base na data de vencimento e na taxa DI do dia\n",
        "df_futures['VP Preço'] = df_futures['Preço'] / (1 + df_futures['DI']) ** (df_futures['DU'] / 252)\n",
        "\n",
        "def compute_pv_future(row):\n",
        "    \"\"\"\n",
        "    Computa o Valor Presente (PV) do termo sob análise com base em um rendimento 100% da taxa DI do dia da operação do Termo.\n",
        "    \"\"\"\n",
        "    DI_rate = row['DI'] # em %\n",
        "\n",
        "    # Cria uma instância do calendário BM&F\n",
        "    bmf_calendar = mcal.get_calendar('BMF')\n",
        "\n",
        "    # Gera um DataFrame dos dias úteis entre as datas de início e fim\n",
        "    schedule = bmf_calendar.schedule(start_date=row['Dt. Operação'], end_date=row['Vencimento'])\n",
        "\n",
        "    # Calcula o número de dias úteis como o tamanho desse DataFrame\n",
        "    days_until_expiration = len(schedule)\n",
        "\n",
        "    # Calcula o PV do futuro com base no número de dias úteis\n",
        "    pv_future = row['Preço'] / (1 + DI_rate) ** (days_until_expiration / 252)\n",
        "\n",
        "    return pv_future"
      ]
    },
    {
      "cell_type": "code",
      "execution_count": 67,
      "metadata": {
        "id": "LBA0G6_4Te6h",
        "outputId": "ca10a335-ee23-419c-bd18-00f3cc7ddc38",
        "colab": {
          "base_uri": "https://localhost:8080/",
          "height": 1000
        }
      },
      "outputs": [
        {
          "output_type": "execute_result",
          "data": {
            "text/plain": [
              "     Chave Cód. Cliente Dt. Operação Tipo Operação Cód. Título Cód. Corretora  \\\n",
              "0    5048A    Cliente 4   2023-02-10             V       VALE3           FUTU   \n",
              "11  26059A    Cliente 4   2023-02-10             V       VALE3           FUTU   \n",
              "3   13878A    Cliente 4   2023-04-20             V       VALE3           FUTU   \n",
              "4   13879A    Cliente 4   2023-04-20             V       VALE3           FUTU   \n",
              "5   13882A    Cliente 4   2023-04-25             V       VALE3           FUTU   \n",
              "6   13883A    Cliente 4   2023-04-25             V       VALE3           FUTU   \n",
              "7   13884A    Cliente 4   2023-04-25             V       VALE3           FUTU   \n",
              "8   13885A    Cliente 4   2023-04-25             V       VALE3           FUTU   \n",
              "49  38932A    Cliente 4   2023-05-10             V       VALE3           FUTU   \n",
              "48  38931A    Cliente 4   2023-05-10             V       VALE3           FUTU   \n",
              "50  38933A    Cliente 4   2023-05-11             V       VALE3           FUTU   \n",
              "51  38934A    Cliente 4   2023-05-11             V       VALE3           FUTU   \n",
              "53  39006A    Cliente 4   2023-05-23             V       VALE3           FUTU   \n",
              "52  39005A    Cliente 4   2023-05-23             V       VALE3           FUTU   \n",
              "55  39028A    Cliente 4   2023-05-25             V       VALE3           FUTU   \n",
              "54  39027A    Cliente 4   2023-05-25             V       VALE3           FUTU   \n",
              "56  39099A    Cliente 4   2023-06-15             V       VALE3           FUTU   \n",
              "57  39100A    Cliente 4   2023-06-15             V       VALE3           FUTU   \n",
              "58  39119A    Cliente 4   2023-06-20             V       VALE3           FUTU   \n",
              "59  39120A    Cliente 4   2023-06-20             V       VALE3           FUTU   \n",
              "23  36142A    Cliente 4   2023-06-28             V       VALE3           FUTU   \n",
              "24  36143A    Cliente 4   2023-06-28             V       VALE3           FUTU   \n",
              "25  36221A    Cliente 4   2023-07-27             V       VALE3           FUTU   \n",
              "26  36223A    Cliente 4   2023-07-27             V       VALE3           FUTU   \n",
              "29  36246A    Cliente 4   2023-07-28             V       VALE3           FUTU   \n",
              "32  36249A    Cliente 4   2023-07-28             V       VALE3           FUTU   \n",
              "30  36247A    Cliente 4   2023-07-28             V       VALE3           FUTU   \n",
              "28  36245A    Cliente 4   2023-07-28             V       VALE3           FUTU   \n",
              "31  36248A    Cliente 4   2023-07-28             V       VALE3           FUTU   \n",
              "27  36244A    Cliente 4   2023-07-28             V       VALE3           FUTU   \n",
              "33  36331A    Cliente 4   2023-08-16             V       VALE3           FUTU   \n",
              "34  36332A    Cliente 4   2023-08-16             V       VALE3           FUTU   \n",
              "35  36353A    Cliente 4   2023-09-12             V       VALE3           FUTU   \n",
              "36  36354A    Cliente 4   2023-09-12             V       VALE3           FUTU   \n",
              "37  36361A    Cliente 4   2023-09-21             V       VALE3           FUTU   \n",
              "38  36362A    Cliente 4   2023-09-21             V       VALE3           FUTU   \n",
              "12  28315A    Cliente 4   2023-10-04             V       VALE3           FUTU   \n",
              "2    6432A    Cliente 4   2023-10-04             V       VALE3           FUTU   \n",
              "45  36377A    Cliente 4   2023-10-04             V       VALE3           FUTU   \n",
              "1    6431A    Cliente 4   2023-10-04             V       VALE3           FUTU   \n",
              "47  36379A    Cliente 4   2023-10-04             V       VALE3           FUTU   \n",
              "46  36378A    Cliente 4   2023-10-04             V       VALE3           FUTU   \n",
              "44  36376A    Cliente 4   2023-10-04             V       VALE3           FUTU   \n",
              "39  36371A    Cliente 4   2023-10-04             V       VALE3           FUTU   \n",
              "42  36374A    Cliente 4   2023-10-04             V       VALE3           FUTU   \n",
              "41  36373A    Cliente 4   2023-10-04             V       VALE3           FUTU   \n",
              "40  36372A    Cliente 4   2023-10-04             V       VALE3           FUTU   \n",
              "43  36375A    Cliente 4   2023-10-04             V       VALE3           FUTU   \n",
              "14  28323A    Cliente 4   2023-10-06             V       VALE3           FUTU   \n",
              "13  28322A    Cliente 4   2023-10-06             V       VALE3           FUTU   \n",
              "16  28327A    Cliente 4   2023-10-17             V       VALE3           FUTU   \n",
              "15  28326A    Cliente 4   2023-10-17             V       VALE3           FUTU   \n",
              "17  28336A    Cliente 4   2023-10-19             V       VALE3           FUTU   \n",
              "18  28337A    Cliente 4   2023-10-19             V       VALE3           FUTU   \n",
              "19  28396A    Cliente 4   2023-11-07             V       VALE3           FUTU   \n",
              "20  28397A    Cliente 4   2023-11-07             V       VALE3           FUTU   \n",
              "22  28399A    Cliente 4   2023-11-08             V       VALE3           FUTU   \n",
              "21  28398A    Cliente 4   2023-11-08             V       VALE3           FUTU   \n",
              "10  16813A    Cliente 4   2023-12-12             V       VALE3           FUTU   \n",
              "9   16812A    Cliente 4   2023-12-12             V       VALE3           FUTU   \n",
              "\n",
              "    Quantidade      Preço  Valor Líquido Vencimento Tipo        DI  DU  \\\n",
              "0          575  89.022087       51187.70 2023-04-25   TE  0.136535  49   \n",
              "11         425  89.032118       37838.65 2023-04-25   TE  0.136535  49   \n",
              "3          978  76.640153       74954.07 2023-06-19   TE  0.136376  40   \n",
              "4           22  76.650909        1686.32 2023-06-19   TE  0.136376  40   \n",
              "5          160  70.834000       11333.44 2023-05-25   TE  0.136492  22   \n",
              "6           40  70.844000        2833.76 2023-05-25   TE  0.136492  22   \n",
              "7          980  72.033122       70592.46 2023-06-19   TE  0.136352  38   \n",
              "8           20  72.044500        1440.89 2023-06-19   TE  0.136352  38   \n",
              "49          23  71.114348        1635.63 2023-07-10   TE  0.136399  43   \n",
              "48         177  71.101073       12584.89 2023-07-10   TE  0.136399  43   \n",
              "50         169  68.345562       11550.40 2023-06-12   TE  0.136482  22   \n",
              "51         131  68.355649        8954.59 2023-06-12   TE  0.136482  22   \n",
              "53         486  68.515473       33298.52 2023-07-24   TE  0.136480  44   \n",
              "52        1514  68.504789      103716.25 2023-07-24   TE  0.136480  44   \n",
              "55         312  65.627372       20475.74 2023-06-26   TE  0.136401  22   \n",
              "54        4688  65.617293      307613.87 2023-06-26   TE  0.136401  22   \n",
              "56         447  69.624743       31122.26 2023-07-17   TE  0.136410  23   \n",
              "57        1553  69.634578      108142.50 2023-07-17   TE  0.136410  23   \n",
              "58         360  69.155056       24895.82 2023-08-21   TE  0.135813  45   \n",
              "59          40  69.165500        2766.62 2023-08-21   TE  0.135813  45   \n",
              "23         232  65.607371       15220.91 2023-07-28   TE  0.136549  23   \n",
              "24         268  65.617388       17585.46 2023-07-28   TE  0.136549  23   \n",
              "25        1535  72.113107      110693.62 2023-09-25   TE  0.132082  42   \n",
              "26        1465  72.123092      105660.33 2023-09-25   TE  0.132082  42   \n",
              "29         182  70.224396       12780.84 2023-09-26   TE  0.132260  42   \n",
              "32         901  70.364262       63398.20 2023-09-26   TE  0.132260  42   \n",
              "30         818  70.234340       57451.69 2023-09-26   TE  0.132260  42   \n",
              "28           1  69.200000          69.20 2023-09-26   TE  0.132260  42   \n",
              "31         599  70.354257       42142.20 2023-09-26   TE  0.132260  42   \n",
              "27         499  69.185050       34523.34 2023-09-26   TE  0.132260  42   \n",
              "33          42  62.060238        2606.53 2023-09-15   TE  0.131135  22   \n",
              "34         258  62.069690       16013.98 2023-09-15   TE  0.131135  22   \n",
              "35        4508  68.625273      309362.73 2023-10-13   TE  0.128239  23   \n",
              "36         492  68.635386       33768.61 2023-10-13   TE  0.128239  23   \n",
              "37        3180  68.555415      218006.22 2023-10-23   TE  0.126669  22   \n",
              "38        6820  68.565375      467615.86 2023-10-23   TE  0.126669  22   \n",
              "12          53  66.586981        3529.11 2023-11-03   TE  0.126429  21   \n",
              "2           53  66.586981        3529.11 2023-11-03   TE  0.126429  21   \n",
              "45        2244  66.586475      149420.05 2023-11-03   TE  0.126429  21   \n",
              "1           53  66.586981        3529.11 2023-11-03   TE  0.126429  21   \n",
              "47         107  66.586822        7124.79 2023-11-03   TE  0.126429  21   \n",
              "46         160  66.586812       10653.89 2023-11-03   TE  0.126429  21   \n",
              "44          47  66.577021        3129.12 2023-11-03   TE  0.126429  21   \n",
              "39        1956  66.576708      130224.04 2023-11-03   TE  0.126429  21   \n",
              "42          47  66.577021        3129.12 2023-11-03   TE  0.126429  21   \n",
              "41          93  66.576882        6191.65 2023-11-03   TE  0.126429  21   \n",
              "40         140  66.576857        9320.76 2023-11-03   TE  0.126429  21   \n",
              "43          47  66.577021        3129.12 2023-11-03   TE  0.126429  21   \n",
              "14         899  67.705973       60867.67 2023-12-05   TE  0.123685  40   \n",
              "13        2101  67.695926      142229.14 2023-12-05   TE  0.123685  40   \n",
              "16        2940  68.765105      202169.41 2023-11-21   TE  0.124678  24   \n",
              "15        2060  68.755282      141635.88 2023-11-21   TE  0.124678  24   \n",
              "17         544  66.246930       36038.33 2023-12-18   TE  0.122069  41   \n",
              "18        9456  66.236910      626336.22 2023-12-18   TE  0.122069  41   \n",
              "19         784  71.373571       55956.88 2024-01-08   TE  0.119835  41   \n",
              "20         216  71.383657       15418.87 2024-01-08   TE  0.119835  41   \n",
              "22         774  70.803953       54802.26 2023-12-08   TE  0.121303  22   \n",
              "21        1226  70.793964       86793.40 2023-12-08   TE  0.121303  22   \n",
              "10         295  74.231763       21898.37 2024-02-14   TE  0.116076  42   \n",
              "9          305  74.221803       22637.65 2024-02-14   TE  0.116076  42   \n",
              "\n",
              "     VP Preço  \n",
              "0   86.834037  \n",
              "11  86.843821  \n",
              "3   75.100591  \n",
              "4   75.111130  \n",
              "5   70.047194  \n",
              "6   70.057083  \n",
              "7   70.657982  \n",
              "8   70.669143  \n",
              "49  69.579571  \n",
              "48  69.566583  \n",
              "50  67.586449  \n",
              "51  67.596424  \n",
              "53  67.001945  \n",
              "52  66.991497  \n",
              "55  64.898853  \n",
              "54  64.888886  \n",
              "56  68.816870  \n",
              "57  68.826591  \n",
              "58  67.600155  \n",
              "59  67.610365  \n",
              "23  64.845392  \n",
              "24  64.855293  \n",
              "25  70.637373  \n",
              "26  70.647153  \n",
              "29  68.785510  \n",
              "32  68.922510  \n",
              "30  68.795250  \n",
              "28  67.782104  \n",
              "31  68.912710  \n",
              "27  67.767460  \n",
              "33  61.396207  \n",
              "34  61.405558  \n",
              "35  67.873689  \n",
              "36  67.883692  \n",
              "37  67.845317  \n",
              "38  67.855174  \n",
              "12  65.929635  \n",
              "2   65.929635  \n",
              "45  65.929134  \n",
              "1   65.929635  \n",
              "47  65.929478  \n",
              "46  65.929468  \n",
              "44  65.919773  \n",
              "39  65.919463  \n",
              "42  65.919773  \n",
              "41  65.919635  \n",
              "40  65.919611  \n",
              "43  65.919773  \n",
              "14  66.464257  \n",
              "13  66.454394  \n",
              "16  67.999900  \n",
              "15  67.990185  \n",
              "17  65.017111  \n",
              "18  65.007277  \n",
              "19  70.071296  \n",
              "20  70.081198  \n",
              "22  70.099774  \n",
              "21  70.089884  \n",
              "10  72.885442  \n",
              "9   72.875663  "
            ],
            "text/html": [
              "\n",
              "  <div id=\"df-c196c4ac-e32f-4503-8c35-023bc1ba2ca0\" class=\"colab-df-container\">\n",
              "    <div>\n",
              "<style scoped>\n",
              "    .dataframe tbody tr th:only-of-type {\n",
              "        vertical-align: middle;\n",
              "    }\n",
              "\n",
              "    .dataframe tbody tr th {\n",
              "        vertical-align: top;\n",
              "    }\n",
              "\n",
              "    .dataframe thead th {\n",
              "        text-align: right;\n",
              "    }\n",
              "</style>\n",
              "<table border=\"1\" class=\"dataframe\">\n",
              "  <thead>\n",
              "    <tr style=\"text-align: right;\">\n",
              "      <th></th>\n",
              "      <th>Chave</th>\n",
              "      <th>Cód. Cliente</th>\n",
              "      <th>Dt. Operação</th>\n",
              "      <th>Tipo Operação</th>\n",
              "      <th>Cód. Título</th>\n",
              "      <th>Cód. Corretora</th>\n",
              "      <th>Quantidade</th>\n",
              "      <th>Preço</th>\n",
              "      <th>Valor Líquido</th>\n",
              "      <th>Vencimento</th>\n",
              "      <th>Tipo</th>\n",
              "      <th>DI</th>\n",
              "      <th>DU</th>\n",
              "      <th>VP Preço</th>\n",
              "    </tr>\n",
              "  </thead>\n",
              "  <tbody>\n",
              "    <tr>\n",
              "      <th>0</th>\n",
              "      <td>5048A</td>\n",
              "      <td>Cliente 4</td>\n",
              "      <td>2023-02-10</td>\n",
              "      <td>V</td>\n",
              "      <td>VALE3</td>\n",
              "      <td>FUTU</td>\n",
              "      <td>575</td>\n",
              "      <td>89.022087</td>\n",
              "      <td>51187.70</td>\n",
              "      <td>2023-04-25</td>\n",
              "      <td>TE</td>\n",
              "      <td>0.136535</td>\n",
              "      <td>49</td>\n",
              "      <td>86.834037</td>\n",
              "    </tr>\n",
              "    <tr>\n",
              "      <th>11</th>\n",
              "      <td>26059A</td>\n",
              "      <td>Cliente 4</td>\n",
              "      <td>2023-02-10</td>\n",
              "      <td>V</td>\n",
              "      <td>VALE3</td>\n",
              "      <td>FUTU</td>\n",
              "      <td>425</td>\n",
              "      <td>89.032118</td>\n",
              "      <td>37838.65</td>\n",
              "      <td>2023-04-25</td>\n",
              "      <td>TE</td>\n",
              "      <td>0.136535</td>\n",
              "      <td>49</td>\n",
              "      <td>86.843821</td>\n",
              "    </tr>\n",
              "    <tr>\n",
              "      <th>3</th>\n",
              "      <td>13878A</td>\n",
              "      <td>Cliente 4</td>\n",
              "      <td>2023-04-20</td>\n",
              "      <td>V</td>\n",
              "      <td>VALE3</td>\n",
              "      <td>FUTU</td>\n",
              "      <td>978</td>\n",
              "      <td>76.640153</td>\n",
              "      <td>74954.07</td>\n",
              "      <td>2023-06-19</td>\n",
              "      <td>TE</td>\n",
              "      <td>0.136376</td>\n",
              "      <td>40</td>\n",
              "      <td>75.100591</td>\n",
              "    </tr>\n",
              "    <tr>\n",
              "      <th>4</th>\n",
              "      <td>13879A</td>\n",
              "      <td>Cliente 4</td>\n",
              "      <td>2023-04-20</td>\n",
              "      <td>V</td>\n",
              "      <td>VALE3</td>\n",
              "      <td>FUTU</td>\n",
              "      <td>22</td>\n",
              "      <td>76.650909</td>\n",
              "      <td>1686.32</td>\n",
              "      <td>2023-06-19</td>\n",
              "      <td>TE</td>\n",
              "      <td>0.136376</td>\n",
              "      <td>40</td>\n",
              "      <td>75.111130</td>\n",
              "    </tr>\n",
              "    <tr>\n",
              "      <th>5</th>\n",
              "      <td>13882A</td>\n",
              "      <td>Cliente 4</td>\n",
              "      <td>2023-04-25</td>\n",
              "      <td>V</td>\n",
              "      <td>VALE3</td>\n",
              "      <td>FUTU</td>\n",
              "      <td>160</td>\n",
              "      <td>70.834000</td>\n",
              "      <td>11333.44</td>\n",
              "      <td>2023-05-25</td>\n",
              "      <td>TE</td>\n",
              "      <td>0.136492</td>\n",
              "      <td>22</td>\n",
              "      <td>70.047194</td>\n",
              "    </tr>\n",
              "    <tr>\n",
              "      <th>6</th>\n",
              "      <td>13883A</td>\n",
              "      <td>Cliente 4</td>\n",
              "      <td>2023-04-25</td>\n",
              "      <td>V</td>\n",
              "      <td>VALE3</td>\n",
              "      <td>FUTU</td>\n",
              "      <td>40</td>\n",
              "      <td>70.844000</td>\n",
              "      <td>2833.76</td>\n",
              "      <td>2023-05-25</td>\n",
              "      <td>TE</td>\n",
              "      <td>0.136492</td>\n",
              "      <td>22</td>\n",
              "      <td>70.057083</td>\n",
              "    </tr>\n",
              "    <tr>\n",
              "      <th>7</th>\n",
              "      <td>13884A</td>\n",
              "      <td>Cliente 4</td>\n",
              "      <td>2023-04-25</td>\n",
              "      <td>V</td>\n",
              "      <td>VALE3</td>\n",
              "      <td>FUTU</td>\n",
              "      <td>980</td>\n",
              "      <td>72.033122</td>\n",
              "      <td>70592.46</td>\n",
              "      <td>2023-06-19</td>\n",
              "      <td>TE</td>\n",
              "      <td>0.136352</td>\n",
              "      <td>38</td>\n",
              "      <td>70.657982</td>\n",
              "    </tr>\n",
              "    <tr>\n",
              "      <th>8</th>\n",
              "      <td>13885A</td>\n",
              "      <td>Cliente 4</td>\n",
              "      <td>2023-04-25</td>\n",
              "      <td>V</td>\n",
              "      <td>VALE3</td>\n",
              "      <td>FUTU</td>\n",
              "      <td>20</td>\n",
              "      <td>72.044500</td>\n",
              "      <td>1440.89</td>\n",
              "      <td>2023-06-19</td>\n",
              "      <td>TE</td>\n",
              "      <td>0.136352</td>\n",
              "      <td>38</td>\n",
              "      <td>70.669143</td>\n",
              "    </tr>\n",
              "    <tr>\n",
              "      <th>49</th>\n",
              "      <td>38932A</td>\n",
              "      <td>Cliente 4</td>\n",
              "      <td>2023-05-10</td>\n",
              "      <td>V</td>\n",
              "      <td>VALE3</td>\n",
              "      <td>FUTU</td>\n",
              "      <td>23</td>\n",
              "      <td>71.114348</td>\n",
              "      <td>1635.63</td>\n",
              "      <td>2023-07-10</td>\n",
              "      <td>TE</td>\n",
              "      <td>0.136399</td>\n",
              "      <td>43</td>\n",
              "      <td>69.579571</td>\n",
              "    </tr>\n",
              "    <tr>\n",
              "      <th>48</th>\n",
              "      <td>38931A</td>\n",
              "      <td>Cliente 4</td>\n",
              "      <td>2023-05-10</td>\n",
              "      <td>V</td>\n",
              "      <td>VALE3</td>\n",
              "      <td>FUTU</td>\n",
              "      <td>177</td>\n",
              "      <td>71.101073</td>\n",
              "      <td>12584.89</td>\n",
              "      <td>2023-07-10</td>\n",
              "      <td>TE</td>\n",
              "      <td>0.136399</td>\n",
              "      <td>43</td>\n",
              "      <td>69.566583</td>\n",
              "    </tr>\n",
              "    <tr>\n",
              "      <th>50</th>\n",
              "      <td>38933A</td>\n",
              "      <td>Cliente 4</td>\n",
              "      <td>2023-05-11</td>\n",
              "      <td>V</td>\n",
              "      <td>VALE3</td>\n",
              "      <td>FUTU</td>\n",
              "      <td>169</td>\n",
              "      <td>68.345562</td>\n",
              "      <td>11550.40</td>\n",
              "      <td>2023-06-12</td>\n",
              "      <td>TE</td>\n",
              "      <td>0.136482</td>\n",
              "      <td>22</td>\n",
              "      <td>67.586449</td>\n",
              "    </tr>\n",
              "    <tr>\n",
              "      <th>51</th>\n",
              "      <td>38934A</td>\n",
              "      <td>Cliente 4</td>\n",
              "      <td>2023-05-11</td>\n",
              "      <td>V</td>\n",
              "      <td>VALE3</td>\n",
              "      <td>FUTU</td>\n",
              "      <td>131</td>\n",
              "      <td>68.355649</td>\n",
              "      <td>8954.59</td>\n",
              "      <td>2023-06-12</td>\n",
              "      <td>TE</td>\n",
              "      <td>0.136482</td>\n",
              "      <td>22</td>\n",
              "      <td>67.596424</td>\n",
              "    </tr>\n",
              "    <tr>\n",
              "      <th>53</th>\n",
              "      <td>39006A</td>\n",
              "      <td>Cliente 4</td>\n",
              "      <td>2023-05-23</td>\n",
              "      <td>V</td>\n",
              "      <td>VALE3</td>\n",
              "      <td>FUTU</td>\n",
              "      <td>486</td>\n",
              "      <td>68.515473</td>\n",
              "      <td>33298.52</td>\n",
              "      <td>2023-07-24</td>\n",
              "      <td>TE</td>\n",
              "      <td>0.136480</td>\n",
              "      <td>44</td>\n",
              "      <td>67.001945</td>\n",
              "    </tr>\n",
              "    <tr>\n",
              "      <th>52</th>\n",
              "      <td>39005A</td>\n",
              "      <td>Cliente 4</td>\n",
              "      <td>2023-05-23</td>\n",
              "      <td>V</td>\n",
              "      <td>VALE3</td>\n",
              "      <td>FUTU</td>\n",
              "      <td>1514</td>\n",
              "      <td>68.504789</td>\n",
              "      <td>103716.25</td>\n",
              "      <td>2023-07-24</td>\n",
              "      <td>TE</td>\n",
              "      <td>0.136480</td>\n",
              "      <td>44</td>\n",
              "      <td>66.991497</td>\n",
              "    </tr>\n",
              "    <tr>\n",
              "      <th>55</th>\n",
              "      <td>39028A</td>\n",
              "      <td>Cliente 4</td>\n",
              "      <td>2023-05-25</td>\n",
              "      <td>V</td>\n",
              "      <td>VALE3</td>\n",
              "      <td>FUTU</td>\n",
              "      <td>312</td>\n",
              "      <td>65.627372</td>\n",
              "      <td>20475.74</td>\n",
              "      <td>2023-06-26</td>\n",
              "      <td>TE</td>\n",
              "      <td>0.136401</td>\n",
              "      <td>22</td>\n",
              "      <td>64.898853</td>\n",
              "    </tr>\n",
              "    <tr>\n",
              "      <th>54</th>\n",
              "      <td>39027A</td>\n",
              "      <td>Cliente 4</td>\n",
              "      <td>2023-05-25</td>\n",
              "      <td>V</td>\n",
              "      <td>VALE3</td>\n",
              "      <td>FUTU</td>\n",
              "      <td>4688</td>\n",
              "      <td>65.617293</td>\n",
              "      <td>307613.87</td>\n",
              "      <td>2023-06-26</td>\n",
              "      <td>TE</td>\n",
              "      <td>0.136401</td>\n",
              "      <td>22</td>\n",
              "      <td>64.888886</td>\n",
              "    </tr>\n",
              "    <tr>\n",
              "      <th>56</th>\n",
              "      <td>39099A</td>\n",
              "      <td>Cliente 4</td>\n",
              "      <td>2023-06-15</td>\n",
              "      <td>V</td>\n",
              "      <td>VALE3</td>\n",
              "      <td>FUTU</td>\n",
              "      <td>447</td>\n",
              "      <td>69.624743</td>\n",
              "      <td>31122.26</td>\n",
              "      <td>2023-07-17</td>\n",
              "      <td>TE</td>\n",
              "      <td>0.136410</td>\n",
              "      <td>23</td>\n",
              "      <td>68.816870</td>\n",
              "    </tr>\n",
              "    <tr>\n",
              "      <th>57</th>\n",
              "      <td>39100A</td>\n",
              "      <td>Cliente 4</td>\n",
              "      <td>2023-06-15</td>\n",
              "      <td>V</td>\n",
              "      <td>VALE3</td>\n",
              "      <td>FUTU</td>\n",
              "      <td>1553</td>\n",
              "      <td>69.634578</td>\n",
              "      <td>108142.50</td>\n",
              "      <td>2023-07-17</td>\n",
              "      <td>TE</td>\n",
              "      <td>0.136410</td>\n",
              "      <td>23</td>\n",
              "      <td>68.826591</td>\n",
              "    </tr>\n",
              "    <tr>\n",
              "      <th>58</th>\n",
              "      <td>39119A</td>\n",
              "      <td>Cliente 4</td>\n",
              "      <td>2023-06-20</td>\n",
              "      <td>V</td>\n",
              "      <td>VALE3</td>\n",
              "      <td>FUTU</td>\n",
              "      <td>360</td>\n",
              "      <td>69.155056</td>\n",
              "      <td>24895.82</td>\n",
              "      <td>2023-08-21</td>\n",
              "      <td>TE</td>\n",
              "      <td>0.135813</td>\n",
              "      <td>45</td>\n",
              "      <td>67.600155</td>\n",
              "    </tr>\n",
              "    <tr>\n",
              "      <th>59</th>\n",
              "      <td>39120A</td>\n",
              "      <td>Cliente 4</td>\n",
              "      <td>2023-06-20</td>\n",
              "      <td>V</td>\n",
              "      <td>VALE3</td>\n",
              "      <td>FUTU</td>\n",
              "      <td>40</td>\n",
              "      <td>69.165500</td>\n",
              "      <td>2766.62</td>\n",
              "      <td>2023-08-21</td>\n",
              "      <td>TE</td>\n",
              "      <td>0.135813</td>\n",
              "      <td>45</td>\n",
              "      <td>67.610365</td>\n",
              "    </tr>\n",
              "    <tr>\n",
              "      <th>23</th>\n",
              "      <td>36142A</td>\n",
              "      <td>Cliente 4</td>\n",
              "      <td>2023-06-28</td>\n",
              "      <td>V</td>\n",
              "      <td>VALE3</td>\n",
              "      <td>FUTU</td>\n",
              "      <td>232</td>\n",
              "      <td>65.607371</td>\n",
              "      <td>15220.91</td>\n",
              "      <td>2023-07-28</td>\n",
              "      <td>TE</td>\n",
              "      <td>0.136549</td>\n",
              "      <td>23</td>\n",
              "      <td>64.845392</td>\n",
              "    </tr>\n",
              "    <tr>\n",
              "      <th>24</th>\n",
              "      <td>36143A</td>\n",
              "      <td>Cliente 4</td>\n",
              "      <td>2023-06-28</td>\n",
              "      <td>V</td>\n",
              "      <td>VALE3</td>\n",
              "      <td>FUTU</td>\n",
              "      <td>268</td>\n",
              "      <td>65.617388</td>\n",
              "      <td>17585.46</td>\n",
              "      <td>2023-07-28</td>\n",
              "      <td>TE</td>\n",
              "      <td>0.136549</td>\n",
              "      <td>23</td>\n",
              "      <td>64.855293</td>\n",
              "    </tr>\n",
              "    <tr>\n",
              "      <th>25</th>\n",
              "      <td>36221A</td>\n",
              "      <td>Cliente 4</td>\n",
              "      <td>2023-07-27</td>\n",
              "      <td>V</td>\n",
              "      <td>VALE3</td>\n",
              "      <td>FUTU</td>\n",
              "      <td>1535</td>\n",
              "      <td>72.113107</td>\n",
              "      <td>110693.62</td>\n",
              "      <td>2023-09-25</td>\n",
              "      <td>TE</td>\n",
              "      <td>0.132082</td>\n",
              "      <td>42</td>\n",
              "      <td>70.637373</td>\n",
              "    </tr>\n",
              "    <tr>\n",
              "      <th>26</th>\n",
              "      <td>36223A</td>\n",
              "      <td>Cliente 4</td>\n",
              "      <td>2023-07-27</td>\n",
              "      <td>V</td>\n",
              "      <td>VALE3</td>\n",
              "      <td>FUTU</td>\n",
              "      <td>1465</td>\n",
              "      <td>72.123092</td>\n",
              "      <td>105660.33</td>\n",
              "      <td>2023-09-25</td>\n",
              "      <td>TE</td>\n",
              "      <td>0.132082</td>\n",
              "      <td>42</td>\n",
              "      <td>70.647153</td>\n",
              "    </tr>\n",
              "    <tr>\n",
              "      <th>29</th>\n",
              "      <td>36246A</td>\n",
              "      <td>Cliente 4</td>\n",
              "      <td>2023-07-28</td>\n",
              "      <td>V</td>\n",
              "      <td>VALE3</td>\n",
              "      <td>FUTU</td>\n",
              "      <td>182</td>\n",
              "      <td>70.224396</td>\n",
              "      <td>12780.84</td>\n",
              "      <td>2023-09-26</td>\n",
              "      <td>TE</td>\n",
              "      <td>0.132260</td>\n",
              "      <td>42</td>\n",
              "      <td>68.785510</td>\n",
              "    </tr>\n",
              "    <tr>\n",
              "      <th>32</th>\n",
              "      <td>36249A</td>\n",
              "      <td>Cliente 4</td>\n",
              "      <td>2023-07-28</td>\n",
              "      <td>V</td>\n",
              "      <td>VALE3</td>\n",
              "      <td>FUTU</td>\n",
              "      <td>901</td>\n",
              "      <td>70.364262</td>\n",
              "      <td>63398.20</td>\n",
              "      <td>2023-09-26</td>\n",
              "      <td>TE</td>\n",
              "      <td>0.132260</td>\n",
              "      <td>42</td>\n",
              "      <td>68.922510</td>\n",
              "    </tr>\n",
              "    <tr>\n",
              "      <th>30</th>\n",
              "      <td>36247A</td>\n",
              "      <td>Cliente 4</td>\n",
              "      <td>2023-07-28</td>\n",
              "      <td>V</td>\n",
              "      <td>VALE3</td>\n",
              "      <td>FUTU</td>\n",
              "      <td>818</td>\n",
              "      <td>70.234340</td>\n",
              "      <td>57451.69</td>\n",
              "      <td>2023-09-26</td>\n",
              "      <td>TE</td>\n",
              "      <td>0.132260</td>\n",
              "      <td>42</td>\n",
              "      <td>68.795250</td>\n",
              "    </tr>\n",
              "    <tr>\n",
              "      <th>28</th>\n",
              "      <td>36245A</td>\n",
              "      <td>Cliente 4</td>\n",
              "      <td>2023-07-28</td>\n",
              "      <td>V</td>\n",
              "      <td>VALE3</td>\n",
              "      <td>FUTU</td>\n",
              "      <td>1</td>\n",
              "      <td>69.200000</td>\n",
              "      <td>69.20</td>\n",
              "      <td>2023-09-26</td>\n",
              "      <td>TE</td>\n",
              "      <td>0.132260</td>\n",
              "      <td>42</td>\n",
              "      <td>67.782104</td>\n",
              "    </tr>\n",
              "    <tr>\n",
              "      <th>31</th>\n",
              "      <td>36248A</td>\n",
              "      <td>Cliente 4</td>\n",
              "      <td>2023-07-28</td>\n",
              "      <td>V</td>\n",
              "      <td>VALE3</td>\n",
              "      <td>FUTU</td>\n",
              "      <td>599</td>\n",
              "      <td>70.354257</td>\n",
              "      <td>42142.20</td>\n",
              "      <td>2023-09-26</td>\n",
              "      <td>TE</td>\n",
              "      <td>0.132260</td>\n",
              "      <td>42</td>\n",
              "      <td>68.912710</td>\n",
              "    </tr>\n",
              "    <tr>\n",
              "      <th>27</th>\n",
              "      <td>36244A</td>\n",
              "      <td>Cliente 4</td>\n",
              "      <td>2023-07-28</td>\n",
              "      <td>V</td>\n",
              "      <td>VALE3</td>\n",
              "      <td>FUTU</td>\n",
              "      <td>499</td>\n",
              "      <td>69.185050</td>\n",
              "      <td>34523.34</td>\n",
              "      <td>2023-09-26</td>\n",
              "      <td>TE</td>\n",
              "      <td>0.132260</td>\n",
              "      <td>42</td>\n",
              "      <td>67.767460</td>\n",
              "    </tr>\n",
              "    <tr>\n",
              "      <th>33</th>\n",
              "      <td>36331A</td>\n",
              "      <td>Cliente 4</td>\n",
              "      <td>2023-08-16</td>\n",
              "      <td>V</td>\n",
              "      <td>VALE3</td>\n",
              "      <td>FUTU</td>\n",
              "      <td>42</td>\n",
              "      <td>62.060238</td>\n",
              "      <td>2606.53</td>\n",
              "      <td>2023-09-15</td>\n",
              "      <td>TE</td>\n",
              "      <td>0.131135</td>\n",
              "      <td>22</td>\n",
              "      <td>61.396207</td>\n",
              "    </tr>\n",
              "    <tr>\n",
              "      <th>34</th>\n",
              "      <td>36332A</td>\n",
              "      <td>Cliente 4</td>\n",
              "      <td>2023-08-16</td>\n",
              "      <td>V</td>\n",
              "      <td>VALE3</td>\n",
              "      <td>FUTU</td>\n",
              "      <td>258</td>\n",
              "      <td>62.069690</td>\n",
              "      <td>16013.98</td>\n",
              "      <td>2023-09-15</td>\n",
              "      <td>TE</td>\n",
              "      <td>0.131135</td>\n",
              "      <td>22</td>\n",
              "      <td>61.405558</td>\n",
              "    </tr>\n",
              "    <tr>\n",
              "      <th>35</th>\n",
              "      <td>36353A</td>\n",
              "      <td>Cliente 4</td>\n",
              "      <td>2023-09-12</td>\n",
              "      <td>V</td>\n",
              "      <td>VALE3</td>\n",
              "      <td>FUTU</td>\n",
              "      <td>4508</td>\n",
              "      <td>68.625273</td>\n",
              "      <td>309362.73</td>\n",
              "      <td>2023-10-13</td>\n",
              "      <td>TE</td>\n",
              "      <td>0.128239</td>\n",
              "      <td>23</td>\n",
              "      <td>67.873689</td>\n",
              "    </tr>\n",
              "    <tr>\n",
              "      <th>36</th>\n",
              "      <td>36354A</td>\n",
              "      <td>Cliente 4</td>\n",
              "      <td>2023-09-12</td>\n",
              "      <td>V</td>\n",
              "      <td>VALE3</td>\n",
              "      <td>FUTU</td>\n",
              "      <td>492</td>\n",
              "      <td>68.635386</td>\n",
              "      <td>33768.61</td>\n",
              "      <td>2023-10-13</td>\n",
              "      <td>TE</td>\n",
              "      <td>0.128239</td>\n",
              "      <td>23</td>\n",
              "      <td>67.883692</td>\n",
              "    </tr>\n",
              "    <tr>\n",
              "      <th>37</th>\n",
              "      <td>36361A</td>\n",
              "      <td>Cliente 4</td>\n",
              "      <td>2023-09-21</td>\n",
              "      <td>V</td>\n",
              "      <td>VALE3</td>\n",
              "      <td>FUTU</td>\n",
              "      <td>3180</td>\n",
              "      <td>68.555415</td>\n",
              "      <td>218006.22</td>\n",
              "      <td>2023-10-23</td>\n",
              "      <td>TE</td>\n",
              "      <td>0.126669</td>\n",
              "      <td>22</td>\n",
              "      <td>67.845317</td>\n",
              "    </tr>\n",
              "    <tr>\n",
              "      <th>38</th>\n",
              "      <td>36362A</td>\n",
              "      <td>Cliente 4</td>\n",
              "      <td>2023-09-21</td>\n",
              "      <td>V</td>\n",
              "      <td>VALE3</td>\n",
              "      <td>FUTU</td>\n",
              "      <td>6820</td>\n",
              "      <td>68.565375</td>\n",
              "      <td>467615.86</td>\n",
              "      <td>2023-10-23</td>\n",
              "      <td>TE</td>\n",
              "      <td>0.126669</td>\n",
              "      <td>22</td>\n",
              "      <td>67.855174</td>\n",
              "    </tr>\n",
              "    <tr>\n",
              "      <th>12</th>\n",
              "      <td>28315A</td>\n",
              "      <td>Cliente 4</td>\n",
              "      <td>2023-10-04</td>\n",
              "      <td>V</td>\n",
              "      <td>VALE3</td>\n",
              "      <td>FUTU</td>\n",
              "      <td>53</td>\n",
              "      <td>66.586981</td>\n",
              "      <td>3529.11</td>\n",
              "      <td>2023-11-03</td>\n",
              "      <td>TE</td>\n",
              "      <td>0.126429</td>\n",
              "      <td>21</td>\n",
              "      <td>65.929635</td>\n",
              "    </tr>\n",
              "    <tr>\n",
              "      <th>2</th>\n",
              "      <td>6432A</td>\n",
              "      <td>Cliente 4</td>\n",
              "      <td>2023-10-04</td>\n",
              "      <td>V</td>\n",
              "      <td>VALE3</td>\n",
              "      <td>FUTU</td>\n",
              "      <td>53</td>\n",
              "      <td>66.586981</td>\n",
              "      <td>3529.11</td>\n",
              "      <td>2023-11-03</td>\n",
              "      <td>TE</td>\n",
              "      <td>0.126429</td>\n",
              "      <td>21</td>\n",
              "      <td>65.929635</td>\n",
              "    </tr>\n",
              "    <tr>\n",
              "      <th>45</th>\n",
              "      <td>36377A</td>\n",
              "      <td>Cliente 4</td>\n",
              "      <td>2023-10-04</td>\n",
              "      <td>V</td>\n",
              "      <td>VALE3</td>\n",
              "      <td>FUTU</td>\n",
              "      <td>2244</td>\n",
              "      <td>66.586475</td>\n",
              "      <td>149420.05</td>\n",
              "      <td>2023-11-03</td>\n",
              "      <td>TE</td>\n",
              "      <td>0.126429</td>\n",
              "      <td>21</td>\n",
              "      <td>65.929134</td>\n",
              "    </tr>\n",
              "    <tr>\n",
              "      <th>1</th>\n",
              "      <td>6431A</td>\n",
              "      <td>Cliente 4</td>\n",
              "      <td>2023-10-04</td>\n",
              "      <td>V</td>\n",
              "      <td>VALE3</td>\n",
              "      <td>FUTU</td>\n",
              "      <td>53</td>\n",
              "      <td>66.586981</td>\n",
              "      <td>3529.11</td>\n",
              "      <td>2023-11-03</td>\n",
              "      <td>TE</td>\n",
              "      <td>0.126429</td>\n",
              "      <td>21</td>\n",
              "      <td>65.929635</td>\n",
              "    </tr>\n",
              "    <tr>\n",
              "      <th>47</th>\n",
              "      <td>36379A</td>\n",
              "      <td>Cliente 4</td>\n",
              "      <td>2023-10-04</td>\n",
              "      <td>V</td>\n",
              "      <td>VALE3</td>\n",
              "      <td>FUTU</td>\n",
              "      <td>107</td>\n",
              "      <td>66.586822</td>\n",
              "      <td>7124.79</td>\n",
              "      <td>2023-11-03</td>\n",
              "      <td>TE</td>\n",
              "      <td>0.126429</td>\n",
              "      <td>21</td>\n",
              "      <td>65.929478</td>\n",
              "    </tr>\n",
              "    <tr>\n",
              "      <th>46</th>\n",
              "      <td>36378A</td>\n",
              "      <td>Cliente 4</td>\n",
              "      <td>2023-10-04</td>\n",
              "      <td>V</td>\n",
              "      <td>VALE3</td>\n",
              "      <td>FUTU</td>\n",
              "      <td>160</td>\n",
              "      <td>66.586812</td>\n",
              "      <td>10653.89</td>\n",
              "      <td>2023-11-03</td>\n",
              "      <td>TE</td>\n",
              "      <td>0.126429</td>\n",
              "      <td>21</td>\n",
              "      <td>65.929468</td>\n",
              "    </tr>\n",
              "    <tr>\n",
              "      <th>44</th>\n",
              "      <td>36376A</td>\n",
              "      <td>Cliente 4</td>\n",
              "      <td>2023-10-04</td>\n",
              "      <td>V</td>\n",
              "      <td>VALE3</td>\n",
              "      <td>FUTU</td>\n",
              "      <td>47</td>\n",
              "      <td>66.577021</td>\n",
              "      <td>3129.12</td>\n",
              "      <td>2023-11-03</td>\n",
              "      <td>TE</td>\n",
              "      <td>0.126429</td>\n",
              "      <td>21</td>\n",
              "      <td>65.919773</td>\n",
              "    </tr>\n",
              "    <tr>\n",
              "      <th>39</th>\n",
              "      <td>36371A</td>\n",
              "      <td>Cliente 4</td>\n",
              "      <td>2023-10-04</td>\n",
              "      <td>V</td>\n",
              "      <td>VALE3</td>\n",
              "      <td>FUTU</td>\n",
              "      <td>1956</td>\n",
              "      <td>66.576708</td>\n",
              "      <td>130224.04</td>\n",
              "      <td>2023-11-03</td>\n",
              "      <td>TE</td>\n",
              "      <td>0.126429</td>\n",
              "      <td>21</td>\n",
              "      <td>65.919463</td>\n",
              "    </tr>\n",
              "    <tr>\n",
              "      <th>42</th>\n",
              "      <td>36374A</td>\n",
              "      <td>Cliente 4</td>\n",
              "      <td>2023-10-04</td>\n",
              "      <td>V</td>\n",
              "      <td>VALE3</td>\n",
              "      <td>FUTU</td>\n",
              "      <td>47</td>\n",
              "      <td>66.577021</td>\n",
              "      <td>3129.12</td>\n",
              "      <td>2023-11-03</td>\n",
              "      <td>TE</td>\n",
              "      <td>0.126429</td>\n",
              "      <td>21</td>\n",
              "      <td>65.919773</td>\n",
              "    </tr>\n",
              "    <tr>\n",
              "      <th>41</th>\n",
              "      <td>36373A</td>\n",
              "      <td>Cliente 4</td>\n",
              "      <td>2023-10-04</td>\n",
              "      <td>V</td>\n",
              "      <td>VALE3</td>\n",
              "      <td>FUTU</td>\n",
              "      <td>93</td>\n",
              "      <td>66.576882</td>\n",
              "      <td>6191.65</td>\n",
              "      <td>2023-11-03</td>\n",
              "      <td>TE</td>\n",
              "      <td>0.126429</td>\n",
              "      <td>21</td>\n",
              "      <td>65.919635</td>\n",
              "    </tr>\n",
              "    <tr>\n",
              "      <th>40</th>\n",
              "      <td>36372A</td>\n",
              "      <td>Cliente 4</td>\n",
              "      <td>2023-10-04</td>\n",
              "      <td>V</td>\n",
              "      <td>VALE3</td>\n",
              "      <td>FUTU</td>\n",
              "      <td>140</td>\n",
              "      <td>66.576857</td>\n",
              "      <td>9320.76</td>\n",
              "      <td>2023-11-03</td>\n",
              "      <td>TE</td>\n",
              "      <td>0.126429</td>\n",
              "      <td>21</td>\n",
              "      <td>65.919611</td>\n",
              "    </tr>\n",
              "    <tr>\n",
              "      <th>43</th>\n",
              "      <td>36375A</td>\n",
              "      <td>Cliente 4</td>\n",
              "      <td>2023-10-04</td>\n",
              "      <td>V</td>\n",
              "      <td>VALE3</td>\n",
              "      <td>FUTU</td>\n",
              "      <td>47</td>\n",
              "      <td>66.577021</td>\n",
              "      <td>3129.12</td>\n",
              "      <td>2023-11-03</td>\n",
              "      <td>TE</td>\n",
              "      <td>0.126429</td>\n",
              "      <td>21</td>\n",
              "      <td>65.919773</td>\n",
              "    </tr>\n",
              "    <tr>\n",
              "      <th>14</th>\n",
              "      <td>28323A</td>\n",
              "      <td>Cliente 4</td>\n",
              "      <td>2023-10-06</td>\n",
              "      <td>V</td>\n",
              "      <td>VALE3</td>\n",
              "      <td>FUTU</td>\n",
              "      <td>899</td>\n",
              "      <td>67.705973</td>\n",
              "      <td>60867.67</td>\n",
              "      <td>2023-12-05</td>\n",
              "      <td>TE</td>\n",
              "      <td>0.123685</td>\n",
              "      <td>40</td>\n",
              "      <td>66.464257</td>\n",
              "    </tr>\n",
              "    <tr>\n",
              "      <th>13</th>\n",
              "      <td>28322A</td>\n",
              "      <td>Cliente 4</td>\n",
              "      <td>2023-10-06</td>\n",
              "      <td>V</td>\n",
              "      <td>VALE3</td>\n",
              "      <td>FUTU</td>\n",
              "      <td>2101</td>\n",
              "      <td>67.695926</td>\n",
              "      <td>142229.14</td>\n",
              "      <td>2023-12-05</td>\n",
              "      <td>TE</td>\n",
              "      <td>0.123685</td>\n",
              "      <td>40</td>\n",
              "      <td>66.454394</td>\n",
              "    </tr>\n",
              "    <tr>\n",
              "      <th>16</th>\n",
              "      <td>28327A</td>\n",
              "      <td>Cliente 4</td>\n",
              "      <td>2023-10-17</td>\n",
              "      <td>V</td>\n",
              "      <td>VALE3</td>\n",
              "      <td>FUTU</td>\n",
              "      <td>2940</td>\n",
              "      <td>68.765105</td>\n",
              "      <td>202169.41</td>\n",
              "      <td>2023-11-21</td>\n",
              "      <td>TE</td>\n",
              "      <td>0.124678</td>\n",
              "      <td>24</td>\n",
              "      <td>67.999900</td>\n",
              "    </tr>\n",
              "    <tr>\n",
              "      <th>15</th>\n",
              "      <td>28326A</td>\n",
              "      <td>Cliente 4</td>\n",
              "      <td>2023-10-17</td>\n",
              "      <td>V</td>\n",
              "      <td>VALE3</td>\n",
              "      <td>FUTU</td>\n",
              "      <td>2060</td>\n",
              "      <td>68.755282</td>\n",
              "      <td>141635.88</td>\n",
              "      <td>2023-11-21</td>\n",
              "      <td>TE</td>\n",
              "      <td>0.124678</td>\n",
              "      <td>24</td>\n",
              "      <td>67.990185</td>\n",
              "    </tr>\n",
              "    <tr>\n",
              "      <th>17</th>\n",
              "      <td>28336A</td>\n",
              "      <td>Cliente 4</td>\n",
              "      <td>2023-10-19</td>\n",
              "      <td>V</td>\n",
              "      <td>VALE3</td>\n",
              "      <td>FUTU</td>\n",
              "      <td>544</td>\n",
              "      <td>66.246930</td>\n",
              "      <td>36038.33</td>\n",
              "      <td>2023-12-18</td>\n",
              "      <td>TE</td>\n",
              "      <td>0.122069</td>\n",
              "      <td>41</td>\n",
              "      <td>65.017111</td>\n",
              "    </tr>\n",
              "    <tr>\n",
              "      <th>18</th>\n",
              "      <td>28337A</td>\n",
              "      <td>Cliente 4</td>\n",
              "      <td>2023-10-19</td>\n",
              "      <td>V</td>\n",
              "      <td>VALE3</td>\n",
              "      <td>FUTU</td>\n",
              "      <td>9456</td>\n",
              "      <td>66.236910</td>\n",
              "      <td>626336.22</td>\n",
              "      <td>2023-12-18</td>\n",
              "      <td>TE</td>\n",
              "      <td>0.122069</td>\n",
              "      <td>41</td>\n",
              "      <td>65.007277</td>\n",
              "    </tr>\n",
              "    <tr>\n",
              "      <th>19</th>\n",
              "      <td>28396A</td>\n",
              "      <td>Cliente 4</td>\n",
              "      <td>2023-11-07</td>\n",
              "      <td>V</td>\n",
              "      <td>VALE3</td>\n",
              "      <td>FUTU</td>\n",
              "      <td>784</td>\n",
              "      <td>71.373571</td>\n",
              "      <td>55956.88</td>\n",
              "      <td>2024-01-08</td>\n",
              "      <td>TE</td>\n",
              "      <td>0.119835</td>\n",
              "      <td>41</td>\n",
              "      <td>70.071296</td>\n",
              "    </tr>\n",
              "    <tr>\n",
              "      <th>20</th>\n",
              "      <td>28397A</td>\n",
              "      <td>Cliente 4</td>\n",
              "      <td>2023-11-07</td>\n",
              "      <td>V</td>\n",
              "      <td>VALE3</td>\n",
              "      <td>FUTU</td>\n",
              "      <td>216</td>\n",
              "      <td>71.383657</td>\n",
              "      <td>15418.87</td>\n",
              "      <td>2024-01-08</td>\n",
              "      <td>TE</td>\n",
              "      <td>0.119835</td>\n",
              "      <td>41</td>\n",
              "      <td>70.081198</td>\n",
              "    </tr>\n",
              "    <tr>\n",
              "      <th>22</th>\n",
              "      <td>28399A</td>\n",
              "      <td>Cliente 4</td>\n",
              "      <td>2023-11-08</td>\n",
              "      <td>V</td>\n",
              "      <td>VALE3</td>\n",
              "      <td>FUTU</td>\n",
              "      <td>774</td>\n",
              "      <td>70.803953</td>\n",
              "      <td>54802.26</td>\n",
              "      <td>2023-12-08</td>\n",
              "      <td>TE</td>\n",
              "      <td>0.121303</td>\n",
              "      <td>22</td>\n",
              "      <td>70.099774</td>\n",
              "    </tr>\n",
              "    <tr>\n",
              "      <th>21</th>\n",
              "      <td>28398A</td>\n",
              "      <td>Cliente 4</td>\n",
              "      <td>2023-11-08</td>\n",
              "      <td>V</td>\n",
              "      <td>VALE3</td>\n",
              "      <td>FUTU</td>\n",
              "      <td>1226</td>\n",
              "      <td>70.793964</td>\n",
              "      <td>86793.40</td>\n",
              "      <td>2023-12-08</td>\n",
              "      <td>TE</td>\n",
              "      <td>0.121303</td>\n",
              "      <td>22</td>\n",
              "      <td>70.089884</td>\n",
              "    </tr>\n",
              "    <tr>\n",
              "      <th>10</th>\n",
              "      <td>16813A</td>\n",
              "      <td>Cliente 4</td>\n",
              "      <td>2023-12-12</td>\n",
              "      <td>V</td>\n",
              "      <td>VALE3</td>\n",
              "      <td>FUTU</td>\n",
              "      <td>295</td>\n",
              "      <td>74.231763</td>\n",
              "      <td>21898.37</td>\n",
              "      <td>2024-02-14</td>\n",
              "      <td>TE</td>\n",
              "      <td>0.116076</td>\n",
              "      <td>42</td>\n",
              "      <td>72.885442</td>\n",
              "    </tr>\n",
              "    <tr>\n",
              "      <th>9</th>\n",
              "      <td>16812A</td>\n",
              "      <td>Cliente 4</td>\n",
              "      <td>2023-12-12</td>\n",
              "      <td>V</td>\n",
              "      <td>VALE3</td>\n",
              "      <td>FUTU</td>\n",
              "      <td>305</td>\n",
              "      <td>74.221803</td>\n",
              "      <td>22637.65</td>\n",
              "      <td>2024-02-14</td>\n",
              "      <td>TE</td>\n",
              "      <td>0.116076</td>\n",
              "      <td>42</td>\n",
              "      <td>72.875663</td>\n",
              "    </tr>\n",
              "  </tbody>\n",
              "</table>\n",
              "</div>\n",
              "    <div class=\"colab-df-buttons\">\n",
              "\n",
              "  <div class=\"colab-df-container\">\n",
              "    <button class=\"colab-df-convert\" onclick=\"convertToInteractive('df-c196c4ac-e32f-4503-8c35-023bc1ba2ca0')\"\n",
              "            title=\"Convert this dataframe to an interactive table.\"\n",
              "            style=\"display:none;\">\n",
              "\n",
              "  <svg xmlns=\"http://www.w3.org/2000/svg\" height=\"24px\" viewBox=\"0 -960 960 960\">\n",
              "    <path d=\"M120-120v-720h720v720H120Zm60-500h600v-160H180v160Zm220 220h160v-160H400v160Zm0 220h160v-160H400v160ZM180-400h160v-160H180v160Zm440 0h160v-160H620v160ZM180-180h160v-160H180v160Zm440 0h160v-160H620v160Z\"/>\n",
              "  </svg>\n",
              "    </button>\n",
              "\n",
              "  <style>\n",
              "    .colab-df-container {\n",
              "      display:flex;\n",
              "      gap: 12px;\n",
              "    }\n",
              "\n",
              "    .colab-df-convert {\n",
              "      background-color: #E8F0FE;\n",
              "      border: none;\n",
              "      border-radius: 50%;\n",
              "      cursor: pointer;\n",
              "      display: none;\n",
              "      fill: #1967D2;\n",
              "      height: 32px;\n",
              "      padding: 0 0 0 0;\n",
              "      width: 32px;\n",
              "    }\n",
              "\n",
              "    .colab-df-convert:hover {\n",
              "      background-color: #E2EBFA;\n",
              "      box-shadow: 0px 1px 2px rgba(60, 64, 67, 0.3), 0px 1px 3px 1px rgba(60, 64, 67, 0.15);\n",
              "      fill: #174EA6;\n",
              "    }\n",
              "\n",
              "    .colab-df-buttons div {\n",
              "      margin-bottom: 4px;\n",
              "    }\n",
              "\n",
              "    [theme=dark] .colab-df-convert {\n",
              "      background-color: #3B4455;\n",
              "      fill: #D2E3FC;\n",
              "    }\n",
              "\n",
              "    [theme=dark] .colab-df-convert:hover {\n",
              "      background-color: #434B5C;\n",
              "      box-shadow: 0px 1px 3px 1px rgba(0, 0, 0, 0.15);\n",
              "      filter: drop-shadow(0px 1px 2px rgba(0, 0, 0, 0.3));\n",
              "      fill: #FFFFFF;\n",
              "    }\n",
              "  </style>\n",
              "\n",
              "    <script>\n",
              "      const buttonEl =\n",
              "        document.querySelector('#df-c196c4ac-e32f-4503-8c35-023bc1ba2ca0 button.colab-df-convert');\n",
              "      buttonEl.style.display =\n",
              "        google.colab.kernel.accessAllowed ? 'block' : 'none';\n",
              "\n",
              "      async function convertToInteractive(key) {\n",
              "        const element = document.querySelector('#df-c196c4ac-e32f-4503-8c35-023bc1ba2ca0');\n",
              "        const dataTable =\n",
              "          await google.colab.kernel.invokeFunction('convertToInteractive',\n",
              "                                                    [key], {});\n",
              "        if (!dataTable) return;\n",
              "\n",
              "        const docLinkHtml = 'Like what you see? Visit the ' +\n",
              "          '<a target=\"_blank\" href=https://colab.research.google.com/notebooks/data_table.ipynb>data table notebook</a>'\n",
              "          + ' to learn more about interactive tables.';\n",
              "        element.innerHTML = '';\n",
              "        dataTable['output_type'] = 'display_data';\n",
              "        await google.colab.output.renderOutput(dataTable, element);\n",
              "        const docLink = document.createElement('div');\n",
              "        docLink.innerHTML = docLinkHtml;\n",
              "        element.appendChild(docLink);\n",
              "      }\n",
              "    </script>\n",
              "  </div>\n",
              "\n",
              "\n",
              "<div id=\"df-8e4225ed-927c-479b-af92-2d9df5eaa027\">\n",
              "  <button class=\"colab-df-quickchart\" onclick=\"quickchart('df-8e4225ed-927c-479b-af92-2d9df5eaa027')\"\n",
              "            title=\"Suggest charts\"\n",
              "            style=\"display:none;\">\n",
              "\n",
              "<svg xmlns=\"http://www.w3.org/2000/svg\" height=\"24px\"viewBox=\"0 0 24 24\"\n",
              "     width=\"24px\">\n",
              "    <g>\n",
              "        <path d=\"M19 3H5c-1.1 0-2 .9-2 2v14c0 1.1.9 2 2 2h14c1.1 0 2-.9 2-2V5c0-1.1-.9-2-2-2zM9 17H7v-7h2v7zm4 0h-2V7h2v10zm4 0h-2v-4h2v4z\"/>\n",
              "    </g>\n",
              "</svg>\n",
              "  </button>\n",
              "\n",
              "<style>\n",
              "  .colab-df-quickchart {\n",
              "      --bg-color: #E8F0FE;\n",
              "      --fill-color: #1967D2;\n",
              "      --hover-bg-color: #E2EBFA;\n",
              "      --hover-fill-color: #174EA6;\n",
              "      --disabled-fill-color: #AAA;\n",
              "      --disabled-bg-color: #DDD;\n",
              "  }\n",
              "\n",
              "  [theme=dark] .colab-df-quickchart {\n",
              "      --bg-color: #3B4455;\n",
              "      --fill-color: #D2E3FC;\n",
              "      --hover-bg-color: #434B5C;\n",
              "      --hover-fill-color: #FFFFFF;\n",
              "      --disabled-bg-color: #3B4455;\n",
              "      --disabled-fill-color: #666;\n",
              "  }\n",
              "\n",
              "  .colab-df-quickchart {\n",
              "    background-color: var(--bg-color);\n",
              "    border: none;\n",
              "    border-radius: 50%;\n",
              "    cursor: pointer;\n",
              "    display: none;\n",
              "    fill: var(--fill-color);\n",
              "    height: 32px;\n",
              "    padding: 0;\n",
              "    width: 32px;\n",
              "  }\n",
              "\n",
              "  .colab-df-quickchart:hover {\n",
              "    background-color: var(--hover-bg-color);\n",
              "    box-shadow: 0 1px 2px rgba(60, 64, 67, 0.3), 0 1px 3px 1px rgba(60, 64, 67, 0.15);\n",
              "    fill: var(--button-hover-fill-color);\n",
              "  }\n",
              "\n",
              "  .colab-df-quickchart-complete:disabled,\n",
              "  .colab-df-quickchart-complete:disabled:hover {\n",
              "    background-color: var(--disabled-bg-color);\n",
              "    fill: var(--disabled-fill-color);\n",
              "    box-shadow: none;\n",
              "  }\n",
              "\n",
              "  .colab-df-spinner {\n",
              "    border: 2px solid var(--fill-color);\n",
              "    border-color: transparent;\n",
              "    border-bottom-color: var(--fill-color);\n",
              "    animation:\n",
              "      spin 1s steps(1) infinite;\n",
              "  }\n",
              "\n",
              "  @keyframes spin {\n",
              "    0% {\n",
              "      border-color: transparent;\n",
              "      border-bottom-color: var(--fill-color);\n",
              "      border-left-color: var(--fill-color);\n",
              "    }\n",
              "    20% {\n",
              "      border-color: transparent;\n",
              "      border-left-color: var(--fill-color);\n",
              "      border-top-color: var(--fill-color);\n",
              "    }\n",
              "    30% {\n",
              "      border-color: transparent;\n",
              "      border-left-color: var(--fill-color);\n",
              "      border-top-color: var(--fill-color);\n",
              "      border-right-color: var(--fill-color);\n",
              "    }\n",
              "    40% {\n",
              "      border-color: transparent;\n",
              "      border-right-color: var(--fill-color);\n",
              "      border-top-color: var(--fill-color);\n",
              "    }\n",
              "    60% {\n",
              "      border-color: transparent;\n",
              "      border-right-color: var(--fill-color);\n",
              "    }\n",
              "    80% {\n",
              "      border-color: transparent;\n",
              "      border-right-color: var(--fill-color);\n",
              "      border-bottom-color: var(--fill-color);\n",
              "    }\n",
              "    90% {\n",
              "      border-color: transparent;\n",
              "      border-bottom-color: var(--fill-color);\n",
              "    }\n",
              "  }\n",
              "</style>\n",
              "\n",
              "  <script>\n",
              "    async function quickchart(key) {\n",
              "      const quickchartButtonEl =\n",
              "        document.querySelector('#' + key + ' button');\n",
              "      quickchartButtonEl.disabled = true;  // To prevent multiple clicks.\n",
              "      quickchartButtonEl.classList.add('colab-df-spinner');\n",
              "      try {\n",
              "        const charts = await google.colab.kernel.invokeFunction(\n",
              "            'suggestCharts', [key], {});\n",
              "      } catch (error) {\n",
              "        console.error('Error during call to suggestCharts:', error);\n",
              "      }\n",
              "      quickchartButtonEl.classList.remove('colab-df-spinner');\n",
              "      quickchartButtonEl.classList.add('colab-df-quickchart-complete');\n",
              "    }\n",
              "    (() => {\n",
              "      let quickchartButtonEl =\n",
              "        document.querySelector('#df-8e4225ed-927c-479b-af92-2d9df5eaa027 button');\n",
              "      quickchartButtonEl.style.display =\n",
              "        google.colab.kernel.accessAllowed ? 'block' : 'none';\n",
              "    })();\n",
              "  </script>\n",
              "</div>\n",
              "    </div>\n",
              "  </div>\n"
            ],
            "application/vnd.google.colaboratory.intrinsic+json": {
              "type": "dataframe",
              "summary": "{\n  \"name\": \"df_futures\",\n  \"rows\": 60,\n  \"fields\": [\n    {\n      \"column\": \"Chave\",\n      \"properties\": {\n        \"dtype\": \"string\",\n        \"num_unique_values\": 60,\n        \"samples\": [\n          \"5048A\",\n          \"13883A\",\n          \"28315A\"\n        ],\n        \"semantic_type\": \"\",\n        \"description\": \"\"\n      }\n    },\n    {\n      \"column\": \"C\\u00f3d. Cliente\",\n      \"properties\": {\n        \"dtype\": \"category\",\n        \"num_unique_values\": 1,\n        \"samples\": [\n          \"Cliente 4\"\n        ],\n        \"semantic_type\": \"\",\n        \"description\": \"\"\n      }\n    },\n    {\n      \"column\": \"Dt. Opera\\u00e7\\u00e3o\",\n      \"properties\": {\n        \"dtype\": \"date\",\n        \"min\": \"2023-02-10 00:00:00\",\n        \"max\": \"2023-12-12 00:00:00\",\n        \"num_unique_values\": 22,\n        \"samples\": [\n          \"2023-02-10 00:00:00\"\n        ],\n        \"semantic_type\": \"\",\n        \"description\": \"\"\n      }\n    },\n    {\n      \"column\": \"Tipo Opera\\u00e7\\u00e3o\",\n      \"properties\": {\n        \"dtype\": \"category\",\n        \"num_unique_values\": 1,\n        \"samples\": [\n          \"V\"\n        ],\n        \"semantic_type\": \"\",\n        \"description\": \"\"\n      }\n    },\n    {\n      \"column\": \"C\\u00f3d. T\\u00edtulo\",\n      \"properties\": {\n        \"dtype\": \"category\",\n        \"num_unique_values\": 1,\n        \"samples\": [\n          \"VALE3\"\n        ],\n        \"semantic_type\": \"\",\n        \"description\": \"\"\n      }\n    },\n    {\n      \"column\": \"C\\u00f3d. Corretora\",\n      \"properties\": {\n        \"dtype\": \"category\",\n        \"num_unique_values\": 1,\n        \"samples\": [\n          \"FUTU\"\n        ],\n        \"semantic_type\": \"\",\n        \"description\": \"\"\n      }\n    },\n    {\n      \"column\": \"Quantidade\",\n      \"properties\": {\n        \"dtype\": \"number\",\n        \"std\": 1700,\n        \"min\": 1,\n        \"max\": 9456,\n        \"num_unique_values\": 54,\n        \"samples\": [\n          232\n        ],\n        \"semantic_type\": \"\",\n        \"description\": \"\"\n      }\n    },\n    {\n      \"column\": \"Pre\\u00e7o\",\n      \"properties\": {\n        \"dtype\": \"number\",\n        \"std\": 4.635551885867122,\n        \"min\": 62.0602380952381,\n        \"max\": 89.03211764705883,\n        \"num_unique_values\": 56,\n        \"samples\": [\n          89.02208695652173\n        ],\n        \"semantic_type\": \"\",\n        \"description\": \"\"\n      }\n    },\n    {\n      \"column\": \"Valor L\\u00edquido\",\n      \"properties\": {\n        \"dtype\": \"number\",\n        \"std\": 114132.03708315465,\n        \"min\": 69.2,\n        \"max\": 626336.22,\n        \"num_unique_values\": 56,\n        \"samples\": [\n          51187.7\n        ],\n        \"semantic_type\": \"\",\n        \"description\": \"\"\n      }\n    },\n    {\n      \"column\": \"Vencimento\",\n      \"properties\": {\n        \"dtype\": \"date\",\n        \"min\": \"2023-04-25 00:00:00\",\n        \"max\": \"2024-02-14 00:00:00\",\n        \"num_unique_values\": 22,\n        \"samples\": [\n          \"2023-04-25 00:00:00\"\n        ],\n        \"semantic_type\": \"\",\n        \"description\": \"\"\n      }\n    },\n    {\n      \"column\": \"Tipo\",\n      \"properties\": {\n        \"dtype\": \"category\",\n        \"num_unique_values\": 1,\n        \"samples\": [\n          \"TE\"\n        ],\n        \"semantic_type\": \"\",\n        \"description\": \"\"\n      }\n    },\n    {\n      \"column\": \"DI\",\n      \"properties\": {\n        \"dtype\": \"number\",\n        \"std\": 0.006008685646118956,\n        \"min\": 0.11607628912783,\n        \"max\": 0.136548661178048,\n        \"num_unique_values\": 23,\n        \"samples\": [\n          0.126668537539419\n        ],\n        \"semantic_type\": \"\",\n        \"description\": \"\"\n      }\n    },\n    {\n      \"column\": \"DU\",\n      \"properties\": {\n        \"dtype\": \"number\",\n        \"std\": 10,\n        \"min\": 21,\n        \"max\": 49,\n        \"num_unique_values\": 12,\n        \"samples\": [\n          24\n        ],\n        \"semantic_type\": \"\",\n        \"description\": \"\"\n      }\n    },\n    {\n      \"column\": \"VP Pre\\u00e7o\",\n      \"properties\": {\n        \"dtype\": \"number\",\n        \"std\": 4.340083724822108,\n        \"min\": 61.396206995973614,\n        \"max\": 86.8438213755867,\n        \"num_unique_values\": 56,\n        \"samples\": [\n          86.8340372266717\n        ],\n        \"semantic_type\": \"\",\n        \"description\": \"\"\n      }\n    }\n  ]\n}"
            }
          },
          "metadata": {},
          "execution_count": 67
        }
      ],
      "source": [
        "df_futures[df_futures['Dt. Operação'] == '2023-07-28']\n",
        "df_futures.sort_values(by='Dt. Operação', ascending=True)"
      ]
    },
    {
      "cell_type": "markdown",
      "metadata": {
        "id": "tJ9WDSeDed9D"
      },
      "source": [
        "### Limpeza\n",
        "\n",
        "Os seguintes dados não são necesários para nossa análise e podem ser removidos completamente:\n",
        "\n",
        "#### Planilha de Compra à vista (df_spot)\n",
        "\n",
        "- Cód. Cliente: já foi filtrado previamente\n",
        "- Dt. Liquidação: não importa, só a de operação\n",
        "- Tipo Operação: todas são C\n",
        "- Cód. Título: já foi filtrado previamente\n",
        "- Cód. Corretora: já foi filtrado previamente\n",
        "- Valor Líquido: não importa, pode ser calculado a partir da quantidade e preço\n",
        "- Tipo: todos são AV\n",
        "\n",
        "#### Planilha de Venda a termo (df_futures)\n",
        "\n",
        "- Cód. Cliente: já foi filtrado previamente\n",
        "- Tipo Operação: todas são V\n",
        "- Cód. Título: já foi filtrado previamente\n",
        "- Cód. Corretora: já foi filtrado previamente\n",
        "- Tipo: todos são TE\n",
        "- Valor Líquido: não importa, pode ser calculado a partir da quantidade e preço"
      ]
    },
    {
      "cell_type": "code",
      "execution_count": 68,
      "metadata": {
        "id": "ckRqhO6SgCr7"
      },
      "outputs": [],
      "source": [
        "df_spot = df_spot.drop(columns=['Cód. Cliente', 'Tipo Operação', 'Cód. Título', 'Cód. Corretora', 'Tipo', 'Valor Líquido', 'Dt. Liquidação'])\n",
        "df_futures = df_futures.drop(columns=['Cód. Cliente', 'Tipo Operação', 'Cód. Título', 'Cód. Corretora', 'Valor Líquido', 'Tipo'])\n",
        "\n",
        "# Vamos adicionar uma chave sintética também para a planilha spot, assim podemos saber que ações a termo estão vinculadas a ações à vista\n",
        "df_spot.insert(0,'Chave','')\n",
        "df_spot['Chave'] = df_spot.index.astype(int)"
      ]
    },
    {
      "cell_type": "code",
      "execution_count": 69,
      "metadata": {
        "id": "xci796tySSBg",
        "outputId": "b7e49a72-93bb-4b55-eb3b-f66089850868",
        "colab": {
          "base_uri": "https://localhost:8080/"
        }
      },
      "outputs": [
        {
          "output_type": "stream",
          "name": "stdout",
          "text": [
            "   Chave Dt. Operação  Quantidade      Preço\n",
            "0      0   2023-07-28         500  68.765780\n",
            "1      1   2023-07-28        1500  68.865820\n",
            "2      2   2023-11-08        2000  70.096110\n",
            "3      3   2023-09-21       10000  67.815595\n",
            "4      4   2023-05-23        2000  66.915825\n",
            "Chave                    int64\n",
            "Dt. Operação    datetime64[ns]\n",
            "Quantidade               int64\n",
            "Preço                  float64\n",
            "dtype: object\n",
            "    Chave Dt. Operação  Quantidade      Preço Vencimento        DI  DU  \\\n",
            "0   5048A   2023-02-10         575  89.022087 2023-04-25  0.136535  49   \n",
            "1   6431A   2023-10-04          53  66.586981 2023-11-03  0.126429  21   \n",
            "2   6432A   2023-10-04          53  66.586981 2023-11-03  0.126429  21   \n",
            "3  13878A   2023-04-20         978  76.640153 2023-06-19  0.136376  40   \n",
            "4  13879A   2023-04-20          22  76.650909 2023-06-19  0.136376  40   \n",
            "\n",
            "    VP Preço  \n",
            "0  86.834037  \n",
            "1  65.929635  \n",
            "2  65.929635  \n",
            "3  75.100591  \n",
            "4  75.111130  \n",
            "Chave                   object\n",
            "Dt. Operação    datetime64[ns]\n",
            "Quantidade               int64\n",
            "Preço                  float64\n",
            "Vencimento      datetime64[ns]\n",
            "DI                     float64\n",
            "DU                       int64\n",
            "VP Preço               float64\n",
            "dtype: object\n"
          ]
        }
      ],
      "source": [
        "print(df_spot.head())\n",
        "print(df_spot.dtypes)\n",
        "print(df_futures.head())\n",
        "print(df_futures.dtypes)"
      ]
    },
    {
      "cell_type": "code",
      "execution_count": 70,
      "metadata": {
        "id": "bCwf8K3GZvNm",
        "outputId": "96cc7a50-ab67-4def-aa63-248e032fe527",
        "colab": {
          "base_uri": "https://localhost:8080/",
          "height": 238
        }
      },
      "outputs": [
        {
          "output_type": "execute_result",
          "data": {
            "text/plain": [
              "    Chave Dt. Operação  Quantidade      Preço Vencimento       DI  DU  \\\n",
              "0  36244A   2023-07-28         499  69.185050 2023-09-26  0.13226  42   \n",
              "1  36245A   2023-07-28           1  69.200000 2023-09-26  0.13226  42   \n",
              "2  36246A   2023-07-28         182  70.224396 2023-09-26  0.13226  42   \n",
              "3  36247A   2023-07-28         818  70.234340 2023-09-26  0.13226  42   \n",
              "4  36248A   2023-07-28         599  70.354257 2023-09-26  0.13226  42   \n",
              "5  36249A   2023-07-28         901  70.364262 2023-09-26  0.13226  42   \n",
              "\n",
              "    VP Preço  \n",
              "0  67.767460  \n",
              "1  67.782104  \n",
              "2  68.785510  \n",
              "3  68.795250  \n",
              "4  68.912710  \n",
              "5  68.922510  "
            ],
            "text/html": [
              "\n",
              "  <div id=\"df-ff24d8f4-bdec-48c1-8308-e588293d2975\" class=\"colab-df-container\">\n",
              "    <div>\n",
              "<style scoped>\n",
              "    .dataframe tbody tr th:only-of-type {\n",
              "        vertical-align: middle;\n",
              "    }\n",
              "\n",
              "    .dataframe tbody tr th {\n",
              "        vertical-align: top;\n",
              "    }\n",
              "\n",
              "    .dataframe thead th {\n",
              "        text-align: right;\n",
              "    }\n",
              "</style>\n",
              "<table border=\"1\" class=\"dataframe\">\n",
              "  <thead>\n",
              "    <tr style=\"text-align: right;\">\n",
              "      <th></th>\n",
              "      <th>Chave</th>\n",
              "      <th>Dt. Operação</th>\n",
              "      <th>Quantidade</th>\n",
              "      <th>Preço</th>\n",
              "      <th>Vencimento</th>\n",
              "      <th>DI</th>\n",
              "      <th>DU</th>\n",
              "      <th>VP Preço</th>\n",
              "    </tr>\n",
              "  </thead>\n",
              "  <tbody>\n",
              "    <tr>\n",
              "      <th>0</th>\n",
              "      <td>36244A</td>\n",
              "      <td>2023-07-28</td>\n",
              "      <td>499</td>\n",
              "      <td>69.185050</td>\n",
              "      <td>2023-09-26</td>\n",
              "      <td>0.13226</td>\n",
              "      <td>42</td>\n",
              "      <td>67.767460</td>\n",
              "    </tr>\n",
              "    <tr>\n",
              "      <th>1</th>\n",
              "      <td>36245A</td>\n",
              "      <td>2023-07-28</td>\n",
              "      <td>1</td>\n",
              "      <td>69.200000</td>\n",
              "      <td>2023-09-26</td>\n",
              "      <td>0.13226</td>\n",
              "      <td>42</td>\n",
              "      <td>67.782104</td>\n",
              "    </tr>\n",
              "    <tr>\n",
              "      <th>2</th>\n",
              "      <td>36246A</td>\n",
              "      <td>2023-07-28</td>\n",
              "      <td>182</td>\n",
              "      <td>70.224396</td>\n",
              "      <td>2023-09-26</td>\n",
              "      <td>0.13226</td>\n",
              "      <td>42</td>\n",
              "      <td>68.785510</td>\n",
              "    </tr>\n",
              "    <tr>\n",
              "      <th>3</th>\n",
              "      <td>36247A</td>\n",
              "      <td>2023-07-28</td>\n",
              "      <td>818</td>\n",
              "      <td>70.234340</td>\n",
              "      <td>2023-09-26</td>\n",
              "      <td>0.13226</td>\n",
              "      <td>42</td>\n",
              "      <td>68.795250</td>\n",
              "    </tr>\n",
              "    <tr>\n",
              "      <th>4</th>\n",
              "      <td>36248A</td>\n",
              "      <td>2023-07-28</td>\n",
              "      <td>599</td>\n",
              "      <td>70.354257</td>\n",
              "      <td>2023-09-26</td>\n",
              "      <td>0.13226</td>\n",
              "      <td>42</td>\n",
              "      <td>68.912710</td>\n",
              "    </tr>\n",
              "    <tr>\n",
              "      <th>5</th>\n",
              "      <td>36249A</td>\n",
              "      <td>2023-07-28</td>\n",
              "      <td>901</td>\n",
              "      <td>70.364262</td>\n",
              "      <td>2023-09-26</td>\n",
              "      <td>0.13226</td>\n",
              "      <td>42</td>\n",
              "      <td>68.922510</td>\n",
              "    </tr>\n",
              "  </tbody>\n",
              "</table>\n",
              "</div>\n",
              "    <div class=\"colab-df-buttons\">\n",
              "\n",
              "  <div class=\"colab-df-container\">\n",
              "    <button class=\"colab-df-convert\" onclick=\"convertToInteractive('df-ff24d8f4-bdec-48c1-8308-e588293d2975')\"\n",
              "            title=\"Convert this dataframe to an interactive table.\"\n",
              "            style=\"display:none;\">\n",
              "\n",
              "  <svg xmlns=\"http://www.w3.org/2000/svg\" height=\"24px\" viewBox=\"0 -960 960 960\">\n",
              "    <path d=\"M120-120v-720h720v720H120Zm60-500h600v-160H180v160Zm220 220h160v-160H400v160Zm0 220h160v-160H400v160ZM180-400h160v-160H180v160Zm440 0h160v-160H620v160ZM180-180h160v-160H180v160Zm440 0h160v-160H620v160Z\"/>\n",
              "  </svg>\n",
              "    </button>\n",
              "\n",
              "  <style>\n",
              "    .colab-df-container {\n",
              "      display:flex;\n",
              "      gap: 12px;\n",
              "    }\n",
              "\n",
              "    .colab-df-convert {\n",
              "      background-color: #E8F0FE;\n",
              "      border: none;\n",
              "      border-radius: 50%;\n",
              "      cursor: pointer;\n",
              "      display: none;\n",
              "      fill: #1967D2;\n",
              "      height: 32px;\n",
              "      padding: 0 0 0 0;\n",
              "      width: 32px;\n",
              "    }\n",
              "\n",
              "    .colab-df-convert:hover {\n",
              "      background-color: #E2EBFA;\n",
              "      box-shadow: 0px 1px 2px rgba(60, 64, 67, 0.3), 0px 1px 3px 1px rgba(60, 64, 67, 0.15);\n",
              "      fill: #174EA6;\n",
              "    }\n",
              "\n",
              "    .colab-df-buttons div {\n",
              "      margin-bottom: 4px;\n",
              "    }\n",
              "\n",
              "    [theme=dark] .colab-df-convert {\n",
              "      background-color: #3B4455;\n",
              "      fill: #D2E3FC;\n",
              "    }\n",
              "\n",
              "    [theme=dark] .colab-df-convert:hover {\n",
              "      background-color: #434B5C;\n",
              "      box-shadow: 0px 1px 3px 1px rgba(0, 0, 0, 0.15);\n",
              "      filter: drop-shadow(0px 1px 2px rgba(0, 0, 0, 0.3));\n",
              "      fill: #FFFFFF;\n",
              "    }\n",
              "  </style>\n",
              "\n",
              "    <script>\n",
              "      const buttonEl =\n",
              "        document.querySelector('#df-ff24d8f4-bdec-48c1-8308-e588293d2975 button.colab-df-convert');\n",
              "      buttonEl.style.display =\n",
              "        google.colab.kernel.accessAllowed ? 'block' : 'none';\n",
              "\n",
              "      async function convertToInteractive(key) {\n",
              "        const element = document.querySelector('#df-ff24d8f4-bdec-48c1-8308-e588293d2975');\n",
              "        const dataTable =\n",
              "          await google.colab.kernel.invokeFunction('convertToInteractive',\n",
              "                                                    [key], {});\n",
              "        if (!dataTable) return;\n",
              "\n",
              "        const docLinkHtml = 'Like what you see? Visit the ' +\n",
              "          '<a target=\"_blank\" href=https://colab.research.google.com/notebooks/data_table.ipynb>data table notebook</a>'\n",
              "          + ' to learn more about interactive tables.';\n",
              "        element.innerHTML = '';\n",
              "        dataTable['output_type'] = 'display_data';\n",
              "        await google.colab.output.renderOutput(dataTable, element);\n",
              "        const docLink = document.createElement('div');\n",
              "        docLink.innerHTML = docLinkHtml;\n",
              "        element.appendChild(docLink);\n",
              "      }\n",
              "    </script>\n",
              "  </div>\n",
              "\n",
              "\n",
              "<div id=\"df-fc030aa4-6c0b-4657-8b41-7274274b7acd\">\n",
              "  <button class=\"colab-df-quickchart\" onclick=\"quickchart('df-fc030aa4-6c0b-4657-8b41-7274274b7acd')\"\n",
              "            title=\"Suggest charts\"\n",
              "            style=\"display:none;\">\n",
              "\n",
              "<svg xmlns=\"http://www.w3.org/2000/svg\" height=\"24px\"viewBox=\"0 0 24 24\"\n",
              "     width=\"24px\">\n",
              "    <g>\n",
              "        <path d=\"M19 3H5c-1.1 0-2 .9-2 2v14c0 1.1.9 2 2 2h14c1.1 0 2-.9 2-2V5c0-1.1-.9-2-2-2zM9 17H7v-7h2v7zm4 0h-2V7h2v10zm4 0h-2v-4h2v4z\"/>\n",
              "    </g>\n",
              "</svg>\n",
              "  </button>\n",
              "\n",
              "<style>\n",
              "  .colab-df-quickchart {\n",
              "      --bg-color: #E8F0FE;\n",
              "      --fill-color: #1967D2;\n",
              "      --hover-bg-color: #E2EBFA;\n",
              "      --hover-fill-color: #174EA6;\n",
              "      --disabled-fill-color: #AAA;\n",
              "      --disabled-bg-color: #DDD;\n",
              "  }\n",
              "\n",
              "  [theme=dark] .colab-df-quickchart {\n",
              "      --bg-color: #3B4455;\n",
              "      --fill-color: #D2E3FC;\n",
              "      --hover-bg-color: #434B5C;\n",
              "      --hover-fill-color: #FFFFFF;\n",
              "      --disabled-bg-color: #3B4455;\n",
              "      --disabled-fill-color: #666;\n",
              "  }\n",
              "\n",
              "  .colab-df-quickchart {\n",
              "    background-color: var(--bg-color);\n",
              "    border: none;\n",
              "    border-radius: 50%;\n",
              "    cursor: pointer;\n",
              "    display: none;\n",
              "    fill: var(--fill-color);\n",
              "    height: 32px;\n",
              "    padding: 0;\n",
              "    width: 32px;\n",
              "  }\n",
              "\n",
              "  .colab-df-quickchart:hover {\n",
              "    background-color: var(--hover-bg-color);\n",
              "    box-shadow: 0 1px 2px rgba(60, 64, 67, 0.3), 0 1px 3px 1px rgba(60, 64, 67, 0.15);\n",
              "    fill: var(--button-hover-fill-color);\n",
              "  }\n",
              "\n",
              "  .colab-df-quickchart-complete:disabled,\n",
              "  .colab-df-quickchart-complete:disabled:hover {\n",
              "    background-color: var(--disabled-bg-color);\n",
              "    fill: var(--disabled-fill-color);\n",
              "    box-shadow: none;\n",
              "  }\n",
              "\n",
              "  .colab-df-spinner {\n",
              "    border: 2px solid var(--fill-color);\n",
              "    border-color: transparent;\n",
              "    border-bottom-color: var(--fill-color);\n",
              "    animation:\n",
              "      spin 1s steps(1) infinite;\n",
              "  }\n",
              "\n",
              "  @keyframes spin {\n",
              "    0% {\n",
              "      border-color: transparent;\n",
              "      border-bottom-color: var(--fill-color);\n",
              "      border-left-color: var(--fill-color);\n",
              "    }\n",
              "    20% {\n",
              "      border-color: transparent;\n",
              "      border-left-color: var(--fill-color);\n",
              "      border-top-color: var(--fill-color);\n",
              "    }\n",
              "    30% {\n",
              "      border-color: transparent;\n",
              "      border-left-color: var(--fill-color);\n",
              "      border-top-color: var(--fill-color);\n",
              "      border-right-color: var(--fill-color);\n",
              "    }\n",
              "    40% {\n",
              "      border-color: transparent;\n",
              "      border-right-color: var(--fill-color);\n",
              "      border-top-color: var(--fill-color);\n",
              "    }\n",
              "    60% {\n",
              "      border-color: transparent;\n",
              "      border-right-color: var(--fill-color);\n",
              "    }\n",
              "    80% {\n",
              "      border-color: transparent;\n",
              "      border-right-color: var(--fill-color);\n",
              "      border-bottom-color: var(--fill-color);\n",
              "    }\n",
              "    90% {\n",
              "      border-color: transparent;\n",
              "      border-bottom-color: var(--fill-color);\n",
              "    }\n",
              "  }\n",
              "</style>\n",
              "\n",
              "  <script>\n",
              "    async function quickchart(key) {\n",
              "      const quickchartButtonEl =\n",
              "        document.querySelector('#' + key + ' button');\n",
              "      quickchartButtonEl.disabled = true;  // To prevent multiple clicks.\n",
              "      quickchartButtonEl.classList.add('colab-df-spinner');\n",
              "      try {\n",
              "        const charts = await google.colab.kernel.invokeFunction(\n",
              "            'suggestCharts', [key], {});\n",
              "      } catch (error) {\n",
              "        console.error('Error during call to suggestCharts:', error);\n",
              "      }\n",
              "      quickchartButtonEl.classList.remove('colab-df-spinner');\n",
              "      quickchartButtonEl.classList.add('colab-df-quickchart-complete');\n",
              "    }\n",
              "    (() => {\n",
              "      let quickchartButtonEl =\n",
              "        document.querySelector('#df-fc030aa4-6c0b-4657-8b41-7274274b7acd button');\n",
              "      quickchartButtonEl.style.display =\n",
              "        google.colab.kernel.accessAllowed ? 'block' : 'none';\n",
              "    })();\n",
              "  </script>\n",
              "</div>\n",
              "    </div>\n",
              "  </div>\n"
            ],
            "application/vnd.google.colaboratory.intrinsic+json": {
              "type": "dataframe",
              "variable_name": "df_futures",
              "summary": "{\n  \"name\": \"df_futures\",\n  \"rows\": 6,\n  \"fields\": [\n    {\n      \"column\": \"Chave\",\n      \"properties\": {\n        \"dtype\": \"string\",\n        \"num_unique_values\": 6,\n        \"samples\": [\n          \"36244A\",\n          \"36245A\",\n          \"36249A\"\n        ],\n        \"semantic_type\": \"\",\n        \"description\": \"\"\n      }\n    },\n    {\n      \"column\": \"Dt. Opera\\u00e7\\u00e3o\",\n      \"properties\": {\n        \"dtype\": \"date\",\n        \"min\": \"2023-07-28 00:00:00\",\n        \"max\": \"2023-07-28 00:00:00\",\n        \"num_unique_values\": 1,\n        \"samples\": [\n          \"2023-07-28 00:00:00\"\n        ],\n        \"semantic_type\": \"\",\n        \"description\": \"\"\n      }\n    },\n    {\n      \"column\": \"Quantidade\",\n      \"properties\": {\n        \"dtype\": \"number\",\n        \"std\": 352,\n        \"min\": 1,\n        \"max\": 901,\n        \"num_unique_values\": 6,\n        \"samples\": [\n          499\n        ],\n        \"semantic_type\": \"\",\n        \"description\": \"\"\n      }\n    },\n    {\n      \"column\": \"Pre\\u00e7o\",\n      \"properties\": {\n        \"dtype\": \"number\",\n        \"std\": 0.571955800935823,\n        \"min\": 69.1850501002004,\n        \"max\": 70.36426193118757,\n        \"num_unique_values\": 6,\n        \"samples\": [\n          69.1850501002004\n        ],\n        \"semantic_type\": \"\",\n        \"description\": \"\"\n      }\n    },\n    {\n      \"column\": \"Vencimento\",\n      \"properties\": {\n        \"dtype\": \"date\",\n        \"min\": \"2023-09-26 00:00:00\",\n        \"max\": \"2023-09-26 00:00:00\",\n        \"num_unique_values\": 1,\n        \"samples\": [\n          \"2023-09-26 00:00:00\"\n        ],\n        \"semantic_type\": \"\",\n        \"description\": \"\"\n      }\n    },\n    {\n      \"column\": \"DI\",\n      \"properties\": {\n        \"dtype\": \"number\",\n        \"std\": 0.0,\n        \"min\": 0.132260349622083,\n        \"max\": 0.132260349622083,\n        \"num_unique_values\": 1,\n        \"samples\": [\n          0.132260349622083\n        ],\n        \"semantic_type\": \"\",\n        \"description\": \"\"\n      }\n    },\n    {\n      \"column\": \"DU\",\n      \"properties\": {\n        \"dtype\": \"number\",\n        \"std\": 0,\n        \"min\": 42,\n        \"max\": 42,\n        \"num_unique_values\": 1,\n        \"samples\": [\n          42\n        ],\n        \"semantic_type\": \"\",\n        \"description\": \"\"\n      }\n    },\n    {\n      \"column\": \"VP Pre\\u00e7o\",\n      \"properties\": {\n        \"dtype\": \"number\",\n        \"std\": 0.5602365246147096,\n        \"min\": 67.76746028279173,\n        \"max\": 68.92251026549297,\n        \"num_unique_values\": 6,\n        \"samples\": [\n          67.76746028279173\n        ],\n        \"semantic_type\": \"\",\n        \"description\": \"\"\n      }\n    }\n  ]\n}"
            }
          },
          "metadata": {},
          "execution_count": 70
        }
      ],
      "source": [
        "# Filtrar a data de operação para 27 de junho de 2023, para testes iniciais\n",
        "df_futures = df_futures[df_futures['Dt. Operação'] == '2023-07-28']\n",
        "df_futures.reset_index(drop=True, inplace=True)\n",
        "df_futures"
      ]
    },
    {
      "cell_type": "code",
      "execution_count": 71,
      "metadata": {
        "id": "HaCigWKVZ7cX",
        "outputId": "45e842d3-e4c7-43b9-9b66-63df66645430",
        "colab": {
          "base_uri": "https://localhost:8080/",
          "height": 175
        }
      },
      "outputs": [
        {
          "output_type": "execute_result",
          "data": {
            "text/plain": [
              "   Chave Dt. Operação  Quantidade     Preço\n",
              "0      0   2023-07-28         500  68.76578\n",
              "1      1   2023-07-28        1500  68.86582\n",
              "2     12   2023-07-28         500  67.71556\n",
              "3     25   2023-07-28         500  68.71578"
            ],
            "text/html": [
              "\n",
              "  <div id=\"df-2b85097a-f325-45d8-9cdc-2b5d0a073bf2\" class=\"colab-df-container\">\n",
              "    <div>\n",
              "<style scoped>\n",
              "    .dataframe tbody tr th:only-of-type {\n",
              "        vertical-align: middle;\n",
              "    }\n",
              "\n",
              "    .dataframe tbody tr th {\n",
              "        vertical-align: top;\n",
              "    }\n",
              "\n",
              "    .dataframe thead th {\n",
              "        text-align: right;\n",
              "    }\n",
              "</style>\n",
              "<table border=\"1\" class=\"dataframe\">\n",
              "  <thead>\n",
              "    <tr style=\"text-align: right;\">\n",
              "      <th></th>\n",
              "      <th>Chave</th>\n",
              "      <th>Dt. Operação</th>\n",
              "      <th>Quantidade</th>\n",
              "      <th>Preço</th>\n",
              "    </tr>\n",
              "  </thead>\n",
              "  <tbody>\n",
              "    <tr>\n",
              "      <th>0</th>\n",
              "      <td>0</td>\n",
              "      <td>2023-07-28</td>\n",
              "      <td>500</td>\n",
              "      <td>68.76578</td>\n",
              "    </tr>\n",
              "    <tr>\n",
              "      <th>1</th>\n",
              "      <td>1</td>\n",
              "      <td>2023-07-28</td>\n",
              "      <td>1500</td>\n",
              "      <td>68.86582</td>\n",
              "    </tr>\n",
              "    <tr>\n",
              "      <th>2</th>\n",
              "      <td>12</td>\n",
              "      <td>2023-07-28</td>\n",
              "      <td>500</td>\n",
              "      <td>67.71556</td>\n",
              "    </tr>\n",
              "    <tr>\n",
              "      <th>3</th>\n",
              "      <td>25</td>\n",
              "      <td>2023-07-28</td>\n",
              "      <td>500</td>\n",
              "      <td>68.71578</td>\n",
              "    </tr>\n",
              "  </tbody>\n",
              "</table>\n",
              "</div>\n",
              "    <div class=\"colab-df-buttons\">\n",
              "\n",
              "  <div class=\"colab-df-container\">\n",
              "    <button class=\"colab-df-convert\" onclick=\"convertToInteractive('df-2b85097a-f325-45d8-9cdc-2b5d0a073bf2')\"\n",
              "            title=\"Convert this dataframe to an interactive table.\"\n",
              "            style=\"display:none;\">\n",
              "\n",
              "  <svg xmlns=\"http://www.w3.org/2000/svg\" height=\"24px\" viewBox=\"0 -960 960 960\">\n",
              "    <path d=\"M120-120v-720h720v720H120Zm60-500h600v-160H180v160Zm220 220h160v-160H400v160Zm0 220h160v-160H400v160ZM180-400h160v-160H180v160Zm440 0h160v-160H620v160ZM180-180h160v-160H180v160Zm440 0h160v-160H620v160Z\"/>\n",
              "  </svg>\n",
              "    </button>\n",
              "\n",
              "  <style>\n",
              "    .colab-df-container {\n",
              "      display:flex;\n",
              "      gap: 12px;\n",
              "    }\n",
              "\n",
              "    .colab-df-convert {\n",
              "      background-color: #E8F0FE;\n",
              "      border: none;\n",
              "      border-radius: 50%;\n",
              "      cursor: pointer;\n",
              "      display: none;\n",
              "      fill: #1967D2;\n",
              "      height: 32px;\n",
              "      padding: 0 0 0 0;\n",
              "      width: 32px;\n",
              "    }\n",
              "\n",
              "    .colab-df-convert:hover {\n",
              "      background-color: #E2EBFA;\n",
              "      box-shadow: 0px 1px 2px rgba(60, 64, 67, 0.3), 0px 1px 3px 1px rgba(60, 64, 67, 0.15);\n",
              "      fill: #174EA6;\n",
              "    }\n",
              "\n",
              "    .colab-df-buttons div {\n",
              "      margin-bottom: 4px;\n",
              "    }\n",
              "\n",
              "    [theme=dark] .colab-df-convert {\n",
              "      background-color: #3B4455;\n",
              "      fill: #D2E3FC;\n",
              "    }\n",
              "\n",
              "    [theme=dark] .colab-df-convert:hover {\n",
              "      background-color: #434B5C;\n",
              "      box-shadow: 0px 1px 3px 1px rgba(0, 0, 0, 0.15);\n",
              "      filter: drop-shadow(0px 1px 2px rgba(0, 0, 0, 0.3));\n",
              "      fill: #FFFFFF;\n",
              "    }\n",
              "  </style>\n",
              "\n",
              "    <script>\n",
              "      const buttonEl =\n",
              "        document.querySelector('#df-2b85097a-f325-45d8-9cdc-2b5d0a073bf2 button.colab-df-convert');\n",
              "      buttonEl.style.display =\n",
              "        google.colab.kernel.accessAllowed ? 'block' : 'none';\n",
              "\n",
              "      async function convertToInteractive(key) {\n",
              "        const element = document.querySelector('#df-2b85097a-f325-45d8-9cdc-2b5d0a073bf2');\n",
              "        const dataTable =\n",
              "          await google.colab.kernel.invokeFunction('convertToInteractive',\n",
              "                                                    [key], {});\n",
              "        if (!dataTable) return;\n",
              "\n",
              "        const docLinkHtml = 'Like what you see? Visit the ' +\n",
              "          '<a target=\"_blank\" href=https://colab.research.google.com/notebooks/data_table.ipynb>data table notebook</a>'\n",
              "          + ' to learn more about interactive tables.';\n",
              "        element.innerHTML = '';\n",
              "        dataTable['output_type'] = 'display_data';\n",
              "        await google.colab.output.renderOutput(dataTable, element);\n",
              "        const docLink = document.createElement('div');\n",
              "        docLink.innerHTML = docLinkHtml;\n",
              "        element.appendChild(docLink);\n",
              "      }\n",
              "    </script>\n",
              "  </div>\n",
              "\n",
              "\n",
              "<div id=\"df-aed7c997-44a9-46fc-ac0f-b5f404a6f069\">\n",
              "  <button class=\"colab-df-quickchart\" onclick=\"quickchart('df-aed7c997-44a9-46fc-ac0f-b5f404a6f069')\"\n",
              "            title=\"Suggest charts\"\n",
              "            style=\"display:none;\">\n",
              "\n",
              "<svg xmlns=\"http://www.w3.org/2000/svg\" height=\"24px\"viewBox=\"0 0 24 24\"\n",
              "     width=\"24px\">\n",
              "    <g>\n",
              "        <path d=\"M19 3H5c-1.1 0-2 .9-2 2v14c0 1.1.9 2 2 2h14c1.1 0 2-.9 2-2V5c0-1.1-.9-2-2-2zM9 17H7v-7h2v7zm4 0h-2V7h2v10zm4 0h-2v-4h2v4z\"/>\n",
              "    </g>\n",
              "</svg>\n",
              "  </button>\n",
              "\n",
              "<style>\n",
              "  .colab-df-quickchart {\n",
              "      --bg-color: #E8F0FE;\n",
              "      --fill-color: #1967D2;\n",
              "      --hover-bg-color: #E2EBFA;\n",
              "      --hover-fill-color: #174EA6;\n",
              "      --disabled-fill-color: #AAA;\n",
              "      --disabled-bg-color: #DDD;\n",
              "  }\n",
              "\n",
              "  [theme=dark] .colab-df-quickchart {\n",
              "      --bg-color: #3B4455;\n",
              "      --fill-color: #D2E3FC;\n",
              "      --hover-bg-color: #434B5C;\n",
              "      --hover-fill-color: #FFFFFF;\n",
              "      --disabled-bg-color: #3B4455;\n",
              "      --disabled-fill-color: #666;\n",
              "  }\n",
              "\n",
              "  .colab-df-quickchart {\n",
              "    background-color: var(--bg-color);\n",
              "    border: none;\n",
              "    border-radius: 50%;\n",
              "    cursor: pointer;\n",
              "    display: none;\n",
              "    fill: var(--fill-color);\n",
              "    height: 32px;\n",
              "    padding: 0;\n",
              "    width: 32px;\n",
              "  }\n",
              "\n",
              "  .colab-df-quickchart:hover {\n",
              "    background-color: var(--hover-bg-color);\n",
              "    box-shadow: 0 1px 2px rgba(60, 64, 67, 0.3), 0 1px 3px 1px rgba(60, 64, 67, 0.15);\n",
              "    fill: var(--button-hover-fill-color);\n",
              "  }\n",
              "\n",
              "  .colab-df-quickchart-complete:disabled,\n",
              "  .colab-df-quickchart-complete:disabled:hover {\n",
              "    background-color: var(--disabled-bg-color);\n",
              "    fill: var(--disabled-fill-color);\n",
              "    box-shadow: none;\n",
              "  }\n",
              "\n",
              "  .colab-df-spinner {\n",
              "    border: 2px solid var(--fill-color);\n",
              "    border-color: transparent;\n",
              "    border-bottom-color: var(--fill-color);\n",
              "    animation:\n",
              "      spin 1s steps(1) infinite;\n",
              "  }\n",
              "\n",
              "  @keyframes spin {\n",
              "    0% {\n",
              "      border-color: transparent;\n",
              "      border-bottom-color: var(--fill-color);\n",
              "      border-left-color: var(--fill-color);\n",
              "    }\n",
              "    20% {\n",
              "      border-color: transparent;\n",
              "      border-left-color: var(--fill-color);\n",
              "      border-top-color: var(--fill-color);\n",
              "    }\n",
              "    30% {\n",
              "      border-color: transparent;\n",
              "      border-left-color: var(--fill-color);\n",
              "      border-top-color: var(--fill-color);\n",
              "      border-right-color: var(--fill-color);\n",
              "    }\n",
              "    40% {\n",
              "      border-color: transparent;\n",
              "      border-right-color: var(--fill-color);\n",
              "      border-top-color: var(--fill-color);\n",
              "    }\n",
              "    60% {\n",
              "      border-color: transparent;\n",
              "      border-right-color: var(--fill-color);\n",
              "    }\n",
              "    80% {\n",
              "      border-color: transparent;\n",
              "      border-right-color: var(--fill-color);\n",
              "      border-bottom-color: var(--fill-color);\n",
              "    }\n",
              "    90% {\n",
              "      border-color: transparent;\n",
              "      border-bottom-color: var(--fill-color);\n",
              "    }\n",
              "  }\n",
              "</style>\n",
              "\n",
              "  <script>\n",
              "    async function quickchart(key) {\n",
              "      const quickchartButtonEl =\n",
              "        document.querySelector('#' + key + ' button');\n",
              "      quickchartButtonEl.disabled = true;  // To prevent multiple clicks.\n",
              "      quickchartButtonEl.classList.add('colab-df-spinner');\n",
              "      try {\n",
              "        const charts = await google.colab.kernel.invokeFunction(\n",
              "            'suggestCharts', [key], {});\n",
              "      } catch (error) {\n",
              "        console.error('Error during call to suggestCharts:', error);\n",
              "      }\n",
              "      quickchartButtonEl.classList.remove('colab-df-spinner');\n",
              "      quickchartButtonEl.classList.add('colab-df-quickchart-complete');\n",
              "    }\n",
              "    (() => {\n",
              "      let quickchartButtonEl =\n",
              "        document.querySelector('#df-aed7c997-44a9-46fc-ac0f-b5f404a6f069 button');\n",
              "      quickchartButtonEl.style.display =\n",
              "        google.colab.kernel.accessAllowed ? 'block' : 'none';\n",
              "    })();\n",
              "  </script>\n",
              "</div>\n",
              "    </div>\n",
              "  </div>\n"
            ],
            "application/vnd.google.colaboratory.intrinsic+json": {
              "type": "dataframe",
              "variable_name": "df_spot",
              "summary": "{\n  \"name\": \"df_spot\",\n  \"rows\": 4,\n  \"fields\": [\n    {\n      \"column\": \"Chave\",\n      \"properties\": {\n        \"dtype\": \"number\",\n        \"std\": 11,\n        \"min\": 0,\n        \"max\": 25,\n        \"num_unique_values\": 4,\n        \"samples\": [\n          1,\n          25,\n          0\n        ],\n        \"semantic_type\": \"\",\n        \"description\": \"\"\n      }\n    },\n    {\n      \"column\": \"Dt. Opera\\u00e7\\u00e3o\",\n      \"properties\": {\n        \"dtype\": \"date\",\n        \"min\": \"2023-07-28 00:00:00\",\n        \"max\": \"2023-07-28 00:00:00\",\n        \"num_unique_values\": 1,\n        \"samples\": [\n          \"2023-07-28 00:00:00\"\n        ],\n        \"semantic_type\": \"\",\n        \"description\": \"\"\n      }\n    },\n    {\n      \"column\": \"Quantidade\",\n      \"properties\": {\n        \"dtype\": \"number\",\n        \"std\": 500,\n        \"min\": 500,\n        \"max\": 1500,\n        \"num_unique_values\": 2,\n        \"samples\": [\n          1500\n        ],\n        \"semantic_type\": \"\",\n        \"description\": \"\"\n      }\n    },\n    {\n      \"column\": \"Pre\\u00e7o\",\n      \"properties\": {\n        \"dtype\": \"number\",\n        \"std\": 0.5370847363002104,\n        \"min\": 67.71556,\n        \"max\": 68.86582,\n        \"num_unique_values\": 4,\n        \"samples\": [\n          68.86582\n        ],\n        \"semantic_type\": \"\",\n        \"description\": \"\"\n      }\n    }\n  ]\n}"
            }
          },
          "metadata": {},
          "execution_count": 71
        }
      ],
      "source": [
        "df_spot = df_spot[df_spot['Dt. Operação'] == '2023-07-28']\n",
        "df_spot.reset_index(drop=True, inplace=True)\n",
        "df_spot"
      ]
    },
    {
      "cell_type": "markdown",
      "metadata": {
        "id": "43Ddqkx2gHfs"
      },
      "source": [
        "## Normalização e Features\n",
        "\n",
        "Não podemos normalizar os dados existentes, pois eles devem ser exatos por um ou outro motivo:\n",
        "\n",
        "- Se modificarmos as datas de vencimento ou de liquidação, isso tornará difícil estabelecer uma regra de que a liquidação tem que ocorrer antes do vencimento.\n",
        "\n",
        "- Se modificarmos a taxa DI, será difícil construir a curva do valor descontado.\n",
        "\n",
        "- Se normalizarmos a quantidade ou o preço, não conseguiremos estabelecer o valor exato de ações que deverão ser vinculadas por um valor específico e o parceiro precisa dessa informação.\n",
        "\n",
        "As features serão, portanto:\n",
        "\n",
        "- Chave das ações à vista e a termo\n",
        "- Quandidade das ações disponíveis à vista e a termo\n",
        "- Data de liquidação da ação à vista\n",
        "- Data de vencimento da ação a termo\n",
        "- Taxa DI da ação a termo"
      ]
    },
    {
      "cell_type": "markdown",
      "metadata": {
        "id": "YeKoBHK2W-uI"
      },
      "source": [
        "# 2 - Estabelecimento de Critérios e Função de Recompensa:\n",
        "\n",
        "Estabeleçam critérios claros para definir um episódio.\n",
        "Descrevam detalhadamente a função de recompensa.\n",
        "Desenvolvam uma variável de classe \"env\" para iniciar as simulações durante o treinamento."
      ]
    },
    {
      "cell_type": "markdown",
      "metadata": {
        "id": "IEi4I1AUgVoc"
      },
      "source": [
        "## Criar o Ambiente no Gym"
      ]
    },
    {
      "cell_type": "code",
      "execution_count": 72,
      "metadata": {
        "id": "JazcNzC0cSLo"
      },
      "outputs": [],
      "source": [
        "import gym # v0.25.2\n",
        "from gym import spaces\n",
        "import numpy as np\n",
        "\n",
        "class CashAndCarryArbitrageEnv(gym.Env):\n",
        "    \"\"\"Ambiente personalizado para Arbitragem de Cash and Carry usando a biblioteca gym\"\"\"\n",
        "\n",
        "    def __init__(self, df_futures=pd.DataFrame(), df_spot=pd.DataFrame(), max_spot_stocks=20, max_cycles=5):\n",
        "        super(CashAndCarryArbitrageEnv, self).__init__()\n",
        "\n",
        "        # Copiar dataframes de referência\n",
        "        self.df_futures = df_futures.copy()\n",
        "        self.df_spot = df_spot.copy()\n",
        "        # Número máximo de ações à vista\n",
        "        self.max_spot_stocks = max_spot_stocks\n",
        "        self.max_cycles = max_cycles\n",
        "\n",
        "        # Definir espaço de ação\n",
        "        # 0: combinar,\n",
        "        # 1: descombinar,\n",
        "        self.action_space = spaces.Discrete(2)\n",
        "\n",
        "        # Definir espaço de observação\n",
        "        self.observation_space = spaces.Dict(\n",
        "            {\n",
        "                \"future_index\": spaces.Discrete(len(self.df_futures)), # Indice da ação a termo atualmente sob análise\n",
        "                \"spot_index\": spaces.Discrete(len(self.df_spot)), # Indice da ação a vista atualmente sob análise\n",
        "                \"spot_price\": spaces.Box(low=0, high=np.inf, shape=(1,), dtype=np.float32), # Preço do spot atual\n",
        "                \"future_price_pv\": spaces.Box(low=0, high=np.inf, shape=(1,), dtype=np.float32), # Preço trazido para o presente do futuro\n",
        "                \"profit_ratio\": spaces.Box(low=0, high=np.inf, shape=(1,), dtype=np.float32), # Rentabilidade (Preço do spot / Preço presente do futuro)\n",
        "                \"future_quantity\": spaces.Discrete(self.df_futures['Quantidade'].max() + 1), # Quantidade disponível para combinar do termo atual\n",
        "                \"available_future_stocks\": spaces.Discrete(self.df_futures['Quantidade'].sum() + 1), # Quantidade de acoes future disponíveis\n",
        "                \"available_spot_stocks\": spaces.Box(low=0, high=np.inf, shape=(self.max_spot_stocks,), dtype=np.int64), # Quantidade de ações spot disponíveis para esse termo\n",
        "                \"selected_spot_stocks\": spaces.Box(low=0, high=np.inf, shape=(self.max_spot_stocks,), dtype=np.int64), # Quantidade de ações spot selecionadas para esse termo\n",
        "            }\n",
        "        )\n",
        "\n",
        "        # Inicializar estado do ambiente\n",
        "        self.state = {}\n",
        "\n",
        "    def step(self, action):\n",
        "        self._check_state_against_observation_space(self.state, self.observation_space)\n",
        "\n",
        "        # Interpretar as ações possíveis\n",
        "        matching = action == 0\n",
        "        unmatching = action == 1\n",
        "\n",
        "        # Inicializar a recompensa como -1 (punir demora)\n",
        "        reward = -1\n",
        "\n",
        "        # Transformar os dados do estado em variáveis\n",
        "        future_index = self.state['future_index']\n",
        "        spot_index = self.state['spot_index']\n",
        "        spot_price = self.state['spot_price']\n",
        "        future_pv = self.state['future_price_pv']\n",
        "        profit_ratio = self.state['profit_ratio']\n",
        "        future_quantity = self.state['future_quantity']\n",
        "        available_future_stocks = self.state['available_future_stocks']\n",
        "        available_spot_stocks = self.state['available_spot_stocks']\n",
        "        selected_spot_stocks = self.state['selected_spot_stocks']\n",
        "\n",
        "        # Unwrapper para valores escalares\n",
        "        self.state['spot_price'] = self.state['spot_price'][0]\n",
        "        self.state['future_price_pv'] = self.state['future_price_pv'][0]\n",
        "        self.state['profit_ratio'] = self.state['profit_ratio'][0]\n",
        "\n",
        "        if matching:\n",
        "            # Selecionar um futuro e uma ação spot específicos e realizar a combinação\n",
        "            spot_quantity = available_spot_stocks[spot_index]\n",
        "\n",
        "            # Se as ações à vista disponíveis excederem as ações a termo, use só as ações remanescentes que tiver\n",
        "            if future_quantity < spot_quantity:\n",
        "                spot_quantity = future_quantity\n",
        "\n",
        "            # Adiciona esse stock ao dicionário de combinações\n",
        "            self.matches[future_index][spot_index][0] += spot_quantity\n",
        "\n",
        "            # Reduz a quantidade de acoes future disponiveis para combinacao\n",
        "            self.state['available_future_stocks'] -= spot_quantity\n",
        "            self.df_futures.at[future_index, 'Quantidade'] -= spot_quantity\n",
        "            self.state['future_quantity'] -= spot_quantity\n",
        "\n",
        "            # Muda os spots de disponível para selecionados\n",
        "            self.state['available_spot_stocks'][spot_index] -= spot_quantity\n",
        "            self.state['selected_spot_stocks'][spot_index] += spot_quantity\n",
        "\n",
        "            # Calcular a recompensa\n",
        "            # Não recompensar caso tente fazer uma combinação impossível (spot_quantity == 0)\n",
        "            if (spot_quantity != 0):\n",
        "                reward += self._calculate_reward(profit_ratio)\n",
        "        elif unmatching:\n",
        "            # Fazer o caminho contrário do 'match' acima\n",
        "            spot_quantity = selected_spot_stocks[spot_index]\n",
        "\n",
        "            # Nesse caso não é necessário verificar se vamos exceder as ações a termo disponíveis\n",
        "\n",
        "            # Remover a quantidade de spots do dicionário de combinações\n",
        "            self.matches[future_index][spot_index][0] -= spot_quantity\n",
        "\n",
        "            # Restaura a quantidade de acoes future disponiveis para combinacao\n",
        "            self.state['available_future_stocks'] += spot_quantity\n",
        "            self.df_futures.at[future_index, 'Quantidade'] += spot_quantity\n",
        "            self.state['future_quantity'] += spot_quantity\n",
        "\n",
        "            # self.df_spot.at[spot_index, 'Quantidade'] += spot_quantity\n",
        "\n",
        "            # Muda os spots de selecionados para disponíveis\n",
        "            self.state['selected_spot_stocks'][spot_index] -= spot_quantity\n",
        "            self.state['available_spot_stocks'][spot_index] += spot_quantity\n",
        "\n",
        "            # Calcular a recompensa\n",
        "            # Não recompensar caso tente fazer uma combinação impossível (spot_quantity == 0)\n",
        "            if (spot_quantity != 0):\n",
        "                # Se era uma combinação ruim, ganha pontos. Se era boa, perde pontos.)\n",
        "                reward -= self._calculate_reward(profit_ratio)\n",
        "            # Punição leve, para incentivar combinações\n",
        "            reward -= 9\n",
        "\n",
        "        # Passar para a próxima combinação\n",
        "\n",
        "        # Escolhe o próximo spot\n",
        "        self.state['spot_index'] += 1\n",
        "\n",
        "        # Se já tiver passado por todos os spots, escolhe o próximo future\n",
        "        if self.state['spot_index'] >= len(self.df_spot):\n",
        "            self.cycles += 1\n",
        "            self.state['future_index'] += 1 # Vai para o próximo future\n",
        "            if self.state['future_index'] >= len(self.df_futures):\n",
        "                self.state['future_index'] = 0\n",
        "            self.state['spot_index'] = 0\n",
        "            self.state['future_price_pv'] = self.df_futures.at[self.state['future_index'], 'VP Preço']\n",
        "            self.state['future_quantity'] = self.df_futures.at[self.state['future_index'], 'Quantidade']\n",
        "            # available_spot_stocks = self.df_spot['Quantidade'].to_numpy()\n",
        "            # self.state['available_spot_stocks'] = np.pad(available_spot_stocks, (0, self.max_spot_stocks - len(available_spot_stocks)), 'constant')\n",
        "            # Loop pelo objeto de matches para pegar as combinações já feitas\n",
        "            self.state['selected_spot_stocks'] = np.zeros(self.max_spot_stocks, dtype=np.int64)\n",
        "            for i in range(len(self.matches[self.state['future_index']])):\n",
        "                self.state['selected_spot_stocks'][i] = self.matches[self.state['future_index']][i][0]\n",
        "\n",
        "        # Calcula o retorno (em % do CDI), se ainda não foi calculado\n",
        "        self.state['spot_price'] = self.df_spot.at[self.state['spot_index'], 'Preço']\n",
        "        if self.matches[self.state['future_index']][self.state['spot_index']][1] == 0:\n",
        "            self.state['profit_ratio'] = self.state['spot_price'] / self.state['future_price_pv']\n",
        "            self.matches[self.state['future_index']][self.state['spot_index']][1] = self.state['profit_ratio']\n",
        "        else:\n",
        "            self.state['profit_ratio'] = self.matches[self.state['future_index']][self.state['spot_index']][1]\n",
        "\n",
        "        # Verifica se todos os futures já foram combinados ou se o ciclo foi encerrado\n",
        "        # caso positivo, encerra o episodio\n",
        "        if self.state['available_future_stocks'] == 0 or self.cycles >= self.max_cycles * len(self.df_futures):\n",
        "            self.done = True\n",
        "\n",
        "        # Wrapper para valores escalares\n",
        "        self.state['spot_price'] = np.array([self.state['spot_price']], dtype=np.float32)\n",
        "        self.state['future_price_pv'] = np.array([self.state['future_price_pv']], dtype=np.float32)\n",
        "        self.state['profit_ratio'] = np.array([self.state['profit_ratio']], dtype=np.float32)\n",
        "\n",
        "        return self.state, reward, self.done, {} # retorna 0 como recompensa\n",
        "\n",
        "    def reset(self):\n",
        "        # Resetar estado dos dataframe\n",
        "        self.df_futures = df_futures.copy()\n",
        "        self.df_spot = df_spot.copy()\n",
        "\n",
        "        self.state['future_index'] = np.random.randint(0, len(self.df_futures)) # Escolhe um future aleatoriamente\n",
        "        self.state['spot_index'] = 0\n",
        "        self.state['spot_price'] = self.df_spot.at[self.state['spot_index'], 'Preço']\n",
        "        self.state['future_price_pv'] = self.df_futures.at[self.state['future_index'], 'VP Preço']\n",
        "        self.state['profit_ratio'] = self.state['spot_price'] / self.state['future_price_pv']\n",
        "        self.state['future_quantity'] = self.df_futures.at[self.state['future_index'], 'Quantidade']\n",
        "        available_spot_stocks = self.df_spot['Quantidade'].to_numpy()\n",
        "        self.state['available_future_stocks'] = self.df_futures['Quantidade'].sum()\n",
        "        self.state['available_spot_stocks'] = np.pad(available_spot_stocks, (0, self.max_spot_stocks - len(available_spot_stocks)), 'constant')\n",
        "        self.state['selected_spot_stocks'] = np.zeros(self.max_spot_stocks, dtype=np.int64)\n",
        "\n",
        "        self.matches = [ [[0, 0] for _ in range(len(self.df_spot))] for _ in range(len(self.df_futures)) ] # lista com as combinações, para salvar na memória e para verificar performance\n",
        "        self.matches[self.state['future_index']][self.state['spot_index']][1] = self.state['profit_ratio']\n",
        "\n",
        "        # Wrapper para valores escalares\n",
        "        self.state['spot_price'] = np.array([self.state['spot_price']], dtype=np.float32)\n",
        "        self.state['future_price_pv'] = np.array([self.state['future_price_pv']], dtype=np.float32)\n",
        "        self.state['profit_ratio'] = np.array([self.state['profit_ratio']], dtype=np.float32)\n",
        "\n",
        "        # Contador de ciclos\n",
        "        self.cycles = 0\n",
        "\n",
        "        self.done = False\n",
        "\n",
        "        return self.state\n",
        "\n",
        "    def _calculate_reward(self, profit_ratio):\n",
        "        \"\"\"\n",
        "        Calcula a recompensa com base na taxa de retorno.\n",
        "        \"\"\"\n",
        "\n",
        "        reward = 100 # Recompensa padrão por uma combinação\n",
        "\n",
        "        # Recompensa extra por uma combinação boa\n",
        "        if 0.98 <= profit_ratio <= 1.04:\n",
        "            reward += 100\n",
        "            if 1 <= profit_ratio <= 1.01:\n",
        "                reward += 100\n",
        "\n",
        "        return reward\n",
        "\n",
        "    def _check_state_against_observation_space(self, state, observation_space):\n",
        "        for key, value in state.items():\n",
        "            expected_space = observation_space.spaces[key]\n",
        "\n",
        "            if not expected_space.contains(value):\n",
        "                print(f\"Offending key: {key}\")\n",
        "                print(f\"Offending value: {value}\")\n",
        "                print(f\"Expected space: {expected_space}\")\n",
        "                raise ValueError(f\"Key '{key}' with value {value} is outside the expected space {expected_space}\")\n"
      ]
    },
    {
      "cell_type": "markdown",
      "metadata": {
        "id": "qs7n2m-zgUZC"
      },
      "source": [
        "## Registrar o Ambiente"
      ]
    },
    {
      "cell_type": "code",
      "execution_count": 73,
      "metadata": {
        "id": "9DJZbOKFXUmc",
        "colab": {
          "base_uri": "https://localhost:8080/"
        },
        "outputId": "a3aac4c0-d418-4dfa-b8f3-0a6f4c54a814"
      },
      "outputs": [
        {
          "output_type": "stream",
          "name": "stderr",
          "text": [
            "/usr/local/lib/python3.10/dist-packages/gym/envs/registration.py:542: UserWarning: \u001b[33mWARN: Overriding environment CashAndCarryArbitrage-v0\u001b[0m\n",
            "  logger.warn(f\"Overriding environment {spec.id}\")\n"
          ]
        }
      ],
      "source": [
        "from gym.envs.registration import register\n",
        "\n",
        "register(\n",
        "    id='CashAndCarryArbitrage-v0',\n",
        "    entry_point='__main__:CashAndCarryArbitrageEnv',\n",
        ")"
      ]
    },
    {
      "cell_type": "markdown",
      "metadata": {
        "id": "DNJcHExVgvnD"
      },
      "source": [
        "## Instanciar o ambiente"
      ]
    },
    {
      "cell_type": "code",
      "execution_count": 74,
      "metadata": {
        "id": "lnyJULDogvMu"
      },
      "outputs": [],
      "source": [
        "env = gym.make('CashAndCarryArbitrage-v0', df_futures=df_futures, df_spot=df_spot)"
      ]
    },
    {
      "cell_type": "code",
      "execution_count": 75,
      "metadata": {
        "id": "fBqNwstAu9BC",
        "outputId": "66e927e5-f2cd-40e1-eff0-f9fa4aa10aa6",
        "colab": {
          "base_uri": "https://localhost:8080/"
        }
      },
      "outputs": [
        {
          "output_type": "stream",
          "name": "stdout",
          "text": [
            "Tamanho do vetor de estados: 47\n",
            "Número de ações: 2\n"
          ]
        }
      ],
      "source": [
        "state_size = (sum(1 for key, space in env.observation_space.spaces.items() if isinstance(space, spaces.Discrete))\n",
        "              + sum(np.prod(space.shape) for key, space in env.observation_space.spaces.items() if isinstance(space, spaces.Box)))\n",
        "\n",
        "# Verificar a quantidade de ações\n",
        "num_actions = env.action_space.n\n",
        "\n",
        "print(\"Tamanho do vetor de estados:\", state_size)\n",
        "print(\"Número de ações:\", num_actions)"
      ]
    },
    {
      "cell_type": "code",
      "execution_count": 76,
      "metadata": {
        "id": "USOOHj2LDhtQ",
        "outputId": "c752cd62-3b11-4c3d-fc57-324621673722",
        "colab": {
          "base_uri": "https://localhost:8080/"
        }
      },
      "outputs": [
        {
          "output_type": "stream",
          "name": "stdout",
          "text": [
            "Estado: {'future_index': 4, 'spot_index': 0, 'spot_price': array([68.76578], dtype=float32), 'future_price_pv': array([68.91271], dtype=float32), 'profit_ratio': array([0.9978679], dtype=float32), 'future_quantity': 599, 'available_future_stocks': 3000, 'available_spot_stocks': array([ 500, 1500,  500,  500,    0,    0,    0,    0,    0,    0,    0,\n",
            "          0,    0,    0,    0,    0,    0,    0,    0,    0]), 'selected_spot_stocks': array([0, 0, 0, 0, 0, 0, 0, 0, 0, 0, 0, 0, 0, 0, 0, 0, 0, 0, 0, 0])}\n",
            "Combinações: [[[0, 0], [0, 0], [0, 0], [0, 0]], [[0, 0], [0, 0], [0, 0], [0, 0]], [[0, 0], [0, 0], [0, 0], [0, 0]], [[0, 0], [0, 0], [0, 0], [0, 0]], [[0, 0.9978678762462074], [0, 0], [0, 0], [0, 0]], [[0, 0], [0, 0], [0, 0], [0, 0]]]\n"
          ]
        },
        {
          "output_type": "stream",
          "name": "stderr",
          "text": [
            "/usr/local/lib/python3.10/dist-packages/gym/utils/passive_env_checker.py:174: UserWarning: \u001b[33mWARN: Future gym versions will require that `Env.reset` can be passed a `seed` instead of using `Env.seed` for resetting the environment random number generator.\u001b[0m\n",
            "  logger.warn(\n",
            "/usr/local/lib/python3.10/dist-packages/gym/utils/passive_env_checker.py:190: UserWarning: \u001b[33mWARN: Future gym versions will require that `Env.reset` can be passed `return_info` to return information from the environment resetting.\u001b[0m\n",
            "  logger.warn(\n",
            "/usr/local/lib/python3.10/dist-packages/gym/utils/passive_env_checker.py:195: UserWarning: \u001b[33mWARN: Future gym versions will require that `Env.reset` can be passed `options` to allow the environment initialisation to be passed additional information.\u001b[0m\n",
            "  logger.warn(\n"
          ]
        }
      ],
      "source": [
        "initial_state = env.reset() # resetar ambiente\n",
        "\n",
        "print(\"Estado:\", initial_state)\n",
        "print(\"Combinações:\", env.matches)"
      ]
    },
    {
      "cell_type": "code",
      "execution_count": 77,
      "metadata": {
        "id": "4Dd8FGtuzPyO",
        "outputId": "35e0caea-61d4-4812-a12f-bfd3f8f1550a",
        "colab": {
          "base_uri": "https://localhost:8080/"
        }
      },
      "outputs": [
        {
          "output_type": "stream",
          "name": "stdout",
          "text": [
            "Ação tomada: 1\n",
            "Estado atual: {'future_index': 4, 'spot_index': 1, 'spot_price': array([68.866], dtype=float32), 'future_price_pv': array([68.913], dtype=float32), 'profit_ratio': array([0.999], dtype=float32), 'future_quantity': 599, 'available_future_stocks': 3000, 'available_spot_stocks': array([ 500, 1500,  500,  500,    0,    0,    0,    0,    0,    0,    0,\n",
            "          0,    0,    0,    0,    0,    0,    0,    0,    0]), 'selected_spot_stocks': array([0, 0, 0, 0, 0, 0, 0, 0, 0, 0, 0, 0, 0, 0, 0, 0, 0, 0, 0, 0])}\n",
            "Recompensa recebida: -10\n",
            "Episódio terminou?: False\n",
            "Info: {}\n",
            "Combinações: (Quantidade, Rentabilidade)\n",
            "Termo #0:  [[0, 0], [0, 0], [0, 0], [0, 0]]\n",
            "Termo #1:  [[0, 0], [0, 0], [0, 0], [0, 0]]\n",
            "Termo #2:  [[0, 0], [0, 0], [0, 0], [0, 0]]\n",
            "Termo #3:  [[0, 0], [0, 0], [0, 0], [0, 0]]\n",
            "Termo #4:  [[0, 0.9978678762462074], [0, 0.9993195435828756], [0, 0], [0, 0]]\n",
            "Termo #5:  [[0, 0], [0, 0], [0, 0], [0, 0]]\n"
          ]
        }
      ],
      "source": [
        "# Seleciona uma ação\n",
        "# 0 - MATCH\n",
        "# 1 - UNMATCH\n",
        "\n",
        "action = 1\n",
        "\n",
        "# Run a single time step of the environment's dynamics with the given action.\n",
        "next_state, reward, done, info = env.step(action)\n",
        "\n",
        "with np.printoptions(formatter={'float': '{:.3f}'.format}):\n",
        "    print(\"Ação tomada:\", action)\n",
        "    print(\"Estado atual:\", next_state)\n",
        "    print(\"Recompensa recebida:\", reward)\n",
        "    print(\"Episódio terminou?:\", done)\n",
        "    print(\"Info:\", info)\n",
        "    print(\"Combinações: (Quantidade, Rentabilidade)\")\n",
        "    for idx, entry in enumerate(env.matches):\n",
        "        print(f\"Termo #{idx}: \", entry)"
      ]
    },
    {
      "cell_type": "markdown",
      "metadata": {
        "id": "S6LsaInuW5OA"
      },
      "source": [
        "# 3 - Hiperparâmetros e Estrutura da Rede Neural:\n",
        "\n",
        "Mapeiem a estrutura da rede neural que será treinada como agente.\n",
        "Definam o número de entradas e descrevam cada uma delas.\n",
        "Definam o número de camadas ocultas, suas funções de ativação e o número de saídas, além das funções de ativação associadas."
      ]
    },
    {
      "cell_type": "markdown",
      "metadata": {
        "id": "eXr1v4OLpJyv"
      },
      "source": [
        "## Hiperparâmetros"
      ]
    },
    {
      "cell_type": "code",
      "execution_count": 78,
      "metadata": {
        "id": "kTRuWEGronVX"
      },
      "outputs": [],
      "source": [
        "MEMORY_SIZE = 100_000     # tamanho do buffer de memória\n",
        "GAMMA = 0.995             # fator de desconto\n",
        "ALPHA = 1e-3              # taxa de aprendizado\n",
        "NUM_STEPS_FOR_UPDATE = 4  # realizar um processo de aprendizado a cada C passos"
      ]
    },
    {
      "cell_type": "markdown",
      "metadata": {
        "id": "sq3EX-nSrF63"
      },
      "source": [
        "## Função de transformação\n",
        "\n",
        "Essa função é necessária pois a rede neural requer um vetor de estados e temos um dicionário. Vamos unificar o dicionário em um vetor toda vez que recebermos uma observação de estado, para passar para a rede."
      ]
    },
    {
      "cell_type": "code",
      "execution_count": 79,
      "metadata": {
        "id": "uuLWz89SpZGp"
      },
      "outputs": [],
      "source": [
        "import tensorflow as tf\n",
        "\n",
        "from keras import Sequential\n",
        "from keras.layers import Dense, Input\n",
        "from keras.losses import MSE\n",
        "from keras.optimizers import Adam\n",
        "\n",
        "# Criação da Q-Network\n",
        "q_network = Sequential([\n",
        "    Input(shape=(state_size,)),\n",
        "    Dense(units=16, activation='relu'),\n",
        "    Dense(units=16, activation='relu'),\n",
        "    Dense(units=num_actions, activation='linear'),\n",
        "])\n",
        "\n",
        "# Criação da \"target Q-Network\" com mesa arquitetura da Q-Network\n",
        "target_q_network = Sequential([\n",
        "    Input(shape=(state_size,)),\n",
        "    Dense(units=16, activation='relu'),\n",
        "    Dense(units=16, activation='relu'),\n",
        "    Dense(units=num_actions, activation='linear'),\n",
        "])\n",
        "\n",
        "optimizer = Adam(learning_rate=ALPHA)"
      ]
    },
    {
      "cell_type": "markdown",
      "metadata": {
        "id": "A53Y0KLBBIT5"
      },
      "source": [
        "## Funções auxiliares"
      ]
    },
    {
      "cell_type": "code",
      "execution_count": 80,
      "metadata": {
        "id": "JHO7JfY6BIEl"
      },
      "outputs": [],
      "source": [
        "import base64\n",
        "import random\n",
        "from itertools import zip_longest\n",
        "\n",
        "import matplotlib.pyplot as plt\n",
        "import matplotlib.ticker as mticker\n",
        "from statsmodels.iolib.table import SimpleTable\n",
        "\n",
        "\n",
        "SEED = 0              # seed for pseudo-random number generator\n",
        "MINIBATCH_SIZE = 64   # mini-batch size\n",
        "TAU = 1e-3            # soft update parameter\n",
        "E_DECAY = 0.995       # ε decay rate for ε-greedy policy\n",
        "E_MIN = 0.01          # minimum ε value for ε-greedy policy\n",
        "\n",
        "\n",
        "random.seed(SEED)\n",
        "\n",
        "# def transform_observation(observation):\n",
        "#     # Transforma as observações\n",
        "#     scalar_parts = [observation['future_index'], observation['spot_index'], observation['spot_price'], observation['future_price_pv'], observation['profit_ratio'], observation['future_quantity']]\n",
        "#     array_parts = [observation['available_spot_stocks'], observation['selected_spot_stocks']]\n",
        "#     state = np.concatenate([np.array(scalar_parts), *array_parts])\n",
        "#     return state\n",
        "\n",
        "def convert_state_dict_to_array(state_dict):\n",
        "    # Ensure all components are 1-D arrays before concatenation\n",
        "    flat_state = np.concatenate([\n",
        "        np.array([state_dict['future_index']]).reshape(-1),\n",
        "        np.array([state_dict['spot_index']]).reshape(-1),\n",
        "        np.array(state_dict['spot_price']).reshape(-1),\n",
        "        np.array(state_dict['future_price_pv']).reshape(-1),\n",
        "        np.array(state_dict['profit_ratio']).reshape(-1),\n",
        "        np.array([state_dict['future_quantity']]).reshape(-1),\n",
        "        np.array([state_dict['available_future_stocks']]).reshape(-1),\n",
        "        np.array(state_dict['available_spot_stocks']).reshape(-1),\n",
        "        np.array(state_dict['selected_spot_stocks']).reshape(-1)\n",
        "    ])\n",
        "    return flat_state.astype(np.float32)\n",
        "\n",
        "\n",
        "def get_experiences(memory_buffer):\n",
        "    experiences = random.sample(memory_buffer, k=MINIBATCH_SIZE)\n",
        "    states = np.array([e.state for e in experiences if e is not None])\n",
        "    actions = np.array([e.action for e in experiences if e is not None])\n",
        "    rewards = np.array([e.reward for e in experiences if e is not None])\n",
        "    next_states = np.array([e.next_state for e in experiences if e is not None])\n",
        "    done_vals = np.array([e.done for e in experiences if e is not None])\n",
        "\n",
        "    # Converter para tensores TensorFlow\n",
        "    states = tf.convert_to_tensor(states, dtype=tf.float32)\n",
        "    actions = tf.convert_to_tensor(actions, dtype=tf.float32)\n",
        "    rewards = tf.convert_to_tensor(rewards, dtype=tf.float32)\n",
        "    next_states = tf.convert_to_tensor(next_states, dtype=tf.float32)\n",
        "    done_vals = tf.convert_to_tensor(done_vals, dtype=tf.float32)\n",
        "\n",
        "    return (states, actions, rewards, next_states, done_vals)\n",
        "\n",
        "\n",
        "def check_update_conditions(t, num_steps_upd, memory_buffer):\n",
        "    if (t + 1) % num_steps_upd == 0 and len(memory_buffer) > MINIBATCH_SIZE:\n",
        "        return True\n",
        "    else:\n",
        "        return False\n",
        "\n",
        "\n",
        "def get_new_eps(epsilon):\n",
        "    return max(E_MIN, E_DECAY*epsilon)\n",
        "\n",
        "\n",
        "def get_action(q_values, epsilon=0, num_actions=2):\n",
        "    if random.random() > epsilon:\n",
        "        return np.argmax(q_values[0])\n",
        "    else:\n",
        "        return random.choice(np.arange(num_actions))\n",
        "\n",
        "def update_target_network(q_network, target_q_network):\n",
        "    for target_weights, q_net_weights in zip(target_q_network.weights, q_network.weights):\n",
        "        target_weights.assign(TAU * q_net_weights + (1.0 - TAU) * target_weights)\n",
        "\n",
        "\n",
        "def plot_history(reward_history, rolling_window=20, lower_limit=None,\n",
        "                 upper_limit=None, plot_rw=True, plot_rm=True):\n",
        "\n",
        "    if lower_limit is None or upper_limit is None:\n",
        "        rh = reward_history\n",
        "        xs = [x for x in range(len(reward_history))]\n",
        "    else:\n",
        "        rh = reward_history[lower_limit:upper_limit]\n",
        "        xs = [x for x in range(lower_limit,upper_limit)]\n",
        "\n",
        "    df = pd.DataFrame(rh)\n",
        "    rollingMean = df.rolling(rolling_window).mean()\n",
        "\n",
        "    plt.figure(figsize=(10,7), facecolor='white')\n",
        "\n",
        "    if plot_rw:\n",
        "        plt.plot(xs, rh, linewidth=1, color='cyan')\n",
        "    if plot_rm:\n",
        "        plt.plot(xs, rollingMean, linewidth=2, color='magenta')\n",
        "\n",
        "    text_color = 'black'\n",
        "\n",
        "    ax = plt.gca()\n",
        "    ax.set_facecolor('black')\n",
        "    plt.grid()\n",
        "#     plt.title(\"Total Point History\", color=text_color, fontsize=40)\n",
        "    plt.xlabel('Episode', color=text_color, fontsize=30)\n",
        "    plt.ylabel('Total Points', color=text_color, fontsize=30)\n",
        "    yNumFmt = mticker.StrMethodFormatter('{x:,}')\n",
        "    ax.yaxis.set_major_formatter(yNumFmt)\n",
        "    ax.tick_params(axis='x', colors=text_color)\n",
        "    ax.tick_params(axis='y', colors=text_color)\n",
        "    plt.show()\n",
        "\n",
        "\n",
        "def display_table(initial_state, action, next_state, reward, done):\n",
        "\n",
        "    action_labels = [\"Combinar\", \"Descombinar\", \"Trocar de ação\"]\n",
        "\n",
        "    # Do not use column headers\n",
        "    column_headers = None\n",
        "\n",
        "    with np.printoptions(formatter={'float': '{:.3f}'.format}):\n",
        "        table_info = [(\"Initial State:\", [f\"{initial_state}\"]),\n",
        "                      (\"Action:\", [f\"{action_labels[action]}\"]),\n",
        "                      (\"Next State:\", [f\"{next_state}\"]),\n",
        "                      (\"Reward Received:\", [f\"{reward:.3f}\"]),\n",
        "                      (\"Episode Terminated:\", [f\"{done}\"])]\n",
        "\n",
        "    # Generate table\n",
        "    row_labels, data = zip_longest(*table_info)\n",
        "    table = SimpleTable(data, column_headers, row_labels)\n",
        "\n",
        "    return table"
      ]
    },
    {
      "cell_type": "markdown",
      "metadata": {
        "id": "pAJqORwaXD7s"
      },
      "source": [
        "# 4 - Seleção e Implementação do Algoritmo de Reinforcement Learning:\n",
        "\n",
        "Escolham um algoritmo adequado para o problema, considerando a natureza dos estados, ações e a estrutura do ambiente.\n",
        "Implementem o algoritmo escolhido, como Q-Learning, Policy Gradient, DQN, entre outros.\n"
      ]
    },
    {
      "cell_type": "code",
      "execution_count": 81,
      "metadata": {
        "id": "glToLr88-ZMe"
      },
      "outputs": [],
      "source": [
        "from collections import namedtuple\n",
        "\n",
        "experience = namedtuple(\"Experience\", field_names=[\"state\", \"action\", \"reward\", \"next_state\", \"done\"])"
      ]
    },
    {
      "cell_type": "code",
      "execution_count": 82,
      "metadata": {
        "id": "0q8rmexiXVfO"
      },
      "outputs": [],
      "source": [
        "def compute_loss(experiences, gamma, q_network, target_q_network):\n",
        "    \"\"\"\n",
        "    Calcular a perda.\n",
        "\n",
        "    Args:\n",
        "      experiences: (tuple) tupla [\"state\", \"action\", \"reward\", \"next_state\", \"done\"] namedtuples\n",
        "      gamma: (float) The discount factor.\n",
        "      q_network: (tf.keras.Sequential) Keras model for predicting the q_values\n",
        "      target_q_network: (tf.keras.Sequential) Karas model for predicting the targets\n",
        "\n",
        "    Returns:\n",
        "      loss: (TensorFlow Tensor(shape=(0,), dtype=int32)) the Mean-Squared Error between\n",
        "            the y targets and the Q(s,a) values.\n",
        "    \"\"\"\n",
        "\n",
        "    # Desempacotar o minibatch de experiencias\n",
        "    states, actions, rewards, next_states, done_vals = experiences\n",
        "\n",
        "    # Computar max Q^(s,a)\n",
        "    max_qsa = tf.reduce_max(target_q_network(next_states), axis=-1)\n",
        "\n",
        "    # Setar y = R se o episodio terminar, caso contrario y = R + γ max Q^(s,a).\n",
        "    y_targets = rewards + (gamma * max_qsa * (1 - done_vals))\n",
        "\n",
        "    # Obter os q_values\n",
        "    q_values = q_network(states)\n",
        "    q_values = tf.gather_nd(q_values, tf.stack([tf.range(q_values.shape[0]),\n",
        "                                                tf.cast(actions, tf.int32)], axis=1))\n",
        "\n",
        "    # Computar a perde\n",
        "    loss = MSE(y_targets, q_values)\n",
        "\n",
        "    return loss"
      ]
    },
    {
      "cell_type": "code",
      "execution_count": 83,
      "metadata": {
        "id": "GpR8Kc69_N5V"
      },
      "outputs": [],
      "source": [
        "@tf.function\n",
        "def agent_learn(experiences, gamma):\n",
        "    \"\"\"\n",
        "    Atualizar os pesos da Q-network\n",
        "\n",
        "    Args:\n",
        "      experiences: (tuple) tupla [\"state\", \"action\", \"reward\", \"next_state\", \"done\"] namedtuples\n",
        "      gamma: (float) fator de desconto.\n",
        "\n",
        "    \"\"\"\n",
        "\n",
        "    # calcular a perda\n",
        "    with tf.GradientTape() as tape:\n",
        "        loss = compute_loss(experiences, gamma, q_network, target_q_network)\n",
        "\n",
        "    # update dos gradientes\n",
        "    gradients = tape.gradient(loss, q_network.trainable_variables)\n",
        "\n",
        "    # update dos pesos da q_network.\n",
        "    optimizer.apply_gradients(zip(gradients, q_network.trainable_variables))\n",
        "\n",
        "    # updates dos pesos da target network\n",
        "    update_target_network(q_network, target_q_network)"
      ]
    },
    {
      "cell_type": "markdown",
      "metadata": {
        "id": "pewYY0FhXO9d"
      },
      "source": [
        "# 5 - Treinamento e Otimização:\n",
        "\n",
        "Inicializem os parâmetros do agente e da rede neural, se aplicável.\n",
        "Realizem iterações de treinamento em episódios, onde o agente interage com o ambiente, atualizando seus parâmetros com base na recompensa recebida.\n",
        "Avaliem o desempenho do agente em um conjunto de validação e ajustem os hiperparâmetros para otimizar seu desempenho."
      ]
    },
    {
      "cell_type": "code",
      "execution_count": 84,
      "metadata": {
        "id": "JKcyusd3XV9d",
        "outputId": "5148c9f3-9abb-4e0a-98b2-a08420a4bde3",
        "colab": {
          "base_uri": "https://localhost:8080/"
        }
      },
      "outputs": [
        {
          "output_type": "stream",
          "name": "stdout",
          "text": [
            "Episode 100 | Total point average of the last 100 episodes: 1328.32\n",
            "Episode 200 | Total point average of the last 100 episodes: 1727.19\n",
            "Episode 300 | Total point average of the last 100 episodes: 1768.30\n",
            "Episode 398 | Total point average of the last 100 episodes: 1764.72"
          ]
        },
        {
          "output_type": "stream",
          "name": "stderr",
          "text": [
            "/usr/local/lib/python3.10/dist-packages/keras/src/engine/training.py:3103: UserWarning: You are saving your model as an HDF5 file via `model.save()`. This file format is considered legacy. We recommend using instead the native Keras format, e.g. `model.save('my_model.keras')`.\n",
            "  saving_api.save_model(\n",
            "WARNING:tensorflow:Compiled the loaded model, but the compiled metrics have yet to be built. `model.compile_metrics` will be empty until you train or evaluate the model.\n"
          ]
        },
        {
          "output_type": "stream",
          "name": "stdout",
          "text": [
            "\rEpisode 399 | Total point average of the last 100 episodes: 1768.72\rEpisode 400 | Total point average of the last 100 episodes: 1772.08\rEpisode 400 | Total point average of the last 100 episodes: 1772.08\n",
            "\n",
            "Total Runtime: 148.72 s (2.48 min)\n"
          ]
        }
      ],
      "source": [
        "import time\n",
        "from collections import deque\n",
        "\n",
        "start = time.time()\n",
        "\n",
        "num_episodes = 400\n",
        "max_num_timesteps = 100\n",
        "\n",
        "total_point_history = []\n",
        "\n",
        "num_p_av = 100    # number of total points to use for averaging\n",
        "epsilon = 1.0     # initial ε value for ε-greedy policy\n",
        "\n",
        "# Create a memory buffer D with capacity N\n",
        "memory_buffer = deque(maxlen=MEMORY_SIZE)\n",
        "\n",
        "# Set the target network weights equal to the Q-Network weights\n",
        "target_q_network.set_weights(q_network.get_weights())\n",
        "\n",
        "for i in range(num_episodes):\n",
        "    state = env.reset()  # This will still be a dictionary\n",
        "    state = convert_state_dict_to_array(state)  # Convert to Numpy array\n",
        "\n",
        "\n",
        "    total_points = 0\n",
        "\n",
        "    for t in range(max_num_timesteps):\n",
        "        # From the current state S choose an action A using an ε-greedy policy\n",
        "\n",
        "        state_qn = np.expand_dims(state, axis=0)  # Reshape for the network\n",
        "        q_values = q_network(state_qn)\n",
        "        action = get_action(q_values, epsilon, num_actions)\n",
        "\n",
        "        # Take action A and receive reward R and the next state S'\n",
        "        next_state, reward, done, _ = env.step(action)\n",
        "        next_state = convert_state_dict_to_array(next_state)  # Convert to Numpy array\n",
        "\n",
        "        # Store experience tuple (S,A,R,S') in the memory buffer.\n",
        "        # We store the done variable as well for convenience.\n",
        "        memory_buffer.append(experience(state, action, reward, next_state, done))\n",
        "\n",
        "        # Only update the network every NUM_STEPS_FOR_UPDATE time steps.\n",
        "        update = check_update_conditions(t, NUM_STEPS_FOR_UPDATE, memory_buffer)\n",
        "\n",
        "        if update:\n",
        "            # Sample random mini-batch of experience tuples (S,A,R,S') from D\n",
        "            experiences = get_experiences(memory_buffer)\n",
        "\n",
        "            # Set the y targets, perform a gradient descent step,\n",
        "            # and update the network weights.\n",
        "            agent_learn(experiences, GAMMA)\n",
        "\n",
        "        state = next_state.copy()\n",
        "        total_points += reward\n",
        "\n",
        "        if done:\n",
        "            break\n",
        "\n",
        "    total_point_history.append(total_points)\n",
        "    av_latest_points = np.mean(total_point_history[-num_p_av:])\n",
        "\n",
        "    # Update the ε value\n",
        "    epsilon = get_new_eps(epsilon)\n",
        "\n",
        "    print(f\"\\rEpisode {i+1} | Total point average of the last {num_p_av} episodes: {av_latest_points:.2f}\", end=\"\")\n",
        "\n",
        "    if (i+1) % num_p_av == 0:\n",
        "        print(f\"\\rEpisode {i+1} | Total point average of the last {num_p_av} episodes: {av_latest_points:.2f}\")\n",
        "\n",
        "    # We will consider that the environment is solved if we get an\n",
        "    # average of 200 points in the last 100 episodes.\n",
        "    if av_latest_points >= 100_000.0:\n",
        "        print(f\"\\n\\nEnvironment solved in {i+1} episodes!\")\n",
        "        q_network.save('cash_and_carry.h5')\n",
        "        break\n",
        "\n",
        "q_network.save('cash_and_carry.h5')\n",
        "\n",
        "tot_time = time.time() - start\n",
        "\n",
        "print(f\"\\nTotal Runtime: {tot_time:.2f} s ({(tot_time/60):.2f} min)\")"
      ]
    },
    {
      "cell_type": "code",
      "execution_count": 85,
      "metadata": {
        "id": "YVdbUWga_Wto",
        "outputId": "f3c47a0b-ecf4-4b12-879d-43fff260735b",
        "colab": {
          "base_uri": "https://localhost:8080/",
          "height": 647
        }
      },
      "outputs": [
        {
          "output_type": "display_data",
          "data": {
            "text/plain": [
              "<Figure size 1000x700 with 1 Axes>"
            ],
            "image/png": "[encoded data removed]"
          },
          "metadata": {}
        }
      ],
      "source": [
        "plot_history(total_point_history)"
      ]
    },
    {
      "cell_type": "markdown",
      "metadata": {
        "id": "Be6fIH0rXrSt"
      },
      "source": [
        "# Verificar Estado Final"
      ]
    },
    {
      "cell_type": "code",
      "source": [
        "import os\n",
        "import numpy as np\n",
        "import pandas as pd\n",
        "import gym\n",
        "from gym import spaces\n",
        "from tensorflow.keras.models import load_model"
      ],
      "metadata": {
        "id": "Cw6fnZvegbXg"
      },
      "execution_count": 90,
      "outputs": []
    },
    {
      "cell_type": "code",
      "source": [
        "import os\n",
        "\n",
        "# Diretório que contém os arquivos\n",
        "diretorio = '/content/unitario'\n",
        "\n",
        "# Verifica se o diretório existe\n",
        "if not os.path.exists(diretorio):\n",
        "    # Se não existir, cria o diretório\n",
        "    os.makedirs(diretorio)\n",
        "\n",
        "# Itera sobre os arquivos no diretório\n",
        "for arquivo in os.listdir(diretorio):\n",
        "    # Verifica se o caminho é um arquivo\n",
        "    if os.path.isfile(os.path.join(diretorio, arquivo)):\n",
        "        # Remove o arquivo\n",
        "        os.remove(os.path.join(diretorio, arquivo))\n",
        "\n",
        "print(\"Todos os arquivos foram removidos com sucesso.\")"
      ],
      "metadata": {
        "id": "tOuHTr0ZiEzO",
        "outputId": "c6575f3e-4e8f-4e6d-ba01-58f0648f86fe",
        "colab": {
          "base_uri": "https://localhost:8080/"
        }
      },
      "execution_count": 95,
      "outputs": [
        {
          "output_type": "stream",
          "name": "stdout",
          "text": [
            "Todos os arquivos foram removidos com sucesso.\n"
          ]
        }
      ]
    },
    {
      "cell_type": "code",
      "source": [
        "def generate_matched_dataframes(compra_df, venda_df, output_path):\n",
        "    compra_dataframes = []\n",
        "    venda_dataframes = []\n",
        "\n",
        "    for index, venda_row in venda_df.iterrows():\n",
        "        filtered_compra_df = compra_df[\n",
        "            (compra_df['Cód. Título'] == venda_row['Cód. Título']) &\n",
        "            (compra_df['Cód. Corretora'] == venda_row['Cód. Corretora']) &\n",
        "            (compra_df['Dt. Operação'] == venda_row['Dt. Operação'])\n",
        "        ]\n",
        "\n",
        "        if not filtered_compra_df.empty:\n",
        "            compra_dataframes.append(filtered_compra_df)\n",
        "            venda_dataframes.append(venda_df.iloc[[index]])\n",
        "\n",
        "    for i in range(len(compra_dataframes)):\n",
        "        compra_file = f'{output_path}/Compra{i+1}.xlsx'\n",
        "        venda_file = f'{output_path}/Venda{i+1}.xlsx'\n",
        "        compra_dataframes[i].to_excel(compra_file, index=False)\n",
        "        venda_dataframes[i].to_excel(venda_file, index=False)\n",
        "\n",
        "    return len(compra_dataframes)\n",
        "\n",
        "# Caminhos das planilhas de entrada\n",
        "spot_path = '/content/Compra.xlsx'\n",
        "futures_path = '/content/Venda.xlsx'\n",
        "\n",
        "# Lendo os dados\n",
        "df_spot = pd.read_excel(spot_path)\n",
        "df_futures = pd.read_excel(futures_path)\n",
        "\n",
        "# Caminho para salvar as novas planilhas\n",
        "output_path = '/content/unitario'\n",
        "\n",
        "# Gerando e salvando os dataframes correspondentes\n",
        "matched_sets_count = generate_matched_dataframes(df_spot, df_futures, output_path)\n"
      ],
      "metadata": {
        "id": "dzjcsG_OooYZ"
      },
      "execution_count": 92,
      "outputs": []
    },
    {
      "cell_type": "code",
      "source": [
        "import warnings\n",
        "import time\n",
        "\n",
        "# Ignorar todos os avisos do TensorFlow\n",
        "warnings.filterwarnings(\"ignore\", category=FutureWarning, module='tensorflow')\n",
        "warnings.filterwarnings(\"ignore\", category=DeprecationWarning, module='tensorflow')\n",
        "\n",
        "start_time = time.time()\n",
        "\n",
        "erros = 0  # Inicializa o contador de erros\n",
        "total_papeis = 0\n",
        "papeis_entre_99_104 = 0\n",
        "papeis_entre_99_5_100_5 = 0\n",
        "papeis_fora_intervalo = 0\n",
        "papeis_acima_de_100 = 0\n",
        "\n",
        "# Define a quantidade de subplanilhas criadas\n",
        "num_subplanilhas = 48  # ou a quantidade que você criou\n",
        "\n",
        "# Carregar os dataframes das subplanilhas\n",
        "compra_dfs = []\n",
        "venda_dfs = []\n",
        "for i in range(1, num_subplanilhas + 1):\n",
        "    compra_path = f'/content/unitario/Compra{i}.xlsx'\n",
        "    venda_path = f'/content/unitario/Venda{i}.xlsx'\n",
        "    if os.path.exists(compra_path) and os.path.exists(venda_path):\n",
        "        compra_dfs.append(pd.read_excel(compra_path))\n",
        "        venda_dfs.append(pd.read_excel(venda_path))\n",
        "\n",
        "\n",
        "# Loop pelas subplanilhas\n",
        "for df_spot, df_futures in zip(compra_dfs, venda_dfs):\n",
        "    try:\n",
        "        total_papeis += 1  # Incrementa o contador de papéis processados\n",
        "\n",
        "        # Adicionar uma coluna com o número dos dias úteis\n",
        "        df_futures['DU'] = df_futures.apply(\n",
        "            lambda row: business_days(row['Dt. Operação'], row['Vencimento'], bmf_calendar), axis=1)\n",
        "\n",
        "        # Computar o Valor Presente (VP) do Preço com base na data de vencimento e na taxa DI do dia\n",
        "        df_futures['VP Preço'] = df_futures['Preço'] / (1 + df_futures['DI']) ** (df_futures['DU'] / 252)\n",
        "\n",
        "        # Carregar bases novas de teste e realizar o pré-processamento\n",
        "        env = gym.make('CashAndCarryArbitrage-v0', df_futures=df_futures, df_spot=df_spot)\n",
        "\n",
        "        state_size = (sum(1 for key, space in env.observation_space.spaces.items() if isinstance(space, spaces.Discrete))\n",
        "                      + sum(np.prod(space.shape) for key, space in env.observation_space.spaces.items() if isinstance(space, spaces.Box)))\n",
        "\n",
        "        num_actions = env.action_space.n\n",
        "\n",
        "        # Load the trained model\n",
        "        model = load_model('/content/cash_and_carry.h5')\n",
        "\n",
        "        # Initialize the environment\n",
        "        state = env.reset()\n",
        "        state = convert_state_dict_to_array(state)\n",
        "        state = np.reshape(state, [1, state_size])\n",
        "\n",
        "        done = False\n",
        "        total_reward = 0\n",
        "\n",
        "        while not done:\n",
        "            # Predict the best action from the trained model\n",
        "            action = np.argmax(model.predict(state))\n",
        "\n",
        "            # Take the action in the environment\n",
        "            next_state, reward, done, _ = env.step(action)\n",
        "            next_state = convert_state_dict_to_array(next_state)\n",
        "            next_state = np.reshape(next_state, [1, state_size])\n",
        "\n",
        "            state = next_state\n",
        "            total_reward += reward\n",
        "\n",
        "            if done:\n",
        "                break\n",
        "\n",
        "        # Close the environment\n",
        "        env.close()\n",
        "\n",
        "        # Calculating weighted averages\n",
        "        weighted_averages = []\n",
        "        for idx, future in enumerate(env.matches):\n",
        "            total_quantity = 0\n",
        "            weighted_sum = 0\n",
        "            for quantity, weight in future:\n",
        "                weighted_sum += quantity * weight\n",
        "                total_quantity += quantity\n",
        "\n",
        "            weighted_avg = (weighted_sum / total_quantity) * 100 if total_quantity else 0\n",
        "            weighted_averages.append(weighted_avg)\n",
        "\n",
        "        # Calculating standard deviation\n",
        "        std_dev = np.std(weighted_averages)\n",
        "\n",
        "        # Verificação do intervalo de rentabilidade\n",
        "        rentabilidade_media = sum(weighted_averages) / len(weighted_averages)\n",
        "        if 99.0 <= rentabilidade_media <= 104:\n",
        "            papeis_entre_99_104 += 1\n",
        "        if 99.5 <= rentabilidade_media <= 100.5:\n",
        "            papeis_entre_99_5_100_5 += 1\n",
        "        if rentabilidade_media >= 100:\n",
        "            papeis_acima_de_100 += 1\n",
        "        if not (99.0 <= rentabilidade_media <= 104):\n",
        "            papeis_fora_intervalo += 1\n",
        "\n",
        "\n",
        "    except Exception as e:\n",
        "        print(f\"Erro ao processar: {e}\")\n",
        "        erros += 1  # Incrementa o contador de erros\n",
        "        continue  # Vai para a próxima iteração do loop\n",
        "\n",
        "end_time = time.time()\n",
        "\n",
        "execution_time = end_time - start_time\n",
        "\n",
        "# Imprime os resultados\n",
        "print(f\"Quantidade total de papéis processados: {total_papeis}\")\n",
        "print(f\"Quantidade de papéis entre 99% e 104%: {papeis_entre_99_104}\")\n",
        "print(f\"Quantidade de papéis entre 99.5% e 100.5%: {papeis_entre_99_5_100_5}\")\n",
        "print(f\"Quantidade de papéis fora do intervalo entre 99% e 104%: {papeis_fora_intervalo}\")\n",
        "print(f\"Quantidade de papéis acima de 100%: {papeis_acima_de_100}\")\n",
        "print(f\"CDI médio: {rentabilidade_media:.2f}%\")\n",
        "print(f\"Tempo de execução: {execution_time:.2f} segundos\")"
      ],
      "metadata": {
        "id": "N5YdS2hPgPjF",
        "outputId": "e76baf12-612b-49d9-9042-518a55141d31",
        "colab": {
          "base_uri": "https://localhost:8080/"
        }
      },
      "execution_count": 93,
      "outputs": [
        {
          "output_type": "stream",
          "name": "stderr",
          "text": [
            "WARNING:tensorflow:No training configuration found in the save file, so the model was *not* compiled. Compile it manually.\n"
          ]
        },
        {
          "output_type": "stream",
          "name": "stdout",
          "text": [
            "1/1 [==============================] - 0s 62ms/step\n"
          ]
        },
        {
          "output_type": "stream",
          "name": "stderr",
          "text": [
            "/usr/local/lib/python3.10/dist-packages/gym/utils/passive_env_checker.py:174: UserWarning: \u001b[33mWARN: Future gym versions will require that `Env.reset` can be passed a `seed` instead of using `Env.seed` for resetting the environment random number generator.\u001b[0m\n",
            "  logger.warn(\n",
            "/usr/local/lib/python3.10/dist-packages/gym/utils/passive_env_checker.py:190: UserWarning: \u001b[33mWARN: Future gym versions will require that `Env.reset` can be passed `return_info` to return information from the environment resetting.\u001b[0m\n",
            "  logger.warn(\n",
            "/usr/local/lib/python3.10/dist-packages/gym/utils/passive_env_checker.py:195: UserWarning: \u001b[33mWARN: Future gym versions will require that `Env.reset` can be passed `options` to allow the environment initialisation to be passed additional information.\u001b[0m\n",
            "  logger.warn(\n"
          ]
        },
        {
          "output_type": "stream",
          "name": "stdout",
          "text": [
            "1/1 [==============================] - 0s 27ms/step\n",
            "1/1 [==============================] - 0s 21ms/step\n"
          ]
        },
        {
          "output_type": "stream",
          "name": "stderr",
          "text": [
            "WARNING:tensorflow:No training configuration found in the save file, so the model was *not* compiled. Compile it manually.\n"
          ]
        },
        {
          "output_type": "stream",
          "name": "stdout",
          "text": [
            "1/1 [==============================] - 0s 65ms/step\n"
          ]
        },
        {
          "output_type": "stream",
          "name": "stderr",
          "text": [
            "/usr/local/lib/python3.10/dist-packages/gym/utils/passive_env_checker.py:174: UserWarning: \u001b[33mWARN: Future gym versions will require that `Env.reset` can be passed a `seed` instead of using `Env.seed` for resetting the environment random number generator.\u001b[0m\n",
            "  logger.warn(\n",
            "/usr/local/lib/python3.10/dist-packages/gym/utils/passive_env_checker.py:190: UserWarning: \u001b[33mWARN: Future gym versions will require that `Env.reset` can be passed `return_info` to return information from the environment resetting.\u001b[0m\n",
            "  logger.warn(\n",
            "/usr/local/lib/python3.10/dist-packages/gym/utils/passive_env_checker.py:195: UserWarning: \u001b[33mWARN: Future gym versions will require that `Env.reset` can be passed `options` to allow the environment initialisation to be passed additional information.\u001b[0m\n",
            "  logger.warn(\n"
          ]
        },
        {
          "output_type": "stream",
          "name": "stdout",
          "text": [
            "1/1 [==============================] - 0s 24ms/step\n",
            "1/1 [==============================] - 0s 22ms/step\n",
            "1/1 [==============================] - 0s 24ms/step\n",
            "1/1 [==============================] - 0s 35ms/step\n",
            "1/1 [==============================] - 0s 35ms/step\n",
            "1/1 [==============================] - 0s 32ms/step\n",
            "1/1 [==============================] - 0s 34ms/step\n",
            "1/1 [==============================] - 0s 32ms/step\n",
            "1/1 [==============================] - 0s 33ms/step\n",
            "1/1 [==============================] - 0s 32ms/step\n",
            "1/1 [==============================] - 0s 34ms/step\n",
            "1/1 [==============================] - 0s 33ms/step\n",
            "1/1 [==============================] - 0s 39ms/step\n",
            "1/1 [==============================] - 0s 38ms/step\n",
            "1/1 [==============================] - 0s 35ms/step\n",
            "1/1 [==============================] - 0s 32ms/step\n",
            "1/1 [==============================] - 0s 32ms/step\n",
            "1/1 [==============================] - 0s 34ms/step\n",
            "1/1 [==============================] - 0s 37ms/step\n"
          ]
        },
        {
          "output_type": "stream",
          "name": "stderr",
          "text": [
            "WARNING:tensorflow:No training configuration found in the save file, so the model was *not* compiled. Compile it manually.\n"
          ]
        },
        {
          "output_type": "stream",
          "name": "stdout",
          "text": [
            "1/1 [==============================] - 0s 92ms/step\n"
          ]
        },
        {
          "output_type": "stream",
          "name": "stderr",
          "text": [
            "/usr/local/lib/python3.10/dist-packages/gym/utils/passive_env_checker.py:174: UserWarning: \u001b[33mWARN: Future gym versions will require that `Env.reset` can be passed a `seed` instead of using `Env.seed` for resetting the environment random number generator.\u001b[0m\n",
            "  logger.warn(\n",
            "/usr/local/lib/python3.10/dist-packages/gym/utils/passive_env_checker.py:190: UserWarning: \u001b[33mWARN: Future gym versions will require that `Env.reset` can be passed `return_info` to return information from the environment resetting.\u001b[0m\n",
            "  logger.warn(\n",
            "/usr/local/lib/python3.10/dist-packages/gym/utils/passive_env_checker.py:195: UserWarning: \u001b[33mWARN: Future gym versions will require that `Env.reset` can be passed `options` to allow the environment initialisation to be passed additional information.\u001b[0m\n",
            "  logger.warn(\n"
          ]
        },
        {
          "output_type": "stream",
          "name": "stdout",
          "text": [
            "1/1 [==============================] - 0s 29ms/step\n",
            "1/1 [==============================] - 0s 33ms/step\n",
            "1/1 [==============================] - 0s 33ms/step\n",
            "1/1 [==============================] - 0s 32ms/step\n",
            "1/1 [==============================] - 0s 94ms/step\n",
            "1/1 [==============================] - 0s 35ms/step\n",
            "1/1 [==============================] - 0s 45ms/step\n",
            "1/1 [==============================] - 0s 50ms/step\n",
            "1/1 [==============================] - 0s 34ms/step\n"
          ]
        },
        {
          "output_type": "stream",
          "name": "stderr",
          "text": [
            "WARNING:tensorflow:No training configuration found in the save file, so the model was *not* compiled. Compile it manually.\n"
          ]
        },
        {
          "output_type": "stream",
          "name": "stdout",
          "text": [
            "1/1 [==============================] - 0s 95ms/step\n"
          ]
        },
        {
          "output_type": "stream",
          "name": "stderr",
          "text": [
            "/usr/local/lib/python3.10/dist-packages/gym/utils/passive_env_checker.py:174: UserWarning: \u001b[33mWARN: Future gym versions will require that `Env.reset` can be passed a `seed` instead of using `Env.seed` for resetting the environment random number generator.\u001b[0m\n",
            "  logger.warn(\n",
            "/usr/local/lib/python3.10/dist-packages/gym/utils/passive_env_checker.py:190: UserWarning: \u001b[33mWARN: Future gym versions will require that `Env.reset` can be passed `return_info` to return information from the environment resetting.\u001b[0m\n",
            "  logger.warn(\n",
            "/usr/local/lib/python3.10/dist-packages/gym/utils/passive_env_checker.py:195: UserWarning: \u001b[33mWARN: Future gym versions will require that `Env.reset` can be passed `options` to allow the environment initialisation to be passed additional information.\u001b[0m\n",
            "  logger.warn(\n",
            "WARNING:tensorflow:No training configuration found in the save file, so the model was *not* compiled. Compile it manually.\n"
          ]
        },
        {
          "output_type": "stream",
          "name": "stdout",
          "text": [
            "1/1 [==============================] - 0s 73ms/step\n"
          ]
        },
        {
          "output_type": "stream",
          "name": "stderr",
          "text": [
            "/usr/local/lib/python3.10/dist-packages/gym/utils/passive_env_checker.py:174: UserWarning: \u001b[33mWARN: Future gym versions will require that `Env.reset` can be passed a `seed` instead of using `Env.seed` for resetting the environment random number generator.\u001b[0m\n",
            "  logger.warn(\n",
            "/usr/local/lib/python3.10/dist-packages/gym/utils/passive_env_checker.py:190: UserWarning: \u001b[33mWARN: Future gym versions will require that `Env.reset` can be passed `return_info` to return information from the environment resetting.\u001b[0m\n",
            "  logger.warn(\n",
            "/usr/local/lib/python3.10/dist-packages/gym/utils/passive_env_checker.py:195: UserWarning: \u001b[33mWARN: Future gym versions will require that `Env.reset` can be passed `options` to allow the environment initialisation to be passed additional information.\u001b[0m\n",
            "  logger.warn(\n",
            "WARNING:tensorflow:No training configuration found in the save file, so the model was *not* compiled. Compile it manually.\n"
          ]
        },
        {
          "output_type": "stream",
          "name": "stdout",
          "text": [
            "1/1 [==============================] - 0s 68ms/step\n"
          ]
        },
        {
          "output_type": "stream",
          "name": "stderr",
          "text": [
            "/usr/local/lib/python3.10/dist-packages/gym/utils/passive_env_checker.py:174: UserWarning: \u001b[33mWARN: Future gym versions will require that `Env.reset` can be passed a `seed` instead of using `Env.seed` for resetting the environment random number generator.\u001b[0m\n",
            "  logger.warn(\n",
            "/usr/local/lib/python3.10/dist-packages/gym/utils/passive_env_checker.py:190: UserWarning: \u001b[33mWARN: Future gym versions will require that `Env.reset` can be passed `return_info` to return information from the environment resetting.\u001b[0m\n",
            "  logger.warn(\n",
            "/usr/local/lib/python3.10/dist-packages/gym/utils/passive_env_checker.py:195: UserWarning: \u001b[33mWARN: Future gym versions will require that `Env.reset` can be passed `options` to allow the environment initialisation to be passed additional information.\u001b[0m\n",
            "  logger.warn(\n"
          ]
        },
        {
          "output_type": "stream",
          "name": "stdout",
          "text": [
            "1/1 [==============================] - 0s 28ms/step\n",
            "1/1 [==============================] - 0s 24ms/step\n",
            "1/1 [==============================] - 0s 24ms/step\n",
            "1/1 [==============================] - 0s 24ms/step\n",
            "1/1 [==============================] - 0s 22ms/step\n",
            "1/1 [==============================] - 0s 28ms/step\n",
            "1/1 [==============================] - 0s 28ms/step\n",
            "1/1 [==============================] - 0s 25ms/step\n",
            "1/1 [==============================] - 0s 22ms/step\n"
          ]
        },
        {
          "output_type": "stream",
          "name": "stderr",
          "text": [
            "WARNING:tensorflow:No training configuration found in the save file, so the model was *not* compiled. Compile it manually.\n"
          ]
        },
        {
          "output_type": "stream",
          "name": "stdout",
          "text": [
            "1/1 [==============================] - 0s 61ms/step\n"
          ]
        },
        {
          "output_type": "stream",
          "name": "stderr",
          "text": [
            "/usr/local/lib/python3.10/dist-packages/gym/utils/passive_env_checker.py:174: UserWarning: \u001b[33mWARN: Future gym versions will require that `Env.reset` can be passed a `seed` instead of using `Env.seed` for resetting the environment random number generator.\u001b[0m\n",
            "  logger.warn(\n",
            "/usr/local/lib/python3.10/dist-packages/gym/utils/passive_env_checker.py:190: UserWarning: \u001b[33mWARN: Future gym versions will require that `Env.reset` can be passed `return_info` to return information from the environment resetting.\u001b[0m\n",
            "  logger.warn(\n",
            "/usr/local/lib/python3.10/dist-packages/gym/utils/passive_env_checker.py:195: UserWarning: \u001b[33mWARN: Future gym versions will require that `Env.reset` can be passed `options` to allow the environment initialisation to be passed additional information.\u001b[0m\n",
            "  logger.warn(\n"
          ]
        },
        {
          "output_type": "stream",
          "name": "stdout",
          "text": [
            "1/1 [==============================] - 0s 41ms/step\n",
            "1/1 [==============================] - 0s 29ms/step\n",
            "1/1 [==============================] - 0s 22ms/step\n",
            "1/1 [==============================] - 0s 25ms/step\n"
          ]
        },
        {
          "output_type": "stream",
          "name": "stderr",
          "text": [
            "WARNING:tensorflow:No training configuration found in the save file, so the model was *not* compiled. Compile it manually.\n"
          ]
        },
        {
          "output_type": "stream",
          "name": "stdout",
          "text": [
            "1/1 [==============================] - 0s 62ms/step\n"
          ]
        },
        {
          "output_type": "stream",
          "name": "stderr",
          "text": [
            "/usr/local/lib/python3.10/dist-packages/gym/utils/passive_env_checker.py:174: UserWarning: \u001b[33mWARN: Future gym versions will require that `Env.reset` can be passed a `seed` instead of using `Env.seed` for resetting the environment random number generator.\u001b[0m\n",
            "  logger.warn(\n",
            "/usr/local/lib/python3.10/dist-packages/gym/utils/passive_env_checker.py:190: UserWarning: \u001b[33mWARN: Future gym versions will require that `Env.reset` can be passed `return_info` to return information from the environment resetting.\u001b[0m\n",
            "  logger.warn(\n",
            "/usr/local/lib/python3.10/dist-packages/gym/utils/passive_env_checker.py:195: UserWarning: \u001b[33mWARN: Future gym versions will require that `Env.reset` can be passed `options` to allow the environment initialisation to be passed additional information.\u001b[0m\n",
            "  logger.warn(\n"
          ]
        },
        {
          "output_type": "stream",
          "name": "stdout",
          "text": [
            "1/1 [==============================] - 0s 27ms/step\n",
            "1/1 [==============================] - 0s 23ms/step\n",
            "1/1 [==============================] - 0s 22ms/step\n",
            "1/1 [==============================] - 0s 22ms/step\n"
          ]
        },
        {
          "output_type": "stream",
          "name": "stderr",
          "text": [
            "WARNING:tensorflow:No training configuration found in the save file, so the model was *not* compiled. Compile it manually.\n"
          ]
        },
        {
          "output_type": "stream",
          "name": "stdout",
          "text": [
            "1/1 [==============================] - 0s 74ms/step\n"
          ]
        },
        {
          "output_type": "stream",
          "name": "stderr",
          "text": [
            "/usr/local/lib/python3.10/dist-packages/gym/utils/passive_env_checker.py:174: UserWarning: \u001b[33mWARN: Future gym versions will require that `Env.reset` can be passed a `seed` instead of using `Env.seed` for resetting the environment random number generator.\u001b[0m\n",
            "  logger.warn(\n",
            "/usr/local/lib/python3.10/dist-packages/gym/utils/passive_env_checker.py:190: UserWarning: \u001b[33mWARN: Future gym versions will require that `Env.reset` can be passed `return_info` to return information from the environment resetting.\u001b[0m\n",
            "  logger.warn(\n",
            "/usr/local/lib/python3.10/dist-packages/gym/utils/passive_env_checker.py:195: UserWarning: \u001b[33mWARN: Future gym versions will require that `Env.reset` can be passed `options` to allow the environment initialisation to be passed additional information.\u001b[0m\n",
            "  logger.warn(\n"
          ]
        },
        {
          "output_type": "stream",
          "name": "stdout",
          "text": [
            "1/1 [==============================] - 0s 28ms/step\n",
            "1/1 [==============================] - 0s 23ms/step\n",
            "1/1 [==============================] - 0s 21ms/step\n",
            "1/1 [==============================] - 0s 23ms/step\n"
          ]
        },
        {
          "output_type": "stream",
          "name": "stderr",
          "text": [
            "WARNING:tensorflow:No training configuration found in the save file, so the model was *not* compiled. Compile it manually.\n"
          ]
        },
        {
          "output_type": "stream",
          "name": "stdout",
          "text": [
            "1/1 [==============================] - 0s 65ms/step\n"
          ]
        },
        {
          "output_type": "stream",
          "name": "stderr",
          "text": [
            "/usr/local/lib/python3.10/dist-packages/gym/utils/passive_env_checker.py:174: UserWarning: \u001b[33mWARN: Future gym versions will require that `Env.reset` can be passed a `seed` instead of using `Env.seed` for resetting the environment random number generator.\u001b[0m\n",
            "  logger.warn(\n",
            "/usr/local/lib/python3.10/dist-packages/gym/utils/passive_env_checker.py:190: UserWarning: \u001b[33mWARN: Future gym versions will require that `Env.reset` can be passed `return_info` to return information from the environment resetting.\u001b[0m\n",
            "  logger.warn(\n",
            "/usr/local/lib/python3.10/dist-packages/gym/utils/passive_env_checker.py:195: UserWarning: \u001b[33mWARN: Future gym versions will require that `Env.reset` can be passed `options` to allow the environment initialisation to be passed additional information.\u001b[0m\n",
            "  logger.warn(\n"
          ]
        },
        {
          "output_type": "stream",
          "name": "stdout",
          "text": [
            "1/1 [==============================] - 0s 26ms/step\n",
            "1/1 [==============================] - 0s 26ms/step\n",
            "1/1 [==============================] - 0s 22ms/step\n",
            "1/1 [==============================] - 0s 23ms/step\n"
          ]
        },
        {
          "output_type": "stream",
          "name": "stderr",
          "text": [
            "WARNING:tensorflow:No training configuration found in the save file, so the model was *not* compiled. Compile it manually.\n"
          ]
        },
        {
          "output_type": "stream",
          "name": "stdout",
          "text": [
            "1/1 [==============================] - 0s 67ms/step\n"
          ]
        },
        {
          "output_type": "stream",
          "name": "stderr",
          "text": [
            "/usr/local/lib/python3.10/dist-packages/gym/utils/passive_env_checker.py:174: UserWarning: \u001b[33mWARN: Future gym versions will require that `Env.reset` can be passed a `seed` instead of using `Env.seed` for resetting the environment random number generator.\u001b[0m\n",
            "  logger.warn(\n",
            "/usr/local/lib/python3.10/dist-packages/gym/utils/passive_env_checker.py:190: UserWarning: \u001b[33mWARN: Future gym versions will require that `Env.reset` can be passed `return_info` to return information from the environment resetting.\u001b[0m\n",
            "  logger.warn(\n",
            "/usr/local/lib/python3.10/dist-packages/gym/utils/passive_env_checker.py:195: UserWarning: \u001b[33mWARN: Future gym versions will require that `Env.reset` can be passed `options` to allow the environment initialisation to be passed additional information.\u001b[0m\n",
            "  logger.warn(\n"
          ]
        },
        {
          "output_type": "stream",
          "name": "stdout",
          "text": [
            "1/1 [==============================] - 0s 27ms/step\n",
            "1/1 [==============================] - 0s 27ms/step\n",
            "1/1 [==============================] - 0s 22ms/step\n",
            "1/1 [==============================] - 0s 22ms/step\n"
          ]
        },
        {
          "output_type": "stream",
          "name": "stderr",
          "text": [
            "WARNING:tensorflow:No training configuration found in the save file, so the model was *not* compiled. Compile it manually.\n"
          ]
        },
        {
          "output_type": "stream",
          "name": "stdout",
          "text": [
            "1/1 [==============================] - 0s 58ms/step\n"
          ]
        },
        {
          "output_type": "stream",
          "name": "stderr",
          "text": [
            "/usr/local/lib/python3.10/dist-packages/gym/utils/passive_env_checker.py:174: UserWarning: \u001b[33mWARN: Future gym versions will require that `Env.reset` can be passed a `seed` instead of using `Env.seed` for resetting the environment random number generator.\u001b[0m\n",
            "  logger.warn(\n",
            "/usr/local/lib/python3.10/dist-packages/gym/utils/passive_env_checker.py:190: UserWarning: \u001b[33mWARN: Future gym versions will require that `Env.reset` can be passed `return_info` to return information from the environment resetting.\u001b[0m\n",
            "  logger.warn(\n",
            "/usr/local/lib/python3.10/dist-packages/gym/utils/passive_env_checker.py:195: UserWarning: \u001b[33mWARN: Future gym versions will require that `Env.reset` can be passed `options` to allow the environment initialisation to be passed additional information.\u001b[0m\n",
            "  logger.warn(\n"
          ]
        },
        {
          "output_type": "stream",
          "name": "stdout",
          "text": [
            "1/1 [==============================] - 0s 28ms/step\n",
            "1/1 [==============================] - 0s 21ms/step\n",
            "1/1 [==============================] - 0s 22ms/step\n",
            "1/1 [==============================] - 0s 27ms/step\n"
          ]
        },
        {
          "output_type": "stream",
          "name": "stderr",
          "text": [
            "WARNING:tensorflow:No training configuration found in the save file, so the model was *not* compiled. Compile it manually.\n"
          ]
        },
        {
          "output_type": "stream",
          "name": "stdout",
          "text": [
            "1/1 [==============================] - 0s 67ms/step\n"
          ]
        },
        {
          "output_type": "stream",
          "name": "stderr",
          "text": [
            "/usr/local/lib/python3.10/dist-packages/gym/utils/passive_env_checker.py:174: UserWarning: \u001b[33mWARN: Future gym versions will require that `Env.reset` can be passed a `seed` instead of using `Env.seed` for resetting the environment random number generator.\u001b[0m\n",
            "  logger.warn(\n",
            "/usr/local/lib/python3.10/dist-packages/gym/utils/passive_env_checker.py:190: UserWarning: \u001b[33mWARN: Future gym versions will require that `Env.reset` can be passed `return_info` to return information from the environment resetting.\u001b[0m\n",
            "  logger.warn(\n",
            "/usr/local/lib/python3.10/dist-packages/gym/utils/passive_env_checker.py:195: UserWarning: \u001b[33mWARN: Future gym versions will require that `Env.reset` can be passed `options` to allow the environment initialisation to be passed additional information.\u001b[0m\n",
            "  logger.warn(\n"
          ]
        },
        {
          "output_type": "stream",
          "name": "stdout",
          "text": [
            "1/1 [==============================] - 0s 31ms/step\n",
            "1/1 [==============================] - 0s 22ms/step\n",
            "1/1 [==============================] - 0s 24ms/step\n",
            "1/1 [==============================] - 0s 22ms/step\n"
          ]
        },
        {
          "output_type": "stream",
          "name": "stderr",
          "text": [
            "WARNING:tensorflow:No training configuration found in the save file, so the model was *not* compiled. Compile it manually.\n"
          ]
        },
        {
          "output_type": "stream",
          "name": "stdout",
          "text": [
            "1/1 [==============================] - 0s 58ms/step\n"
          ]
        },
        {
          "output_type": "stream",
          "name": "stderr",
          "text": [
            "/usr/local/lib/python3.10/dist-packages/gym/utils/passive_env_checker.py:174: UserWarning: \u001b[33mWARN: Future gym versions will require that `Env.reset` can be passed a `seed` instead of using `Env.seed` for resetting the environment random number generator.\u001b[0m\n",
            "  logger.warn(\n",
            "/usr/local/lib/python3.10/dist-packages/gym/utils/passive_env_checker.py:190: UserWarning: \u001b[33mWARN: Future gym versions will require that `Env.reset` can be passed `return_info` to return information from the environment resetting.\u001b[0m\n",
            "  logger.warn(\n",
            "/usr/local/lib/python3.10/dist-packages/gym/utils/passive_env_checker.py:195: UserWarning: \u001b[33mWARN: Future gym versions will require that `Env.reset` can be passed `options` to allow the environment initialisation to be passed additional information.\u001b[0m\n",
            "  logger.warn(\n",
            "WARNING:tensorflow:No training configuration found in the save file, so the model was *not* compiled. Compile it manually.\n",
            "/usr/local/lib/python3.10/dist-packages/gym/utils/passive_env_checker.py:174: UserWarning: \u001b[33mWARN: Future gym versions will require that `Env.reset` can be passed a `seed` instead of using `Env.seed` for resetting the environment random number generator.\u001b[0m\n",
            "  logger.warn(\n",
            "/usr/local/lib/python3.10/dist-packages/gym/utils/passive_env_checker.py:190: UserWarning: \u001b[33mWARN: Future gym versions will require that `Env.reset` can be passed `return_info` to return information from the environment resetting.\u001b[0m\n",
            "  logger.warn(\n",
            "/usr/local/lib/python3.10/dist-packages/gym/utils/passive_env_checker.py:195: UserWarning: \u001b[33mWARN: Future gym versions will require that `Env.reset` can be passed `options` to allow the environment initialisation to be passed additional information.\u001b[0m\n",
            "  logger.warn(\n"
          ]
        },
        {
          "output_type": "stream",
          "name": "stdout",
          "text": [
            "1/1 [==============================] - 0s 58ms/step\n",
            "1/1 [==============================] - 0s 22ms/step\n",
            "1/1 [==============================] - 0s 22ms/step\n",
            "1/1 [==============================] - 0s 20ms/step\n",
            "1/1 [==============================] - 0s 21ms/step\n"
          ]
        },
        {
          "output_type": "stream",
          "name": "stderr",
          "text": [
            "WARNING:tensorflow:No training configuration found in the save file, so the model was *not* compiled. Compile it manually.\n"
          ]
        },
        {
          "output_type": "stream",
          "name": "stdout",
          "text": [
            "1/1 [==============================] - 0s 61ms/step\n"
          ]
        },
        {
          "output_type": "stream",
          "name": "stderr",
          "text": [
            "/usr/local/lib/python3.10/dist-packages/gym/utils/passive_env_checker.py:174: UserWarning: \u001b[33mWARN: Future gym versions will require that `Env.reset` can be passed a `seed` instead of using `Env.seed` for resetting the environment random number generator.\u001b[0m\n",
            "  logger.warn(\n",
            "/usr/local/lib/python3.10/dist-packages/gym/utils/passive_env_checker.py:190: UserWarning: \u001b[33mWARN: Future gym versions will require that `Env.reset` can be passed `return_info` to return information from the environment resetting.\u001b[0m\n",
            "  logger.warn(\n",
            "/usr/local/lib/python3.10/dist-packages/gym/utils/passive_env_checker.py:195: UserWarning: \u001b[33mWARN: Future gym versions will require that `Env.reset` can be passed `options` to allow the environment initialisation to be passed additional information.\u001b[0m\n",
            "  logger.warn(\n"
          ]
        },
        {
          "output_type": "stream",
          "name": "stdout",
          "text": [
            "1/1 [==============================] - 0s 28ms/step\n",
            "1/1 [==============================] - 0s 25ms/step\n",
            "1/1 [==============================] - 0s 23ms/step\n",
            "1/1 [==============================] - 0s 27ms/step\n"
          ]
        },
        {
          "output_type": "stream",
          "name": "stderr",
          "text": [
            "WARNING:tensorflow:No training configuration found in the save file, so the model was *not* compiled. Compile it manually.\n"
          ]
        },
        {
          "output_type": "stream",
          "name": "stdout",
          "text": [
            "1/1 [==============================] - 0s 63ms/step\n"
          ]
        },
        {
          "output_type": "stream",
          "name": "stderr",
          "text": [
            "/usr/local/lib/python3.10/dist-packages/gym/utils/passive_env_checker.py:174: UserWarning: \u001b[33mWARN: Future gym versions will require that `Env.reset` can be passed a `seed` instead of using `Env.seed` for resetting the environment random number generator.\u001b[0m\n",
            "  logger.warn(\n",
            "/usr/local/lib/python3.10/dist-packages/gym/utils/passive_env_checker.py:190: UserWarning: \u001b[33mWARN: Future gym versions will require that `Env.reset` can be passed `return_info` to return information from the environment resetting.\u001b[0m\n",
            "  logger.warn(\n",
            "/usr/local/lib/python3.10/dist-packages/gym/utils/passive_env_checker.py:195: UserWarning: \u001b[33mWARN: Future gym versions will require that `Env.reset` can be passed `options` to allow the environment initialisation to be passed additional information.\u001b[0m\n",
            "  logger.warn(\n"
          ]
        },
        {
          "output_type": "stream",
          "name": "stdout",
          "text": [
            "1/1 [==============================] - 0s 24ms/step\n",
            "1/1 [==============================] - 0s 23ms/step\n",
            "1/1 [==============================] - 0s 24ms/step\n",
            "1/1 [==============================] - 0s 23ms/step\n"
          ]
        },
        {
          "output_type": "stream",
          "name": "stderr",
          "text": [
            "WARNING:tensorflow:No training configuration found in the save file, so the model was *not* compiled. Compile it manually.\n"
          ]
        },
        {
          "output_type": "stream",
          "name": "stdout",
          "text": [
            "1/1 [==============================] - 0s 59ms/step\n",
            "1/1 [==============================] - ETA: 0s"
          ]
        },
        {
          "output_type": "stream",
          "name": "stderr",
          "text": [
            "/usr/local/lib/python3.10/dist-packages/gym/utils/passive_env_checker.py:174: UserWarning: \u001b[33mWARN: Future gym versions will require that `Env.reset` can be passed a `seed` instead of using `Env.seed` for resetting the environment random number generator.\u001b[0m\n",
            "  logger.warn(\n",
            "/usr/local/lib/python3.10/dist-packages/gym/utils/passive_env_checker.py:190: UserWarning: \u001b[33mWARN: Future gym versions will require that `Env.reset` can be passed `return_info` to return information from the environment resetting.\u001b[0m\n",
            "  logger.warn(\n",
            "/usr/local/lib/python3.10/dist-packages/gym/utils/passive_env_checker.py:195: UserWarning: \u001b[33mWARN: Future gym versions will require that `Env.reset` can be passed `options` to allow the environment initialisation to be passed additional information.\u001b[0m\n",
            "  logger.warn(\n"
          ]
        },
        {
          "output_type": "stream",
          "name": "stdout",
          "text": [
            "1/1 [==============================] - 0s 22ms/step\n",
            "1/1 [==============================] - 0s 25ms/step\n",
            "1/1 [==============================] - 0s 21ms/step\n",
            "1/1 [==============================] - 0s 22ms/step\n"
          ]
        },
        {
          "output_type": "stream",
          "name": "stderr",
          "text": [
            "WARNING:tensorflow:No training configuration found in the save file, so the model was *not* compiled. Compile it manually.\n"
          ]
        },
        {
          "output_type": "stream",
          "name": "stdout",
          "text": [
            "1/1 [==============================] - 0s 57ms/step\n"
          ]
        },
        {
          "output_type": "stream",
          "name": "stderr",
          "text": [
            "/usr/local/lib/python3.10/dist-packages/gym/utils/passive_env_checker.py:174: UserWarning: \u001b[33mWARN: Future gym versions will require that `Env.reset` can be passed a `seed` instead of using `Env.seed` for resetting the environment random number generator.\u001b[0m\n",
            "  logger.warn(\n",
            "/usr/local/lib/python3.10/dist-packages/gym/utils/passive_env_checker.py:190: UserWarning: \u001b[33mWARN: Future gym versions will require that `Env.reset` can be passed `return_info` to return information from the environment resetting.\u001b[0m\n",
            "  logger.warn(\n",
            "/usr/local/lib/python3.10/dist-packages/gym/utils/passive_env_checker.py:195: UserWarning: \u001b[33mWARN: Future gym versions will require that `Env.reset` can be passed `options` to allow the environment initialisation to be passed additional information.\u001b[0m\n",
            "  logger.warn(\n"
          ]
        },
        {
          "output_type": "stream",
          "name": "stdout",
          "text": [
            "1/1 [==============================] - 0s 27ms/step\n",
            "1/1 [==============================] - 0s 22ms/step\n",
            "1/1 [==============================] - 0s 23ms/step\n",
            "1/1 [==============================] - 0s 25ms/step\n"
          ]
        },
        {
          "output_type": "stream",
          "name": "stderr",
          "text": [
            "WARNING:tensorflow:No training configuration found in the save file, so the model was *not* compiled. Compile it manually.\n"
          ]
        },
        {
          "output_type": "stream",
          "name": "stdout",
          "text": [
            "1/1 [==============================] - 0s 56ms/step\n"
          ]
        },
        {
          "output_type": "stream",
          "name": "stderr",
          "text": [
            "/usr/local/lib/python3.10/dist-packages/gym/utils/passive_env_checker.py:174: UserWarning: \u001b[33mWARN: Future gym versions will require that `Env.reset` can be passed a `seed` instead of using `Env.seed` for resetting the environment random number generator.\u001b[0m\n",
            "  logger.warn(\n",
            "/usr/local/lib/python3.10/dist-packages/gym/utils/passive_env_checker.py:190: UserWarning: \u001b[33mWARN: Future gym versions will require that `Env.reset` can be passed `return_info` to return information from the environment resetting.\u001b[0m\n",
            "  logger.warn(\n",
            "/usr/local/lib/python3.10/dist-packages/gym/utils/passive_env_checker.py:195: UserWarning: \u001b[33mWARN: Future gym versions will require that `Env.reset` can be passed `options` to allow the environment initialisation to be passed additional information.\u001b[0m\n",
            "  logger.warn(\n"
          ]
        },
        {
          "output_type": "stream",
          "name": "stdout",
          "text": [
            "1/1 [==============================] - 0s 26ms/step\n",
            "1/1 [==============================] - 0s 23ms/step\n",
            "1/1 [==============================] - 0s 26ms/step\n",
            "1/1 [==============================] - 0s 25ms/step\n"
          ]
        },
        {
          "output_type": "stream",
          "name": "stderr",
          "text": [
            "WARNING:tensorflow:No training configuration found in the save file, so the model was *not* compiled. Compile it manually.\n"
          ]
        },
        {
          "output_type": "stream",
          "name": "stdout",
          "text": [
            "1/1 [==============================] - 0s 56ms/step\n",
            "1/1 [==============================] - 0s 21ms/step\n"
          ]
        },
        {
          "output_type": "stream",
          "name": "stderr",
          "text": [
            "/usr/local/lib/python3.10/dist-packages/gym/utils/passive_env_checker.py:174: UserWarning: \u001b[33mWARN: Future gym versions will require that `Env.reset` can be passed a `seed` instead of using `Env.seed` for resetting the environment random number generator.\u001b[0m\n",
            "  logger.warn(\n",
            "/usr/local/lib/python3.10/dist-packages/gym/utils/passive_env_checker.py:190: UserWarning: \u001b[33mWARN: Future gym versions will require that `Env.reset` can be passed `return_info` to return information from the environment resetting.\u001b[0m\n",
            "  logger.warn(\n",
            "/usr/local/lib/python3.10/dist-packages/gym/utils/passive_env_checker.py:195: UserWarning: \u001b[33mWARN: Future gym versions will require that `Env.reset` can be passed `options` to allow the environment initialisation to be passed additional information.\u001b[0m\n",
            "  logger.warn(\n"
          ]
        },
        {
          "output_type": "stream",
          "name": "stdout",
          "text": [
            "1/1 [==============================] - 0s 21ms/step\n",
            "1/1 [==============================] - 0s 23ms/step\n",
            "1/1 [==============================] - 0s 26ms/step\n"
          ]
        },
        {
          "output_type": "stream",
          "name": "stderr",
          "text": [
            "WARNING:tensorflow:No training configuration found in the save file, so the model was *not* compiled. Compile it manually.\n"
          ]
        },
        {
          "output_type": "stream",
          "name": "stdout",
          "text": [
            "1/1 [==============================] - 0s 61ms/step\n"
          ]
        },
        {
          "output_type": "stream",
          "name": "stderr",
          "text": [
            "/usr/local/lib/python3.10/dist-packages/gym/utils/passive_env_checker.py:174: UserWarning: \u001b[33mWARN: Future gym versions will require that `Env.reset` can be passed a `seed` instead of using `Env.seed` for resetting the environment random number generator.\u001b[0m\n",
            "  logger.warn(\n",
            "/usr/local/lib/python3.10/dist-packages/gym/utils/passive_env_checker.py:190: UserWarning: \u001b[33mWARN: Future gym versions will require that `Env.reset` can be passed `return_info` to return information from the environment resetting.\u001b[0m\n",
            "  logger.warn(\n",
            "/usr/local/lib/python3.10/dist-packages/gym/utils/passive_env_checker.py:195: UserWarning: \u001b[33mWARN: Future gym versions will require that `Env.reset` can be passed `options` to allow the environment initialisation to be passed additional information.\u001b[0m\n",
            "  logger.warn(\n"
          ]
        },
        {
          "output_type": "stream",
          "name": "stdout",
          "text": [
            "1/1 [==============================] - 0s 25ms/step\n",
            "1/1 [==============================] - 0s 23ms/step\n",
            "1/1 [==============================] - 0s 28ms/step\n",
            "1/1 [==============================] - 0s 22ms/step\n"
          ]
        },
        {
          "output_type": "stream",
          "name": "stderr",
          "text": [
            "WARNING:tensorflow:No training configuration found in the save file, so the model was *not* compiled. Compile it manually.\n"
          ]
        },
        {
          "output_type": "stream",
          "name": "stdout",
          "text": [
            "1/1 [==============================] - 0s 93ms/step\n"
          ]
        },
        {
          "output_type": "stream",
          "name": "stderr",
          "text": [
            "/usr/local/lib/python3.10/dist-packages/gym/utils/passive_env_checker.py:174: UserWarning: \u001b[33mWARN: Future gym versions will require that `Env.reset` can be passed a `seed` instead of using `Env.seed` for resetting the environment random number generator.\u001b[0m\n",
            "  logger.warn(\n",
            "/usr/local/lib/python3.10/dist-packages/gym/utils/passive_env_checker.py:190: UserWarning: \u001b[33mWARN: Future gym versions will require that `Env.reset` can be passed `return_info` to return information from the environment resetting.\u001b[0m\n",
            "  logger.warn(\n",
            "/usr/local/lib/python3.10/dist-packages/gym/utils/passive_env_checker.py:195: UserWarning: \u001b[33mWARN: Future gym versions will require that `Env.reset` can be passed `options` to allow the environment initialisation to be passed additional information.\u001b[0m\n",
            "  logger.warn(\n"
          ]
        },
        {
          "output_type": "stream",
          "name": "stdout",
          "text": [
            "1/1 [==============================] - 0s 32ms/step\n"
          ]
        },
        {
          "output_type": "stream",
          "name": "stderr",
          "text": [
            "WARNING:tensorflow:No training configuration found in the save file, so the model was *not* compiled. Compile it manually.\n"
          ]
        },
        {
          "output_type": "stream",
          "name": "stdout",
          "text": [
            "1/1 [==============================] - 0s 84ms/step\n"
          ]
        },
        {
          "output_type": "stream",
          "name": "stderr",
          "text": [
            "/usr/local/lib/python3.10/dist-packages/gym/utils/passive_env_checker.py:174: UserWarning: \u001b[33mWARN: Future gym versions will require that `Env.reset` can be passed a `seed` instead of using `Env.seed` for resetting the environment random number generator.\u001b[0m\n",
            "  logger.warn(\n",
            "/usr/local/lib/python3.10/dist-packages/gym/utils/passive_env_checker.py:190: UserWarning: \u001b[33mWARN: Future gym versions will require that `Env.reset` can be passed `return_info` to return information from the environment resetting.\u001b[0m\n",
            "  logger.warn(\n",
            "/usr/local/lib/python3.10/dist-packages/gym/utils/passive_env_checker.py:195: UserWarning: \u001b[33mWARN: Future gym versions will require that `Env.reset` can be passed `options` to allow the environment initialisation to be passed additional information.\u001b[0m\n",
            "  logger.warn(\n"
          ]
        },
        {
          "output_type": "stream",
          "name": "stdout",
          "text": [
            "1/1 [==============================] - 0s 33ms/step\n"
          ]
        },
        {
          "output_type": "stream",
          "name": "stderr",
          "text": [
            "WARNING:tensorflow:No training configuration found in the save file, so the model was *not* compiled. Compile it manually.\n"
          ]
        },
        {
          "output_type": "stream",
          "name": "stdout",
          "text": [
            "1/1 [==============================] - 0s 97ms/step\n"
          ]
        },
        {
          "output_type": "stream",
          "name": "stderr",
          "text": [
            "/usr/local/lib/python3.10/dist-packages/gym/utils/passive_env_checker.py:174: UserWarning: \u001b[33mWARN: Future gym versions will require that `Env.reset` can be passed a `seed` instead of using `Env.seed` for resetting the environment random number generator.\u001b[0m\n",
            "  logger.warn(\n",
            "/usr/local/lib/python3.10/dist-packages/gym/utils/passive_env_checker.py:190: UserWarning: \u001b[33mWARN: Future gym versions will require that `Env.reset` can be passed `return_info` to return information from the environment resetting.\u001b[0m\n",
            "  logger.warn(\n",
            "/usr/local/lib/python3.10/dist-packages/gym/utils/passive_env_checker.py:195: UserWarning: \u001b[33mWARN: Future gym versions will require that `Env.reset` can be passed `options` to allow the environment initialisation to be passed additional information.\u001b[0m\n",
            "  logger.warn(\n"
          ]
        },
        {
          "output_type": "stream",
          "name": "stdout",
          "text": [
            "1/1 [==============================] - 0s 30ms/step\n",
            "1/1 [==============================] - 0s 31ms/step\n",
            "1/1 [==============================] - 0s 35ms/step\n"
          ]
        },
        {
          "output_type": "stream",
          "name": "stderr",
          "text": [
            "WARNING:tensorflow:No training configuration found in the save file, so the model was *not* compiled. Compile it manually.\n"
          ]
        },
        {
          "output_type": "stream",
          "name": "stdout",
          "text": [
            "1/1 [==============================] - 0s 95ms/step\n"
          ]
        },
        {
          "output_type": "stream",
          "name": "stderr",
          "text": [
            "/usr/local/lib/python3.10/dist-packages/gym/utils/passive_env_checker.py:174: UserWarning: \u001b[33mWARN: Future gym versions will require that `Env.reset` can be passed a `seed` instead of using `Env.seed` for resetting the environment random number generator.\u001b[0m\n",
            "  logger.warn(\n",
            "/usr/local/lib/python3.10/dist-packages/gym/utils/passive_env_checker.py:190: UserWarning: \u001b[33mWARN: Future gym versions will require that `Env.reset` can be passed `return_info` to return information from the environment resetting.\u001b[0m\n",
            "  logger.warn(\n",
            "/usr/local/lib/python3.10/dist-packages/gym/utils/passive_env_checker.py:195: UserWarning: \u001b[33mWARN: Future gym versions will require that `Env.reset` can be passed `options` to allow the environment initialisation to be passed additional information.\u001b[0m\n",
            "  logger.warn(\n"
          ]
        },
        {
          "output_type": "stream",
          "name": "stdout",
          "text": [
            "1/1 [==============================] - 0s 37ms/step\n"
          ]
        },
        {
          "output_type": "stream",
          "name": "stderr",
          "text": [
            "WARNING:tensorflow:No training configuration found in the save file, so the model was *not* compiled. Compile it manually.\n"
          ]
        },
        {
          "output_type": "stream",
          "name": "stdout",
          "text": [
            "1/1 [==============================] - 0s 89ms/step\n"
          ]
        },
        {
          "output_type": "stream",
          "name": "stderr",
          "text": [
            "/usr/local/lib/python3.10/dist-packages/gym/utils/passive_env_checker.py:174: UserWarning: \u001b[33mWARN: Future gym versions will require that `Env.reset` can be passed a `seed` instead of using `Env.seed` for resetting the environment random number generator.\u001b[0m\n",
            "  logger.warn(\n",
            "/usr/local/lib/python3.10/dist-packages/gym/utils/passive_env_checker.py:190: UserWarning: \u001b[33mWARN: Future gym versions will require that `Env.reset` can be passed `return_info` to return information from the environment resetting.\u001b[0m\n",
            "  logger.warn(\n",
            "/usr/local/lib/python3.10/dist-packages/gym/utils/passive_env_checker.py:195: UserWarning: \u001b[33mWARN: Future gym versions will require that `Env.reset` can be passed `options` to allow the environment initialisation to be passed additional information.\u001b[0m\n",
            "  logger.warn(\n"
          ]
        },
        {
          "output_type": "stream",
          "name": "stdout",
          "text": [
            "1/1 [==============================] - 0s 32ms/step\n",
            "1/1 [==============================] - 0s 31ms/step\n",
            "1/1 [==============================] - 0s 33ms/step\n",
            "1/1 [==============================] - 0s 30ms/step\n"
          ]
        },
        {
          "output_type": "stream",
          "name": "stderr",
          "text": [
            "WARNING:tensorflow:No training configuration found in the save file, so the model was *not* compiled. Compile it manually.\n"
          ]
        },
        {
          "output_type": "stream",
          "name": "stdout",
          "text": [
            "1/1 [==============================] - 0s 95ms/step\n"
          ]
        },
        {
          "output_type": "stream",
          "name": "stderr",
          "text": [
            "/usr/local/lib/python3.10/dist-packages/gym/utils/passive_env_checker.py:174: UserWarning: \u001b[33mWARN: Future gym versions will require that `Env.reset` can be passed a `seed` instead of using `Env.seed` for resetting the environment random number generator.\u001b[0m\n",
            "  logger.warn(\n",
            "/usr/local/lib/python3.10/dist-packages/gym/utils/passive_env_checker.py:190: UserWarning: \u001b[33mWARN: Future gym versions will require that `Env.reset` can be passed `return_info` to return information from the environment resetting.\u001b[0m\n",
            "  logger.warn(\n",
            "/usr/local/lib/python3.10/dist-packages/gym/utils/passive_env_checker.py:195: UserWarning: \u001b[33mWARN: Future gym versions will require that `Env.reset` can be passed `options` to allow the environment initialisation to be passed additional information.\u001b[0m\n",
            "  logger.warn(\n"
          ]
        },
        {
          "output_type": "stream",
          "name": "stdout",
          "text": [
            "1/1 [==============================] - 0s 29ms/step\n",
            "1/1 [==============================] - 0s 38ms/step\n",
            "1/1 [==============================] - 0s 46ms/step\n",
            "1/1 [==============================] - 0s 39ms/step\n",
            "1/1 [==============================] - 0s 35ms/step\n",
            "1/1 [==============================] - 0s 33ms/step\n",
            "1/1 [==============================] - 0s 40ms/step\n",
            "1/1 [==============================] - 0s 35ms/step\n",
            "1/1 [==============================] - 0s 25ms/step\n"
          ]
        },
        {
          "output_type": "stream",
          "name": "stderr",
          "text": [
            "WARNING:tensorflow:No training configuration found in the save file, so the model was *not* compiled. Compile it manually.\n"
          ]
        },
        {
          "output_type": "stream",
          "name": "stdout",
          "text": [
            "1/1 [==============================] - 0s 61ms/step\n"
          ]
        },
        {
          "output_type": "stream",
          "name": "stderr",
          "text": [
            "/usr/local/lib/python3.10/dist-packages/gym/utils/passive_env_checker.py:174: UserWarning: \u001b[33mWARN: Future gym versions will require that `Env.reset` can be passed a `seed` instead of using `Env.seed` for resetting the environment random number generator.\u001b[0m\n",
            "  logger.warn(\n",
            "/usr/local/lib/python3.10/dist-packages/gym/utils/passive_env_checker.py:190: UserWarning: \u001b[33mWARN: Future gym versions will require that `Env.reset` can be passed `return_info` to return information from the environment resetting.\u001b[0m\n",
            "  logger.warn(\n",
            "/usr/local/lib/python3.10/dist-packages/gym/utils/passive_env_checker.py:195: UserWarning: \u001b[33mWARN: Future gym versions will require that `Env.reset` can be passed `options` to allow the environment initialisation to be passed additional information.\u001b[0m\n",
            "  logger.warn(\n",
            "WARNING:tensorflow:No training configuration found in the save file, so the model was *not* compiled. Compile it manually.\n"
          ]
        },
        {
          "output_type": "stream",
          "name": "stdout",
          "text": [
            "1/1 [==============================] - 0s 66ms/step\n"
          ]
        },
        {
          "output_type": "stream",
          "name": "stderr",
          "text": [
            "/usr/local/lib/python3.10/dist-packages/gym/utils/passive_env_checker.py:174: UserWarning: \u001b[33mWARN: Future gym versions will require that `Env.reset` can be passed a `seed` instead of using `Env.seed` for resetting the environment random number generator.\u001b[0m\n",
            "  logger.warn(\n",
            "/usr/local/lib/python3.10/dist-packages/gym/utils/passive_env_checker.py:190: UserWarning: \u001b[33mWARN: Future gym versions will require that `Env.reset` can be passed `return_info` to return information from the environment resetting.\u001b[0m\n",
            "  logger.warn(\n",
            "/usr/local/lib/python3.10/dist-packages/gym/utils/passive_env_checker.py:195: UserWarning: \u001b[33mWARN: Future gym versions will require that `Env.reset` can be passed `options` to allow the environment initialisation to be passed additional information.\u001b[0m\n",
            "  logger.warn(\n",
            "WARNING:tensorflow:No training configuration found in the save file, so the model was *not* compiled. Compile it manually.\n"
          ]
        },
        {
          "output_type": "stream",
          "name": "stdout",
          "text": [
            "1/1 [==============================] - 0s 55ms/step\n"
          ]
        },
        {
          "output_type": "stream",
          "name": "stderr",
          "text": [
            "/usr/local/lib/python3.10/dist-packages/gym/utils/passive_env_checker.py:174: UserWarning: \u001b[33mWARN: Future gym versions will require that `Env.reset` can be passed a `seed` instead of using `Env.seed` for resetting the environment random number generator.\u001b[0m\n",
            "  logger.warn(\n",
            "/usr/local/lib/python3.10/dist-packages/gym/utils/passive_env_checker.py:190: UserWarning: \u001b[33mWARN: Future gym versions will require that `Env.reset` can be passed `return_info` to return information from the environment resetting.\u001b[0m\n",
            "  logger.warn(\n",
            "/usr/local/lib/python3.10/dist-packages/gym/utils/passive_env_checker.py:195: UserWarning: \u001b[33mWARN: Future gym versions will require that `Env.reset` can be passed `options` to allow the environment initialisation to be passed additional information.\u001b[0m\n",
            "  logger.warn(\n",
            "WARNING:tensorflow:No training configuration found in the save file, so the model was *not* compiled. Compile it manually.\n",
            "/usr/local/lib/python3.10/dist-packages/gym/utils/passive_env_checker.py:174: UserWarning: \u001b[33mWARN: Future gym versions will require that `Env.reset` can be passed a `seed` instead of using `Env.seed` for resetting the environment random number generator.\u001b[0m\n",
            "  logger.warn(\n",
            "/usr/local/lib/python3.10/dist-packages/gym/utils/passive_env_checker.py:190: UserWarning: \u001b[33mWARN: Future gym versions will require that `Env.reset` can be passed `return_info` to return information from the environment resetting.\u001b[0m\n",
            "  logger.warn(\n",
            "/usr/local/lib/python3.10/dist-packages/gym/utils/passive_env_checker.py:195: UserWarning: \u001b[33mWARN: Future gym versions will require that `Env.reset` can be passed `options` to allow the environment initialisation to be passed additional information.\u001b[0m\n",
            "  logger.warn(\n"
          ]
        },
        {
          "output_type": "stream",
          "name": "stdout",
          "text": [
            "1/1 [==============================] - 0s 60ms/step\n"
          ]
        },
        {
          "output_type": "stream",
          "name": "stderr",
          "text": [
            "WARNING:tensorflow:No training configuration found in the save file, so the model was *not* compiled. Compile it manually.\n"
          ]
        },
        {
          "output_type": "stream",
          "name": "stdout",
          "text": [
            "1/1 [==============================] - 0s 61ms/step\n"
          ]
        },
        {
          "output_type": "stream",
          "name": "stderr",
          "text": [
            "/usr/local/lib/python3.10/dist-packages/gym/utils/passive_env_checker.py:174: UserWarning: \u001b[33mWARN: Future gym versions will require that `Env.reset` can be passed a `seed` instead of using `Env.seed` for resetting the environment random number generator.\u001b[0m\n",
            "  logger.warn(\n",
            "/usr/local/lib/python3.10/dist-packages/gym/utils/passive_env_checker.py:190: UserWarning: \u001b[33mWARN: Future gym versions will require that `Env.reset` can be passed `return_info` to return information from the environment resetting.\u001b[0m\n",
            "  logger.warn(\n",
            "/usr/local/lib/python3.10/dist-packages/gym/utils/passive_env_checker.py:195: UserWarning: \u001b[33mWARN: Future gym versions will require that `Env.reset` can be passed `options` to allow the environment initialisation to be passed additional information.\u001b[0m\n",
            "  logger.warn(\n"
          ]
        },
        {
          "output_type": "stream",
          "name": "stdout",
          "text": [
            "1/1 [==============================] - 0s 38ms/step\n"
          ]
        },
        {
          "output_type": "stream",
          "name": "stderr",
          "text": [
            "WARNING:tensorflow:No training configuration found in the save file, so the model was *not* compiled. Compile it manually.\n"
          ]
        },
        {
          "output_type": "stream",
          "name": "stdout",
          "text": [
            "1/1 [==============================] - 0s 59ms/step\n"
          ]
        },
        {
          "output_type": "stream",
          "name": "stderr",
          "text": [
            "/usr/local/lib/python3.10/dist-packages/gym/utils/passive_env_checker.py:174: UserWarning: \u001b[33mWARN: Future gym versions will require that `Env.reset` can be passed a `seed` instead of using `Env.seed` for resetting the environment random number generator.\u001b[0m\n",
            "  logger.warn(\n",
            "/usr/local/lib/python3.10/dist-packages/gym/utils/passive_env_checker.py:190: UserWarning: \u001b[33mWARN: Future gym versions will require that `Env.reset` can be passed `return_info` to return information from the environment resetting.\u001b[0m\n",
            "  logger.warn(\n",
            "/usr/local/lib/python3.10/dist-packages/gym/utils/passive_env_checker.py:195: UserWarning: \u001b[33mWARN: Future gym versions will require that `Env.reset` can be passed `options` to allow the environment initialisation to be passed additional information.\u001b[0m\n",
            "  logger.warn(\n"
          ]
        },
        {
          "output_type": "stream",
          "name": "stdout",
          "text": [
            "1/1 [==============================] - 0s 29ms/step\n",
            "1/1 [==============================] - 0s 22ms/step\n",
            "1/1 [==============================] - 0s 22ms/step\n",
            "1/1 [==============================] - 0s 25ms/step\n",
            "1/1 [==============================] - 0s 23ms/step\n",
            "1/1 [==============================] - 0s 28ms/step\n",
            "1/1 [==============================] - 0s 21ms/step\n",
            "1/1 [==============================] - 0s 22ms/step\n",
            "1/1 [==============================] - 0s 24ms/step\n",
            "1/1 [==============================] - 0s 23ms/step\n",
            "1/1 [==============================] - 0s 21ms/step\n",
            "1/1 [==============================] - 0s 20ms/step\n",
            "1/1 [==============================] - 0s 22ms/step\n",
            "1/1 [==============================] - 0s 21ms/step\n",
            "1/1 [==============================] - 0s 21ms/step\n",
            "1/1 [==============================] - 0s 21ms/step\n",
            "1/1 [==============================] - 0s 21ms/step\n",
            "1/1 [==============================] - 0s 21ms/step\n",
            "1/1 [==============================] - 0s 22ms/step\n",
            "1/1 [==============================] - 0s 24ms/step\n",
            "1/1 [==============================] - 0s 31ms/step\n",
            "1/1 [==============================] - 0s 22ms/step\n",
            "1/1 [==============================] - 0s 24ms/step\n",
            "1/1 [==============================] - 0s 22ms/step\n",
            "1/1 [==============================] - 0s 23ms/step\n",
            "1/1 [==============================] - 0s 21ms/step\n",
            "1/1 [==============================] - 0s 24ms/step\n",
            "1/1 [==============================] - 0s 25ms/step\n",
            "1/1 [==============================] - 0s 22ms/step\n"
          ]
        },
        {
          "output_type": "stream",
          "name": "stderr",
          "text": [
            "WARNING:tensorflow:No training configuration found in the save file, so the model was *not* compiled. Compile it manually.\n"
          ]
        },
        {
          "output_type": "stream",
          "name": "stdout",
          "text": [
            "1/1 [==============================] - 0s 68ms/step\n"
          ]
        },
        {
          "output_type": "stream",
          "name": "stderr",
          "text": [
            "/usr/local/lib/python3.10/dist-packages/gym/utils/passive_env_checker.py:174: UserWarning: \u001b[33mWARN: Future gym versions will require that `Env.reset` can be passed a `seed` instead of using `Env.seed` for resetting the environment random number generator.\u001b[0m\n",
            "  logger.warn(\n",
            "/usr/local/lib/python3.10/dist-packages/gym/utils/passive_env_checker.py:190: UserWarning: \u001b[33mWARN: Future gym versions will require that `Env.reset` can be passed `return_info` to return information from the environment resetting.\u001b[0m\n",
            "  logger.warn(\n",
            "/usr/local/lib/python3.10/dist-packages/gym/utils/passive_env_checker.py:195: UserWarning: \u001b[33mWARN: Future gym versions will require that `Env.reset` can be passed `options` to allow the environment initialisation to be passed additional information.\u001b[0m\n",
            "  logger.warn(\n"
          ]
        },
        {
          "output_type": "stream",
          "name": "stdout",
          "text": [
            "1/1 [==============================] - 0s 28ms/step\n",
            "1/1 [==============================] - 0s 30ms/step\n",
            "1/1 [==============================] - 0s 25ms/step\n",
            "1/1 [==============================] - 0s 24ms/step\n",
            "1/1 [==============================] - 0s 24ms/step\n",
            "1/1 [==============================] - 0s 37ms/step\n",
            "1/1 [==============================] - 0s 29ms/step\n",
            "1/1 [==============================] - 0s 25ms/step\n",
            "1/1 [==============================] - 0s 27ms/step\n",
            "1/1 [==============================] - 0s 30ms/step\n",
            "1/1 [==============================] - 0s 26ms/step\n",
            "1/1 [==============================] - 0s 25ms/step\n",
            "1/1 [==============================] - 0s 24ms/step\n",
            "1/1 [==============================] - 0s 25ms/step\n",
            "1/1 [==============================] - 0s 33ms/step\n",
            "1/1 [==============================] - 0s 28ms/step\n",
            "1/1 [==============================] - 0s 26ms/step\n",
            "1/1 [==============================] - 0s 30ms/step\n",
            "1/1 [==============================] - 0s 26ms/step\n",
            "1/1 [==============================] - 0s 31ms/step\n",
            "1/1 [==============================] - 0s 24ms/step\n",
            "1/1 [==============================] - 0s 24ms/step\n",
            "1/1 [==============================] - 0s 24ms/step\n",
            "1/1 [==============================] - 0s 34ms/step\n",
            "1/1 [==============================] - 0s 28ms/step\n",
            "1/1 [==============================] - 0s 26ms/step\n",
            "1/1 [==============================] - 0s 27ms/step\n",
            "1/1 [==============================] - 0s 28ms/step\n",
            "1/1 [==============================] - 0s 27ms/step\n"
          ]
        },
        {
          "output_type": "stream",
          "name": "stderr",
          "text": [
            "WARNING:tensorflow:No training configuration found in the save file, so the model was *not* compiled. Compile it manually.\n"
          ]
        },
        {
          "output_type": "stream",
          "name": "stdout",
          "text": [
            "1/1 [==============================] - 0s 66ms/step\n"
          ]
        },
        {
          "output_type": "stream",
          "name": "stderr",
          "text": [
            "/usr/local/lib/python3.10/dist-packages/gym/utils/passive_env_checker.py:174: UserWarning: \u001b[33mWARN: Future gym versions will require that `Env.reset` can be passed a `seed` instead of using `Env.seed` for resetting the environment random number generator.\u001b[0m\n",
            "  logger.warn(\n",
            "/usr/local/lib/python3.10/dist-packages/gym/utils/passive_env_checker.py:190: UserWarning: \u001b[33mWARN: Future gym versions will require that `Env.reset` can be passed `return_info` to return information from the environment resetting.\u001b[0m\n",
            "  logger.warn(\n",
            "/usr/local/lib/python3.10/dist-packages/gym/utils/passive_env_checker.py:195: UserWarning: \u001b[33mWARN: Future gym versions will require that `Env.reset` can be passed `options` to allow the environment initialisation to be passed additional information.\u001b[0m\n",
            "  logger.warn(\n",
            "WARNING:tensorflow:No training configuration found in the save file, so the model was *not* compiled. Compile it manually.\n"
          ]
        },
        {
          "output_type": "stream",
          "name": "stdout",
          "text": [
            "1/1 [==============================] - 0s 75ms/step\n"
          ]
        },
        {
          "output_type": "stream",
          "name": "stderr",
          "text": [
            "/usr/local/lib/python3.10/dist-packages/gym/utils/passive_env_checker.py:174: UserWarning: \u001b[33mWARN: Future gym versions will require that `Env.reset` can be passed a `seed` instead of using `Env.seed` for resetting the environment random number generator.\u001b[0m\n",
            "  logger.warn(\n",
            "/usr/local/lib/python3.10/dist-packages/gym/utils/passive_env_checker.py:190: UserWarning: \u001b[33mWARN: Future gym versions will require that `Env.reset` can be passed `return_info` to return information from the environment resetting.\u001b[0m\n",
            "  logger.warn(\n",
            "/usr/local/lib/python3.10/dist-packages/gym/utils/passive_env_checker.py:195: UserWarning: \u001b[33mWARN: Future gym versions will require that `Env.reset` can be passed `options` to allow the environment initialisation to be passed additional information.\u001b[0m\n",
            "  logger.warn(\n"
          ]
        },
        {
          "output_type": "stream",
          "name": "stdout",
          "text": [
            "1/1 [==============================] - 0s 26ms/step\n",
            "1/1 [==============================] - 0s 29ms/step\n",
            "1/1 [==============================] - 0s 25ms/step\n",
            "1/1 [==============================] - 0s 24ms/step\n",
            "1/1 [==============================] - 0s 23ms/step\n",
            "1/1 [==============================] - 0s 22ms/step\n",
            "1/1 [==============================] - 0s 28ms/step\n",
            "1/1 [==============================] - 0s 27ms/step\n",
            "1/1 [==============================] - 0s 25ms/step\n",
            "1/1 [==============================] - 0s 24ms/step\n",
            "1/1 [==============================] - 0s 24ms/step\n",
            "1/1 [==============================] - 0s 26ms/step\n",
            "1/1 [==============================] - 0s 25ms/step\n",
            "1/1 [==============================] - 0s 26ms/step\n",
            "1/1 [==============================] - 0s 24ms/step\n",
            "1/1 [==============================] - 0s 25ms/step\n",
            "1/1 [==============================] - 0s 29ms/step\n",
            "1/1 [==============================] - 0s 25ms/step\n",
            "1/1 [==============================] - 0s 33ms/step\n",
            "1/1 [==============================] - 0s 23ms/step\n",
            "1/1 [==============================] - 0s 45ms/step\n",
            "1/1 [==============================] - 0s 40ms/step\n",
            "1/1 [==============================] - 0s 43ms/step\n",
            "1/1 [==============================] - 0s 56ms/step\n",
            "1/1 [==============================] - 0s 33ms/step\n",
            "1/1 [==============================] - 0s 35ms/step\n",
            "1/1 [==============================] - 0s 35ms/step\n",
            "1/1 [==============================] - 0s 33ms/step\n",
            "1/1 [==============================] - 0s 32ms/step\n"
          ]
        },
        {
          "output_type": "stream",
          "name": "stderr",
          "text": [
            "WARNING:tensorflow:No training configuration found in the save file, so the model was *not* compiled. Compile it manually.\n"
          ]
        },
        {
          "output_type": "stream",
          "name": "stdout",
          "text": [
            "1/1 [==============================] - 0s 92ms/step\n"
          ]
        },
        {
          "output_type": "stream",
          "name": "stderr",
          "text": [
            "/usr/local/lib/python3.10/dist-packages/gym/utils/passive_env_checker.py:174: UserWarning: \u001b[33mWARN: Future gym versions will require that `Env.reset` can be passed a `seed` instead of using `Env.seed` for resetting the environment random number generator.\u001b[0m\n",
            "  logger.warn(\n",
            "/usr/local/lib/python3.10/dist-packages/gym/utils/passive_env_checker.py:190: UserWarning: \u001b[33mWARN: Future gym versions will require that `Env.reset` can be passed `return_info` to return information from the environment resetting.\u001b[0m\n",
            "  logger.warn(\n",
            "/usr/local/lib/python3.10/dist-packages/gym/utils/passive_env_checker.py:195: UserWarning: \u001b[33mWARN: Future gym versions will require that `Env.reset` can be passed `options` to allow the environment initialisation to be passed additional information.\u001b[0m\n",
            "  logger.warn(\n",
            "WARNING:tensorflow:No training configuration found in the save file, so the model was *not* compiled. Compile it manually.\n"
          ]
        },
        {
          "output_type": "stream",
          "name": "stdout",
          "text": [
            "1/1 [==============================] - 0s 102ms/step\n"
          ]
        },
        {
          "output_type": "stream",
          "name": "stderr",
          "text": [
            "/usr/local/lib/python3.10/dist-packages/gym/utils/passive_env_checker.py:174: UserWarning: \u001b[33mWARN: Future gym versions will require that `Env.reset` can be passed a `seed` instead of using `Env.seed` for resetting the environment random number generator.\u001b[0m\n",
            "  logger.warn(\n",
            "/usr/local/lib/python3.10/dist-packages/gym/utils/passive_env_checker.py:190: UserWarning: \u001b[33mWARN: Future gym versions will require that `Env.reset` can be passed `return_info` to return information from the environment resetting.\u001b[0m\n",
            "  logger.warn(\n",
            "/usr/local/lib/python3.10/dist-packages/gym/utils/passive_env_checker.py:195: UserWarning: \u001b[33mWARN: Future gym versions will require that `Env.reset` can be passed `options` to allow the environment initialisation to be passed additional information.\u001b[0m\n",
            "  logger.warn(\n"
          ]
        },
        {
          "output_type": "stream",
          "name": "stdout",
          "text": [
            "1/1 [==============================] - 0s 36ms/step\n"
          ]
        },
        {
          "output_type": "stream",
          "name": "stderr",
          "text": [
            "WARNING:tensorflow:No training configuration found in the save file, so the model was *not* compiled. Compile it manually.\n"
          ]
        },
        {
          "output_type": "stream",
          "name": "stdout",
          "text": [
            "1/1 [==============================] - 0s 90ms/step\n"
          ]
        },
        {
          "output_type": "stream",
          "name": "stderr",
          "text": [
            "/usr/local/lib/python3.10/dist-packages/gym/utils/passive_env_checker.py:174: UserWarning: \u001b[33mWARN: Future gym versions will require that `Env.reset` can be passed a `seed` instead of using `Env.seed` for resetting the environment random number generator.\u001b[0m\n",
            "  logger.warn(\n",
            "/usr/local/lib/python3.10/dist-packages/gym/utils/passive_env_checker.py:190: UserWarning: \u001b[33mWARN: Future gym versions will require that `Env.reset` can be passed `return_info` to return information from the environment resetting.\u001b[0m\n",
            "  logger.warn(\n",
            "/usr/local/lib/python3.10/dist-packages/gym/utils/passive_env_checker.py:195: UserWarning: \u001b[33mWARN: Future gym versions will require that `Env.reset` can be passed `options` to allow the environment initialisation to be passed additional information.\u001b[0m\n",
            "  logger.warn(\n"
          ]
        },
        {
          "output_type": "stream",
          "name": "stdout",
          "text": [
            "1/1 [==============================] - 0s 33ms/step\n",
            "1/1 [==============================] - 0s 30ms/step\n",
            "1/1 [==============================] - 0s 48ms/step\n",
            "1/1 [==============================] - 0s 35ms/step\n"
          ]
        },
        {
          "output_type": "stream",
          "name": "stderr",
          "text": [
            "WARNING:tensorflow:No training configuration found in the save file, so the model was *not* compiled. Compile it manually.\n"
          ]
        },
        {
          "output_type": "stream",
          "name": "stdout",
          "text": [
            "1/1 [==============================] - 0s 104ms/step\n"
          ]
        },
        {
          "output_type": "stream",
          "name": "stderr",
          "text": [
            "/usr/local/lib/python3.10/dist-packages/gym/utils/passive_env_checker.py:174: UserWarning: \u001b[33mWARN: Future gym versions will require that `Env.reset` can be passed a `seed` instead of using `Env.seed` for resetting the environment random number generator.\u001b[0m\n",
            "  logger.warn(\n",
            "/usr/local/lib/python3.10/dist-packages/gym/utils/passive_env_checker.py:190: UserWarning: \u001b[33mWARN: Future gym versions will require that `Env.reset` can be passed `return_info` to return information from the environment resetting.\u001b[0m\n",
            "  logger.warn(\n",
            "/usr/local/lib/python3.10/dist-packages/gym/utils/passive_env_checker.py:195: UserWarning: \u001b[33mWARN: Future gym versions will require that `Env.reset` can be passed `options` to allow the environment initialisation to be passed additional information.\u001b[0m\n",
            "  logger.warn(\n"
          ]
        },
        {
          "output_type": "stream",
          "name": "stdout",
          "text": [
            "1/1 [==============================] - 0s 46ms/step\n",
            "1/1 [==============================] - 0s 34ms/step\n",
            "1/1 [==============================] - 0s 35ms/step\n",
            "1/1 [==============================] - 0s 34ms/step\n"
          ]
        },
        {
          "output_type": "stream",
          "name": "stderr",
          "text": [
            "WARNING:tensorflow:No training configuration found in the save file, so the model was *not* compiled. Compile it manually.\n"
          ]
        },
        {
          "output_type": "stream",
          "name": "stdout",
          "text": [
            "1/1 [==============================] - 0s 77ms/step\n"
          ]
        },
        {
          "output_type": "stream",
          "name": "stderr",
          "text": [
            "/usr/local/lib/python3.10/dist-packages/gym/utils/passive_env_checker.py:174: UserWarning: \u001b[33mWARN: Future gym versions will require that `Env.reset` can be passed a `seed` instead of using `Env.seed` for resetting the environment random number generator.\u001b[0m\n",
            "  logger.warn(\n",
            "/usr/local/lib/python3.10/dist-packages/gym/utils/passive_env_checker.py:190: UserWarning: \u001b[33mWARN: Future gym versions will require that `Env.reset` can be passed `return_info` to return information from the environment resetting.\u001b[0m\n",
            "  logger.warn(\n",
            "/usr/local/lib/python3.10/dist-packages/gym/utils/passive_env_checker.py:195: UserWarning: \u001b[33mWARN: Future gym versions will require that `Env.reset` can be passed `options` to allow the environment initialisation to be passed additional information.\u001b[0m\n",
            "  logger.warn(\n"
          ]
        },
        {
          "output_type": "stream",
          "name": "stdout",
          "text": [
            "1/1 [==============================] - 0s 26ms/step\n",
            "1/1 [==============================] - 0s 29ms/step\n",
            "1/1 [==============================] - 0s 22ms/step\n",
            "1/1 [==============================] - 0s 24ms/step\n"
          ]
        },
        {
          "output_type": "stream",
          "name": "stderr",
          "text": [
            "WARNING:tensorflow:No training configuration found in the save file, so the model was *not* compiled. Compile it manually.\n"
          ]
        },
        {
          "output_type": "stream",
          "name": "stdout",
          "text": [
            "1/1 [==============================] - 0s 62ms/step\n"
          ]
        },
        {
          "output_type": "stream",
          "name": "stderr",
          "text": [
            "/usr/local/lib/python3.10/dist-packages/gym/utils/passive_env_checker.py:174: UserWarning: \u001b[33mWARN: Future gym versions will require that `Env.reset` can be passed a `seed` instead of using `Env.seed` for resetting the environment random number generator.\u001b[0m\n",
            "  logger.warn(\n",
            "/usr/local/lib/python3.10/dist-packages/gym/utils/passive_env_checker.py:190: UserWarning: \u001b[33mWARN: Future gym versions will require that `Env.reset` can be passed `return_info` to return information from the environment resetting.\u001b[0m\n",
            "  logger.warn(\n",
            "/usr/local/lib/python3.10/dist-packages/gym/utils/passive_env_checker.py:195: UserWarning: \u001b[33mWARN: Future gym versions will require that `Env.reset` can be passed `options` to allow the environment initialisation to be passed additional information.\u001b[0m\n",
            "  logger.warn(\n"
          ]
        },
        {
          "output_type": "stream",
          "name": "stdout",
          "text": [
            "1/1 [==============================] - 0s 27ms/step\n",
            "1/1 [==============================] - 0s 26ms/step\n",
            "1/1 [==============================] - 0s 26ms/step\n",
            "1/1 [==============================] - 0s 24ms/step\n"
          ]
        },
        {
          "output_type": "stream",
          "name": "stderr",
          "text": [
            "WARNING:tensorflow:No training configuration found in the save file, so the model was *not* compiled. Compile it manually.\n"
          ]
        },
        {
          "output_type": "stream",
          "name": "stdout",
          "text": [
            "1/1 [==============================] - 0s 59ms/step\n"
          ]
        },
        {
          "output_type": "stream",
          "name": "stderr",
          "text": [
            "/usr/local/lib/python3.10/dist-packages/gym/utils/passive_env_checker.py:174: UserWarning: \u001b[33mWARN: Future gym versions will require that `Env.reset` can be passed a `seed` instead of using `Env.seed` for resetting the environment random number generator.\u001b[0m\n",
            "  logger.warn(\n",
            "/usr/local/lib/python3.10/dist-packages/gym/utils/passive_env_checker.py:190: UserWarning: \u001b[33mWARN: Future gym versions will require that `Env.reset` can be passed `return_info` to return information from the environment resetting.\u001b[0m\n",
            "  logger.warn(\n",
            "/usr/local/lib/python3.10/dist-packages/gym/utils/passive_env_checker.py:195: UserWarning: \u001b[33mWARN: Future gym versions will require that `Env.reset` can be passed `options` to allow the environment initialisation to be passed additional information.\u001b[0m\n",
            "  logger.warn(\n",
            "WARNING:tensorflow:No training configuration found in the save file, so the model was *not* compiled. Compile it manually.\n",
            "/usr/local/lib/python3.10/dist-packages/gym/utils/passive_env_checker.py:174: UserWarning: \u001b[33mWARN: Future gym versions will require that `Env.reset` can be passed a `seed` instead of using `Env.seed` for resetting the environment random number generator.\u001b[0m\n",
            "  logger.warn(\n",
            "/usr/local/lib/python3.10/dist-packages/gym/utils/passive_env_checker.py:190: UserWarning: \u001b[33mWARN: Future gym versions will require that `Env.reset` can be passed `return_info` to return information from the environment resetting.\u001b[0m\n",
            "  logger.warn(\n"
          ]
        },
        {
          "output_type": "stream",
          "name": "stdout",
          "text": [
            "1/1 [==============================] - 0s 62ms/step\n"
          ]
        },
        {
          "output_type": "stream",
          "name": "stderr",
          "text": [
            "/usr/local/lib/python3.10/dist-packages/gym/utils/passive_env_checker.py:195: UserWarning: \u001b[33mWARN: Future gym versions will require that `Env.reset` can be passed `options` to allow the environment initialisation to be passed additional information.\u001b[0m\n",
            "  logger.warn(\n",
            "WARNING:tensorflow:No training configuration found in the save file, so the model was *not* compiled. Compile it manually.\n"
          ]
        },
        {
          "output_type": "stream",
          "name": "stdout",
          "text": [
            "1/1 [==============================] - 0s 75ms/step\n"
          ]
        },
        {
          "output_type": "stream",
          "name": "stderr",
          "text": [
            "/usr/local/lib/python3.10/dist-packages/gym/utils/passive_env_checker.py:174: UserWarning: \u001b[33mWARN: Future gym versions will require that `Env.reset` can be passed a `seed` instead of using `Env.seed` for resetting the environment random number generator.\u001b[0m\n",
            "  logger.warn(\n",
            "/usr/local/lib/python3.10/dist-packages/gym/utils/passive_env_checker.py:190: UserWarning: \u001b[33mWARN: Future gym versions will require that `Env.reset` can be passed `return_info` to return information from the environment resetting.\u001b[0m\n",
            "  logger.warn(\n",
            "/usr/local/lib/python3.10/dist-packages/gym/utils/passive_env_checker.py:195: UserWarning: \u001b[33mWARN: Future gym versions will require that `Env.reset` can be passed `options` to allow the environment initialisation to be passed additional information.\u001b[0m\n",
            "  logger.warn(\n"
          ]
        },
        {
          "output_type": "stream",
          "name": "stdout",
          "text": [
            "1/1 [==============================] - 0s 33ms/step\n",
            "1/1 [==============================] - 0s 25ms/step\n",
            "1/1 [==============================] - 0s 28ms/step\n",
            "1/1 [==============================] - 0s 22ms/step\n",
            "1/1 [==============================] - 0s 22ms/step\n",
            "1/1 [==============================] - 0s 22ms/step\n",
            "1/1 [==============================] - 0s 23ms/step\n",
            "1/1 [==============================] - 0s 23ms/step\n",
            "1/1 [==============================] - 0s 25ms/step\n"
          ]
        },
        {
          "output_type": "stream",
          "name": "stderr",
          "text": [
            "WARNING:tensorflow:No training configuration found in the save file, so the model was *not* compiled. Compile it manually.\n"
          ]
        },
        {
          "output_type": "stream",
          "name": "stdout",
          "text": [
            "1/1 [==============================] - 0s 64ms/step\n"
          ]
        },
        {
          "output_type": "stream",
          "name": "stderr",
          "text": [
            "/usr/local/lib/python3.10/dist-packages/gym/utils/passive_env_checker.py:174: UserWarning: \u001b[33mWARN: Future gym versions will require that `Env.reset` can be passed a `seed` instead of using `Env.seed` for resetting the environment random number generator.\u001b[0m\n",
            "  logger.warn(\n",
            "/usr/local/lib/python3.10/dist-packages/gym/utils/passive_env_checker.py:190: UserWarning: \u001b[33mWARN: Future gym versions will require that `Env.reset` can be passed `return_info` to return information from the environment resetting.\u001b[0m\n",
            "  logger.warn(\n",
            "/usr/local/lib/python3.10/dist-packages/gym/utils/passive_env_checker.py:195: UserWarning: \u001b[33mWARN: Future gym versions will require that `Env.reset` can be passed `options` to allow the environment initialisation to be passed additional information.\u001b[0m\n",
            "  logger.warn(\n"
          ]
        },
        {
          "output_type": "stream",
          "name": "stdout",
          "text": [
            "1/1 [==============================] - 0s 29ms/step\n",
            "1/1 [==============================] - 0s 22ms/step\n",
            "1/1 [==============================] - 0s 31ms/step\n",
            "1/1 [==============================] - 0s 27ms/step\n",
            "1/1 [==============================] - 0s 28ms/step\n",
            "1/1 [==============================] - 0s 26ms/step\n",
            "1/1 [==============================] - 0s 22ms/step\n",
            "1/1 [==============================] - 0s 23ms/step\n",
            "1/1 [==============================] - 0s 22ms/step\n"
          ]
        },
        {
          "output_type": "stream",
          "name": "stderr",
          "text": [
            "WARNING:tensorflow:No training configuration found in the save file, so the model was *not* compiled. Compile it manually.\n"
          ]
        },
        {
          "output_type": "stream",
          "name": "stdout",
          "text": [
            "1/1 [==============================] - 0s 59ms/step\n",
            "Quantidade total de papéis processados: 48\n",
            "Quantidade de papéis entre 99% e 104%: 17\n",
            "Quantidade de papéis entre 99.5% e 100.5%: 8\n",
            "Quantidade de papéis fora do intervalo entre 99% e 104%: 31\n",
            "Quantidade de papéis acima de 100%: 13\n",
            "CDI médio: 100.42%\n",
            "Tempo de execução: 37.54 segundos\n"
          ]
        },
        {
          "output_type": "stream",
          "name": "stderr",
          "text": [
            "/usr/local/lib/python3.10/dist-packages/gym/utils/passive_env_checker.py:174: UserWarning: \u001b[33mWARN: Future gym versions will require that `Env.reset` can be passed a `seed` instead of using `Env.seed` for resetting the environment random number generator.\u001b[0m\n",
            "  logger.warn(\n",
            "/usr/local/lib/python3.10/dist-packages/gym/utils/passive_env_checker.py:190: UserWarning: \u001b[33mWARN: Future gym versions will require that `Env.reset` can be passed `return_info` to return information from the environment resetting.\u001b[0m\n",
            "  logger.warn(\n",
            "/usr/local/lib/python3.10/dist-packages/gym/utils/passive_env_checker.py:195: UserWarning: \u001b[33mWARN: Future gym versions will require that `Env.reset` can be passed `options` to allow the environment initialisation to be passed additional information.\u001b[0m\n",
            "  logger.warn(\n"
          ]
        }
      ]
    }
  ],
  "metadata": {
    "colab": {
      "provenance": []
    },
    "kernelspec": {
      "display_name": "Python 3",
      "name": "python3"
    },
    "language_info": {
      "name": "python"
    }
  },
  "nbformat": 4,
  "nbformat_minor": 0
}