{
  "cells": [
    {
      "cell_type": "markdown",
      "metadata": {
        "id": "5ju-PHDCWeHA"
      },
      "source": [
        "# 1 - Normalização e Pré-processamento:\n",
        "\n",
        "Normalizem as observações para estarem dentro de um intervalo razoável.\n",
        "\n",
        "Convertam as ações em um formato compatível com o ambiente e criem as funções de cada ação.\n",
        "Identifiquem as features relevantes que podem ajudar o agente a aprender melhor.\n",
        "\n",
        "Extraíam e processem essas features a partir dos dados brutos, se necessário, para facilitar o aprendizado do agente."
      ]
    },
    {
      "cell_type": "markdown",
      "metadata": {
        "id": "FnRPtKW3eir9"
      },
      "source": [
        "## Importação"
      ]
    },
    {
      "cell_type": "code",
      "execution_count": 1,
      "metadata": {
        "id": "-qg4YsPgXG51"
      },
      "outputs": [],
      "source": [
        "import warnings\n",
        "\n",
        "# Ignore DeprecationWarning\n",
        "warnings.filterwarnings(\"ignore\")"
      ]
    },
    {
      "cell_type": "code",
      "execution_count": 2,
      "metadata": {
        "colab": {
          "base_uri": "https://localhost:8080/"
        },
        "id": "q_5lhlvdXUJS",
        "outputId": "b2cb3044-ef08-40b5-d2f5-334642a3da60"
      },
      "outputs": [
        {
          "name": "stdout",
          "output_type": "stream",
          "text": [
            "Mounted at /content/drive\n"
          ]
        }
      ],
      "source": [
        "from google.colab import drive\n",
        "drive.mount('/content/drive')"
      ]
    },
    {
      "cell_type": "code",
      "execution_count": 3,
      "metadata": {
        "id": "kA8ayD-UZSjp"
      },
      "outputs": [],
      "source": [
        "# IMPORTANTE: Coloque os arquivos fornecidos pelo parceiro em uma pasta chamada \"Data\", na raiz do seu Google Drive\n",
        "# Os arquivos .xlsx abaixo foram tratados previamente a partir do .xlsb enviados pelo ciente\n",
        "# Consistem em ações filtradas no Excel para que constem apenas ações VALE3 (Vale ON) do CLIENTE 4 da corretora FUTU (Nova Futura).\n",
        "\n",
        "spot_path  = '/content/drive/MyDrive/Data/2023_COMPRA_C4_VALE3_FUTU.xlsx'\n",
        "futures_path = '/content/drive/MyDrive/Data/2023_VENDA_C4_VALE3_FUTU.xlsx'"
      ]
    },
    {
      "cell_type": "code",
      "execution_count": 4,
      "metadata": {
        "id": "Ne6-t8YSZWvn"
      },
      "outputs": [],
      "source": [
        "# Bibliotecas de análise\n",
        "import numpy as np\n",
        "import pandas as pd\n",
        "import matplotlib.pyplot as plt"
      ]
    },
    {
      "cell_type": "code",
      "execution_count": 5,
      "metadata": {
        "id": "kUr1FVnKZgfx"
      },
      "outputs": [],
      "source": [
        "# Arquivo de compras - mercado \"spot\" (à vista)\n",
        "df_spot = pd.read_excel(spot_path)\n",
        "# Arquivo de vendas - mercado de \"futures\" (a termo)\n",
        "df_futures = pd.read_excel(futures_path)"
      ]
    },
    {
      "cell_type": "code",
      "execution_count": 6,
      "metadata": {
        "colab": {
          "base_uri": "https://localhost:8080/"
        },
        "id": "zFuNCRmQbZv7",
        "outputId": "a295eef5-0b0b-441d-947f-7ea49bfee1c2"
      },
      "outputs": [
        {
          "name": "stdout",
          "output_type": "stream",
          "text": [
            "  Cód. Cliente Dt. Operação Tipo Operação Cód. Título Cód. Corretora  \\\n",
            "0    Cliente 4   2023-07-28             C       VALE3           FUTU   \n",
            "1    Cliente 4   2023-07-28             C       VALE3           FUTU   \n",
            "2    Cliente 4   2023-11-08             C       VALE3           FUTU   \n",
            "3    Cliente 4   2023-09-21             C       VALE3           FUTU   \n",
            "4    Cliente 4   2023-05-23             C       VALE3           FUTU   \n",
            "\n",
            "   Quantidade      Preço  Valor Líquido Dt. Liquidação Tipo  \n",
            "0         500  68.765780      -34382.89     2023-08-01   AV  \n",
            "1        1500  68.865820     -103298.73     2023-08-01   AV  \n",
            "2        2000  70.096110     -140192.22     2023-11-10   AV  \n",
            "3       10000  67.815595     -678155.95     2023-09-25   AV  \n",
            "4        2000  66.915825     -133831.65     2023-05-25   AV  \n"
          ]
        },
        {
          "data": {
            "text/plain": [
              "Cód. Cliente              object\n",
              "Dt. Operação      datetime64[ns]\n",
              "Tipo Operação             object\n",
              "Cód. Título               object\n",
              "Cód. Corretora            object\n",
              "Quantidade                 int64\n",
              "Preço                    float64\n",
              "Valor Líquido            float64\n",
              "Dt. Liquidação    datetime64[ns]\n",
              "Tipo                      object\n",
              "dtype: object"
            ]
          },
          "execution_count": 6,
          "metadata": {},
          "output_type": "execute_result"
        }
      ],
      "source": [
        "print(df_spot.head())\n",
        "df_spot.dtypes"
      ]
    },
    {
      "cell_type": "code",
      "execution_count": 7,
      "metadata": {
        "colab": {
          "base_uri": "https://localhost:8080/"
        },
        "id": "oBHgcQBNZcxB",
        "outputId": "52944212-573c-4c51-b5e9-2e79b71a7dbc"
      },
      "outputs": [
        {
          "name": "stdout",
          "output_type": "stream",
          "text": [
            "    Chave Cód. Cliente Dt. Operação Tipo Operação Cód. Título Cód. Corretora  \\\n",
            "0   5048A    Cliente 4   2023-02-10             V       VALE3           FUTU   \n",
            "1   6431A    Cliente 4   2023-10-04             V       VALE3           FUTU   \n",
            "2   6432A    Cliente 4   2023-10-04             V       VALE3           FUTU   \n",
            "3  13878A    Cliente 4   2023-04-20             V       VALE3           FUTU   \n",
            "4  13879A    Cliente 4   2023-04-20             V       VALE3           FUTU   \n",
            "\n",
            "   Quantidade      Preço  Valor Líquido Vencimento Tipo        DI  \n",
            "0         575  89.022087       51187.70 2023-04-25   TE  0.136535  \n",
            "1          53  66.586981        3529.11 2023-11-03   TE  0.126429  \n",
            "2          53  66.586981        3529.11 2023-11-03   TE  0.126429  \n",
            "3         978  76.640153       74954.07 2023-06-19   TE  0.136376  \n",
            "4          22  76.650909        1686.32 2023-06-19   TE  0.136376  \n"
          ]
        },
        {
          "data": {
            "text/plain": [
              "Chave                     object\n",
              "Cód. Cliente              object\n",
              "Dt. Operação      datetime64[ns]\n",
              "Tipo Operação             object\n",
              "Cód. Título               object\n",
              "Cód. Corretora            object\n",
              "Quantidade                 int64\n",
              "Preço                    float64\n",
              "Valor Líquido            float64\n",
              "Vencimento        datetime64[ns]\n",
              "Tipo                      object\n",
              "DI                       float64\n",
              "dtype: object"
            ]
          },
          "execution_count": 7,
          "metadata": {},
          "output_type": "execute_result"
        }
      ],
      "source": [
        "print(df_futures.head())\n",
        "df_futures.dtypes"
      ]
    },
    {
      "cell_type": "markdown",
      "metadata": {
        "id": "xNSL63ChhpLN"
      },
      "source": [
        "## Feature Engineering"
      ]
    },
    {
      "cell_type": "markdown",
      "metadata": {
        "id": "tJ9WDSeDed9D"
      },
      "source": [
        "### Limpeza\n",
        "\n",
        "Os seguintes dados não são necesários para nossa análise e podem ser removidos completamente:\n",
        "\n",
        "#### Planilha de Compra à vista (df_spot)\n",
        "\n",
        "- Cód. Cliente: já foi filtrado previamente\n",
        "- Dt. Operação: não importa, só a de liquidação\n",
        "- Tipo Operação: todas são C\n",
        "- Cód. Título: já foi filtrado previamente\n",
        "- Cód. Corretora: já foi filtrado previamente\n",
        "- Valor Líquido: não importa, pode ser calculado a partir da quantidade e preço\n",
        "- Tipo: todos são AV\n",
        "\n",
        "#### Planilha de Venda a termo (df_futures)\n",
        "\n",
        "- Cód. Cliente: já foi filtrado previamente\n",
        "- Dt. Operação: não importa, só a de vencimento\n",
        "- Tipo Operação: todas são V\n",
        "- Cód. Título: já foi filtrado previamente\n",
        "- Cód. Corretora: já foi filtrado previamente\n",
        "- Tipo: todos são TE\n",
        "- Valor Líquido: não importa, pode ser calculado a partir da quantidade e preço"
      ]
    },
    {
      "cell_type": "code",
      "execution_count": 8,
      "metadata": {
        "id": "ckRqhO6SgCr7"
      },
      "outputs": [],
      "source": [
        "df_spot = df_spot.drop(columns=['Cód. Cliente', 'Tipo Operação', 'Dt. Operação', 'Cód. Título', 'Cód. Corretora', 'Tipo', 'Valor Líquido'])\n",
        "df_futures = df_futures.drop(columns=['Cód. Cliente', 'Dt. Operação', 'Tipo Operação', 'Cód. Título', 'Cód. Corretora', 'Valor Líquido', 'Tipo'])\n",
        "\n",
        "# Vamos adicionar uma chave sintética também para a planilha spot, assim podemos saber que ações a termo estão vinculadas a ações à vista\n",
        "df_spot.insert(0,'Chave','')\n",
        "df_spot['Chave'] = df_spot.index.astype(str)\n",
        "\n",
        "# Renomear colunas para tornar mais fácil lembrar o nome\n",
        "df_spot = df_spot.rename(columns={\"Dt. Liquidação\": \"Liquidação\"})\n"
      ]
    },
    {
      "cell_type": "code",
      "execution_count": 9,
      "metadata": {
        "colab": {
          "base_uri": "https://localhost:8080/"
        },
        "id": "xci796tySSBg",
        "outputId": "4fb17767-129f-4bf0-a853-3f720e022ac2"
      },
      "outputs": [
        {
          "name": "stdout",
          "output_type": "stream",
          "text": [
            "  Chave  Quantidade      Preço Liquidação\n",
            "0     0         500  68.765780 2023-08-01\n",
            "1     1        1500  68.865820 2023-08-01\n",
            "2     2        2000  70.096110 2023-11-10\n",
            "3     3       10000  67.815595 2023-09-25\n",
            "4     4        2000  66.915825 2023-05-25\n",
            "    Chave  Quantidade      Preço Vencimento        DI\n",
            "0   5048A         575  89.022087 2023-04-25  0.136535\n",
            "1   6431A          53  66.586981 2023-11-03  0.126429\n",
            "2   6432A          53  66.586981 2023-11-03  0.126429\n",
            "3  13878A         978  76.640153 2023-06-19  0.136376\n",
            "4  13879A          22  76.650909 2023-06-19  0.136376\n"
          ]
        }
      ],
      "source": [
        "print(df_spot.head())\n",
        "print(df_futures.head())"
      ]
    },
    {
      "cell_type": "markdown",
      "metadata": {
        "id": "43Ddqkx2gHfs"
      },
      "source": [
        "## Normalização e Features\n",
        "\n",
        "Não podemos normalizar os dados existentes, pois eles devem ser exatos por um ou outro motivo:\n",
        "\n",
        "- Se modificarmos as datas de vencimento ou de liquidação, isso tornará difícil estabelecer uma regra de que a liquidação tem que ocorrer antes do vencimento.\n",
        "\n",
        "- Se modificarmos a taxa DI, será difícil construir a curva do valor descontado.\n",
        "\n",
        "- Se normalizarmos a quantidade ou o preço, não conseguiremos estabelecer o valor exato de ações que deverão ser vinculadas por um valor específico e o parceiro precisa dessa informação.\n",
        "\n",
        "As features serão, portanto:\n",
        "\n",
        "- Chave das ações à vista e a termo\n",
        "- Quandidade das ações disponíveis à vista e a termo\n",
        "- Data de liquidação da ação à vista\n",
        "- Data de vencimento da ação a termo\n",
        "- Taxa DI da ação a termo"
      ]
    },
    {
      "cell_type": "markdown",
      "metadata": {
        "id": "YeKoBHK2W-uI"
      },
      "source": [
        "# 2 - Estabelecimento de Critérios e Função de Recompensa:\n",
        "\n",
        "Estabeleçam critérios claros para definir um episódio.\n",
        "Descrevam detalhadamente a função de recompensa.\n",
        "Desenvolvam uma variável de classe \"env\" para iniciar as simulações durante o treinamento."
      ]
    },
    {
      "cell_type": "markdown",
      "metadata": {
        "id": "IEi4I1AUgVoc"
      },
      "source": [
        "## Criar o Ambiente no Gym"
      ]
    },
    {
      "cell_type": "code",
      "execution_count": 10,
      "metadata": {
        "colab": {
          "base_uri": "https://localhost:8080/"
        },
        "id": "5l6mnuHht7V_",
        "outputId": "81d227e7-40f4-4a65-8ecf-aaab2458b4be"
      },
      "outputs": [
        {
          "name": "stdout",
          "output_type": "stream",
          "text": [
            "Collecting pandas-market-calendars\n",
            "  Downloading pandas_market_calendars-4.4.0-py3-none-any.whl (106 kB)\n",
            "\u001b[2K     \u001b[90m━━━━━━━━━━━━━━━━━━━━━━━━━━━━━━━━━━━━━━━━\u001b[0m \u001b[32m106.6/106.6 kB\u001b[0m \u001b[31m1.2 MB/s\u001b[0m eta \u001b[36m0:00:00\u001b[0m\n",
            "\u001b[?25hRequirement already satisfied: pandas>=1.1 in /usr/local/lib/python3.10/dist-packages (from pandas-market-calendars) (1.5.3)\n",
            "Requirement already satisfied: pytz in /usr/local/lib/python3.10/dist-packages (from pandas-market-calendars) (2023.4)\n",
            "Requirement already satisfied: python-dateutil in /usr/local/lib/python3.10/dist-packages (from pandas-market-calendars) (2.8.2)\n",
            "Collecting exchange-calendars>=3.3 (from pandas-market-calendars)\n",
            "  Downloading exchange_calendars-4.5.3-py3-none-any.whl (191 kB)\n",
            "\u001b[2K     \u001b[90m━━━━━━━━━━━━━━━━━━━━━━━━━━━━━━━━━━━━━━━━\u001b[0m \u001b[32m191.7/191.7 kB\u001b[0m \u001b[31m4.1 MB/s\u001b[0m eta \u001b[36m0:00:00\u001b[0m\n",
            "\u001b[?25hRequirement already satisfied: numpy<2 in /usr/local/lib/python3.10/dist-packages (from exchange-calendars>=3.3->pandas-market-calendars) (1.25.2)\n",
            "Collecting pyluach (from exchange-calendars>=3.3->pandas-market-calendars)\n",
            "  Downloading pyluach-2.2.0-py3-none-any.whl (25 kB)\n",
            "Requirement already satisfied: toolz in /usr/local/lib/python3.10/dist-packages (from exchange-calendars>=3.3->pandas-market-calendars) (0.12.1)\n",
            "Collecting tzdata (from exchange-calendars>=3.3->pandas-market-calendars)\n",
            "  Downloading tzdata-2024.1-py2.py3-none-any.whl (345 kB)\n",
            "\u001b[2K     \u001b[90m━━━━━━━━━━━━━━━━━━━━━━━━━━━━━━━━━━━━━━━━\u001b[0m \u001b[32m345.4/345.4 kB\u001b[0m \u001b[31m20.1 MB/s\u001b[0m eta \u001b[36m0:00:00\u001b[0m\n",
            "\u001b[?25hCollecting korean-lunar-calendar (from exchange-calendars>=3.3->pandas-market-calendars)\n",
            "  Downloading korean_lunar_calendar-0.3.1-py3-none-any.whl (9.0 kB)\n",
            "Requirement already satisfied: six>=1.5 in /usr/local/lib/python3.10/dist-packages (from python-dateutil->pandas-market-calendars) (1.16.0)\n",
            "Installing collected packages: korean-lunar-calendar, tzdata, pyluach, exchange-calendars, pandas-market-calendars\n",
            "Successfully installed exchange-calendars-4.5.3 korean-lunar-calendar-0.3.1 pandas-market-calendars-4.4.0 pyluach-2.2.0 tzdata-2024.1\n"
          ]
        }
      ],
      "source": [
        "!pip install pandas-market-calendars # biblioteca para pegar os dias úteis do ano para cálculo do valor descontado"
      ]
    },
    {
      "cell_type": "code",
      "execution_count": 11,
      "metadata": {
        "id": "JazcNzC0cSLo"
      },
      "outputs": [],
      "source": [
        "import gym # v0.25.2\n",
        "from gym import spaces\n",
        "import numpy as np\n",
        "import pandas_market_calendars as mcal\n",
        "\n",
        "class CashAndCarryArbitrageEnv(gym.Env):\n",
        "    \"\"\"Ambiente personalizado para Arbitragem de Cash and Carry usando a biblioteca gym\"\"\"\n",
        "\n",
        "    def __init__(self, df_futures=pd.DataFrame(), df_spot=pd.DataFrame()):\n",
        "        super(CashAndCarryArbitrageEnv, self).__init__()\n",
        "\n",
        "        # Carregar dataframes de referência\n",
        "        self.df_futures = df_futures\n",
        "        self.df_spot = df_spot\n",
        "\n",
        "        # Definir espaço de ação\n",
        "        # 0: combinar,\n",
        "        # 1: descombinar,\n",
        "        # 2: passar para próxima ação a termo,\n",
        "        # 3: passar para próxima ação à vista\n",
        "        self.action_space = spaces.Discrete(4)\n",
        "\n",
        "        # Definir espaço de observação\n",
        "        self.observation_space = spaces.Dict(\n",
        "            {\n",
        "                \"future_index\": spaces.Discrete(len(self.df_futures)), # Indice da ação a termo atualmente sob análise\n",
        "                \"spot_index\": spaces.Discrete(len(self.df_spot)), # Indice da ação a vista atualmente sob análise\n",
        "                \"future_quantity\": spaces.Discrete(self.df_futures['Quantidade'].max() + 1), # Quantidade disponível para combinar do termo atual\n",
        "                \"available_spot_stocks\": spaces.Box(low=0, high=np.inf, shape=(len(self.df_spot),), dtype=np.int64), # Quantidade de ações spot disponíveis para esse termo\n",
        "                \"selected_spot_stocks\": spaces.Box(low=0, high=np.inf, shape=(len(self.df_spot),), dtype=np.int64), # Quantidade de ações spot selecionadas para esse termo\n",
        "            }\n",
        "        )\n",
        "\n",
        "        # Inicializar estado do ambiente\n",
        "        self.matches = {index: [] for index in range(len(self.df_futures))} # dicionario com as combinações, para output e para salvar na memória quando troca de termo\n",
        "        self.state = {}\n",
        "\n",
        "    def step(self, action):\n",
        "        # Interpretar as ações possíveis\n",
        "        match = action == 0\n",
        "        unmatch = action == 1\n",
        "        next_future = action == 2\n",
        "        next_spot = action == 3\n",
        "\n",
        "        # Salva o valor inicial da quantidade de termos disponíveis, para comparação posterior\n",
        "        initial_future_quantity = self.state['future_quantity']\n",
        "\n",
        "        spot_index = self.state['spot_index']\n",
        "        future_index = self.state['future_index']\n",
        "        # Atualizar o estado baseado na ação\n",
        "        if match:\n",
        "            # Selecionar um futuro e uma ação spot específicos e realizar a combinação\n",
        "            current_future_quantity = self.state['future_quantity']\n",
        "            current_spot_quantity = self.df_spot.at[spot_index, 'Quantidade']\n",
        "\n",
        "            # Se as ações à vista disponíveis excederem as ações a termo, use só as ações remanescentes que tiver\n",
        "            if current_future_quantity < current_spot_quantity:\n",
        "                current_spot_quantity = self.state['future_quantity']\n",
        "\n",
        "            self.state['future_quantity'] -= current_spot_quantity\n",
        "            self.state['available_spot_stocks'][spot_index] -= current_spot_quantity\n",
        "            self.state['selected_spot_stocks'][self.state['spot_index']] += current_spot_quantity\n",
        "        elif unmatch:\n",
        "            # Fazer o caminho contrário do 'match' acima\n",
        "            current_spot_quantity = self.state['selected_spot_stocks'][self.state['spot_index']]\n",
        "\n",
        "            # Nesse caso não é necessário verificar se vamos exceder as ações a termo\n",
        "            self.state['future_quantity'] += current_spot_quantity\n",
        "            self.state['available_spot_stocks'][spot_index] += current_spot_quantity\n",
        "            self.state['selected_spot_stocks'][self.state['spot_index']] -= current_spot_quantity\n",
        "        elif next_future:\n",
        "            self.state['future_index'] += 1\n",
        "            self._advance_to_next_eligible_spot()\n",
        "            # self._advance_to_next_eligible_spot()\n",
        "            # Verificar se todos as ações a termo já foram processadas (estado de parada provisório para testar a versão inicial)\n",
        "            if self.state['future_index'] >= len(self.df_futures):\n",
        "                self.done = True\n",
        "            else:\n",
        "                self.state['future_quantity']  = self.df_futures.at[self.state['future_index'], 'Quantidade']\n",
        "                self.matches[self.state['future_index']] = [e for e in self.state['selected_spot_stocks']]\n",
        "                self.state['selected_spot_stocks'] = np.zeros((len(self.df_spot),), dtype=np.int64)\n",
        "            return self.state, 0, self.done, {} # retorna 0 como recompensa e vai para próximo futuro\n",
        "\n",
        "        elif next_spot:\n",
        "            self._advance_to_next_eligible_spot()\n",
        "            return self.state, 0, self.done, {} # retorna 0 como recompensa e vai para próximo futuro\n",
        "\n",
        "\n",
        "        # Calcular a recompensa\n",
        "        # Após processar a ação, calcular pdv_future e obter spot_price\n",
        "        pdv_future = self._compute_pdv_future()\n",
        "        spot_price = self.df_spot.at[self.state['spot_index'], 'Preço']\n",
        "        reward = self._calculate_reward(initial_future_quantity, pdv_future, spot_price)\n",
        "\n",
        "\n",
        "        # Atualizar informações adicionais para retornar, se necessário\n",
        "        info = {}\n",
        "\n",
        "        return self.state, reward, self.done, info\n",
        "\n",
        "    def reset(self):\n",
        "        self.state['future_index'] = 0\n",
        "        self.state['spot_index'] = 0\n",
        "\n",
        "        self._advance_to_next_eligible_spot()\n",
        "\n",
        "        # Seleciona o primeiro futuro\n",
        "        self.state['future_quantity'] = self.df_futures.at[self.state['future_index'], 'Quantidade']\n",
        "        self.state['available_spot_stocks'] = self.df_spot['Quantidade'].values\n",
        "        self.state['selected_spot_stocks'] = np.zeros((len(self.df_spot),), dtype=np.int64)\n",
        "        self.done = False\n",
        "\n",
        "        return self.state\n",
        "\n",
        "    def _calculate_reward(self, initial_future_quantity, pdv_future, spot_price):\n",
        "        \"\"\"\n",
        "        Calcula a recompensa com base na quantidade de future_quantity usada e na diferença\n",
        "        entre pdv_future e spot_price.\n",
        "        \"\"\"\n",
        "        # Calcula a mudança em future_quantity como resultado da ação\n",
        "        quantity_change = initial_future_quantity - self.state['future_quantity']\n",
        "\n",
        "        # Calcula a diferença entre pdv_future e spot_price\n",
        "        difference = abs(pdv_future - spot_price)\n",
        "\n",
        "        # Formulação básica da recompensa: maior recompensa para maior redução de future_quantity\n",
        "        # e penalidade proporcional à diferença de preço. Podemos ajustar os pesos conforme necessário.\n",
        "        reward = quantity_change * 0.1 - difference * 10  # Aqui, o peso da quantidade usada é 10 vezes o da diferença de preço\n",
        "\n",
        "        return reward\n",
        "\n",
        "\n",
        "    def _compute_pdv_future(self):\n",
        "        \"\"\"\n",
        "        Computa o valor presente do termo sob análise.\n",
        "        \"\"\"\n",
        "        future = self.df_futures.iloc[self.state['future_index']]\n",
        "        DI_rate = future['DI'] # em %\n",
        "\n",
        "        spot = self.df_spot.iloc[self.state['spot_index']]\n",
        "\n",
        "        # Cria uma instância do calendário BM&F\n",
        "        bmf_calendar = mcal.get_calendar('BMF')\n",
        "\n",
        "        # Gera um DataFrame dos dias úteis entre as datas de início e fim\n",
        "        schedule = bmf_calendar.schedule(start_date=spot['Liquidação'], end_date=future['Vencimento'])\n",
        "\n",
        "        # Calcula o número de dias úteis como o tamanho desse DataFrame\n",
        "        days_until_expiration = len(schedule)\n",
        "\n",
        "        # Calcula o PDV do futuro com base no número de dias úteis\n",
        "        pdv_future = future['Preço'] / (1 + DI_rate) ** (days_until_expiration / 252)\n",
        "\n",
        "        return pdv_future\n",
        "\n",
        "    def _advance_to_next_eligible_spot(self):\n",
        "        \"\"\"\n",
        "        Loop até encontrar uma ação à vista com data de liquidação antes da data de vencimento do futuro atual.\n",
        "        \"\"\"\n",
        "\n",
        "        while self.state['future_index'] < len(self.df_futures) - 1:\n",
        "            while self.state['spot_index'] < len(self.df_spot) - 1:  # Evita ultrapassar o limite do array\n",
        "                # Incrementa o índice da ação à vista\n",
        "                self.state['spot_index'] += 1\n",
        "\n",
        "                # Obtém as datas de liquidação e vencimento para comparação\n",
        "                expiration_date = self.df_futures.iloc[self.state['future_index']]['Vencimento']\n",
        "                liquidation_date = self.df_spot.iloc[self.state['spot_index']]['Liquidação']\n",
        "\n",
        "                # Verifica se a data de liquidação é antes da data de vencimento\n",
        "                if liquidation_date < expiration_date:\n",
        "                    return  # A ação à vista atual é elegível, interromper a função\n",
        "            self.state['future_index'] += 1\n"
      ]
    },
    {
      "cell_type": "markdown",
      "metadata": {
        "id": "qs7n2m-zgUZC"
      },
      "source": [
        "## Registrar o Ambiente"
      ]
    },
    {
      "cell_type": "code",
      "execution_count": 12,
      "metadata": {
        "colab": {
          "base_uri": "https://localhost:8080/"
        },
        "id": "9DJZbOKFXUmc",
        "outputId": "dbf70f7b-c48d-4f7a-b81c-6b91aa07d1ff"
      },
      "outputs": [
        {
          "name": "stderr",
          "output_type": "stream",
          "text": [
            "/usr/local/lib/python3.10/dist-packages/ipykernel/ipkernel.py:283: DeprecationWarning: `should_run_async` will not call `transform_cell` automatically in the future. Please pass the result to `transformed_cell` argument and any exception that happen during thetransform in `preprocessing_exc_tuple` in IPython 7.17 and above.\n",
            "  and should_run_async(code)\n"
          ]
        }
      ],
      "source": [
        "from gym.envs.registration import register\n",
        "\n",
        "register(\n",
        "    id='CashAndCarryArbitrage-v0',\n",
        "    entry_point='__main__:CashAndCarryArbitrageEnv',\n",
        ")"
      ]
    },
    {
      "cell_type": "markdown",
      "metadata": {
        "id": "DNJcHExVgvnD"
      },
      "source": [
        "## Instanciar o ambiente"
      ]
    },
    {
      "cell_type": "code",
      "execution_count": 13,
      "metadata": {
        "colab": {
          "base_uri": "https://localhost:8080/"
        },
        "id": "lnyJULDogvMu",
        "outputId": "4a799285-c312-4f0c-a620-49df6ad9f42a"
      },
      "outputs": [
        {
          "name": "stderr",
          "output_type": "stream",
          "text": [
            "/usr/local/lib/python3.10/dist-packages/gym/core.py:317: DeprecationWarning: \u001b[33mWARN: Initializing wrapper in old step API which returns one bool instead of two. It is recommended to set `new_step_api=True` to use new step API. This will be the default behaviour in future.\u001b[0m\n",
            "  deprecation(\n",
            "/usr/local/lib/python3.10/dist-packages/gym/wrappers/step_api_compatibility.py:39: DeprecationWarning: \u001b[33mWARN: Initializing environment in old step API which returns one bool instead of two. It is recommended to set `new_step_api=True` to use new step API. This will be the default behaviour in future.\u001b[0m\n",
            "  deprecation(\n"
          ]
        }
      ],
      "source": [
        "env = gym.make('CashAndCarryArbitrage-v0', df_futures=df_futures, df_spot=df_spot)"
      ]
    },
    {
      "cell_type": "code",
      "execution_count": 14,
      "metadata": {
        "colab": {
          "base_uri": "https://localhost:8080/"
        },
        "id": "fBqNwstAu9BC",
        "outputId": "6bd78c83-0af6-4f8b-e61a-91064ff921fa"
      },
      "outputs": [
        {
          "name": "stdout",
          "output_type": "stream",
          "text": [
            "Tamanho do vetor de estados: 63\n",
            "Número de ações: 4\n"
          ]
        }
      ],
      "source": [
        "state_size = (sum(1 for key, space in env.observation_space.spaces.items() if isinstance(space, spaces.Discrete))\n",
        "              + sum(np.prod(space.shape) for key, space in env.observation_space.spaces.items() if isinstance(space, spaces.Box)))\n",
        "\n",
        "# Verificar a quantidade de ações\n",
        "num_actions = env.action_space.n\n",
        "\n",
        "print(\"Tamanho do vetor de estados:\", state_size)\n",
        "print(\"Número de ações:\", num_actions)"
      ]
    },
    {
      "cell_type": "code",
      "execution_count": 15,
      "metadata": {
        "colab": {
          "base_uri": "https://localhost:8080/"
        },
        "id": "USOOHj2LDhtQ",
        "outputId": "7c48a21b-02a4-4843-b8c6-de20c7eeeb5a"
      },
      "outputs": [
        {
          "name": "stderr",
          "output_type": "stream",
          "text": [
            "/usr/local/lib/python3.10/dist-packages/pandas/core/dtypes/cast.py:1641: DeprecationWarning: np.find_common_type is deprecated.  Please use `np.result_type` or `np.promote_types`.\n",
            "See https://numpy.org/devdocs/release/1.25.0-notes.html and the docs for more information.  (Deprecated NumPy 1.25)\n",
            "  return np.find_common_type(types, [])\n"
          ]
        }
      ],
      "source": [
        "initial_state = env.reset() # resetar ambiente"
      ]
    },
    {
      "cell_type": "code",
      "execution_count": 16,
      "metadata": {
        "colab": {
          "base_uri": "https://localhost:8080/"
        },
        "id": "4Dd8FGtuzPyO",
        "outputId": "aace6ae2-340d-4f6a-b9ce-9efc27dfaa46"
      },
      "outputs": [
        {
          "name": "stdout",
          "output_type": "stream",
          "text": [
            "Estado inicial: {'future_index': 0, 'spot_index': 21, 'future_quantity': 0, 'available_spot_stocks': array([  500,  1500,  2000, 10000,  2000,   800,   200,  2600,   200,\n",
            "         100,   600,   500,   500,  3000, 10000,  1000,  5000,  5000,\n",
            "         200,   300,   400,   425,  1900,   300,  5000,   500,  5000,\n",
            "         400,   200,  1000]), 'selected_spot_stocks': array([  0,   0,   0,   0,   0,   0,   0,   0,   0,   0,   0,   0,   0,\n",
            "         0,   0,   0,   0,   0,   0,   0,   0, 575,   0,   0,   0,   0,\n",
            "         0,   0,   0,   0])}\n",
            "Ação tomada: 0\n",
            "Próximo estado: {'future_index': 0, 'spot_index': 21, 'future_quantity': 0, 'available_spot_stocks': array([  500,  1500,  2000, 10000,  2000,   800,   200,  2600,   200,\n",
            "         100,   600,   500,   500,  3000, 10000,  1000,  5000,  5000,\n",
            "         200,   300,   400,   425,  1900,   300,  5000,   500,  5000,\n",
            "         400,   200,  1000]), 'selected_spot_stocks': array([  0,   0,   0,   0,   0,   0,   0,   0,   0,   0,   0,   0,   0,\n",
            "         0,   0,   0,   0,   0,   0,   0,   0, 575,   0,   0,   0,   0,\n",
            "         0,   0,   0,   0])}\n",
            "Recompensa recebida: 55.47666455300572\n",
            "Episódio terminou?: False\n",
            "Info: {}\n",
            "Matches:  {0: [], 1: [], 2: [], 3: [], 4: [], 5: [], 6: [], 7: [], 8: [], 9: [], 10: [], 11: [], 12: [], 13: [], 14: [], 15: [], 16: [], 17: [], 18: [], 19: [], 20: [], 21: [], 22: [], 23: [], 24: [], 25: [], 26: [], 27: [], 28: [], 29: [], 30: [], 31: [], 32: [], 33: [], 34: [], 35: [], 36: [], 37: [], 38: [], 39: [], 40: [], 41: [], 42: [], 43: [], 44: [], 45: [], 46: [], 47: [], 48: [], 49: [], 50: [], 51: [], 52: [], 53: [], 54: [], 55: [], 56: [], 57: [], 58: [], 59: []}\n"
          ]
        },
        {
          "name": "stderr",
          "output_type": "stream",
          "text": [
            "/usr/local/lib/python3.10/dist-packages/pandas/core/algorithms.py:522: DeprecationWarning: np.find_common_type is deprecated.  Please use `np.result_type` or `np.promote_types`.\n",
            "See https://numpy.org/devdocs/release/1.25.0-notes.html and the docs for more information.  (Deprecated NumPy 1.25)\n",
            "  common = np.find_common_type([values.dtype, comps_array.dtype], [])\n",
            "/usr/local/lib/python3.10/dist-packages/pandas/core/dtypes/cast.py:1641: DeprecationWarning: np.find_common_type is deprecated.  Please use `np.result_type` or `np.promote_types`.\n",
            "See https://numpy.org/devdocs/release/1.25.0-notes.html and the docs for more information.  (Deprecated NumPy 1.25)\n",
            "  return np.find_common_type(types, [])\n",
            "/usr/local/lib/python3.10/dist-packages/pandas/core/algorithms.py:522: DeprecationWarning: np.find_common_type is deprecated.  Please use `np.result_type` or `np.promote_types`.\n",
            "See https://numpy.org/devdocs/release/1.25.0-notes.html and the docs for more information.  (Deprecated NumPy 1.25)\n",
            "  common = np.find_common_type([values.dtype, comps_array.dtype], [])\n",
            "/usr/local/lib/python3.10/dist-packages/gym/utils/passive_env_checker.py:227: DeprecationWarning: \u001b[33mWARN: Core environment is written in old step API which returns one bool instead of two. It is recommended to rewrite the environment with new step API. \u001b[0m\n",
            "  logger.deprecation(\n",
            "/usr/local/lib/python3.10/dist-packages/gym/utils/passive_env_checker.py:233: DeprecationWarning: `np.bool8` is a deprecated alias for `np.bool_`.  (Deprecated NumPy 1.24)\n",
            "  if not isinstance(done, (bool, np.bool8)):\n"
          ]
        }
      ],
      "source": [
        "# Seleciona uma ação, lembre-se:\n",
        "# 0: combinar o termo atual com à vista atual\n",
        "# 1: descombinar o termo atual com à vista atual\n",
        "# 2: passar para próxima ação à vista\n",
        "action = 0\n",
        "\n",
        "# Run a single time step of the environment's dynamics with the given action.\n",
        "next_state, reward, done, info = env.step(action)\n",
        "\n",
        "with np.printoptions(formatter={'float': '{:.3f}'.format}):\n",
        "    print(\"Estado inicial:\", initial_state)\n",
        "    print(\"Ação tomada:\", action)\n",
        "    print(\"Próximo estado:\", next_state)\n",
        "    print(\"Recompensa recebida:\", reward)\n",
        "    print(\"Episódio terminou?:\", done)\n",
        "    print(\"Info:\", info)\n",
        "    print(\"Matches: \", env.matches)"
      ]
    },
    {
      "cell_type": "markdown",
      "metadata": {
        "id": "S6LsaInuW5OA"
      },
      "source": [
        "# 3 - Hiperparâmetros e Estrutura da Rede Neural:\n",
        "\n",
        "Mapeiem a estrutura da rede neural que será treinada como agente.\n",
        "Definam o número de entradas e descrevam cada uma delas.\n",
        "Definam o número de camadas ocultas, suas funções de ativação e o número de saídas, além das funções de ativação associadas.\n",
        "\n",
        "Observação: o código abaixo foi adaptado do modelo \"Lunar Lander\" do curso \"Unsupervised Learning, Recommenders, Reinforcement Learning\" do professor Andrew Ng, disponível em https://www.coursera.org/learn/unsupervised-learning-recommenders-reinforcement-learning/home/week/3"
      ]
    },
    {
      "cell_type": "markdown",
      "metadata": {
        "id": "eXr1v4OLpJyv"
      },
      "source": [
        "## Hiperparâmetros"
      ]
    },
    {
      "cell_type": "code",
      "execution_count": 17,
      "metadata": {
        "colab": {
          "base_uri": "https://localhost:8080/"
        },
        "id": "kTRuWEGronVX",
        "outputId": "a18feeee-0116-4619-89de-0ed58d443e54"
      },
      "outputs": [
        {
          "name": "stderr",
          "output_type": "stream",
          "text": [
            "/usr/local/lib/python3.10/dist-packages/ipykernel/ipkernel.py:283: DeprecationWarning: `should_run_async` will not call `transform_cell` automatically in the future. Please pass the result to `transformed_cell` argument and any exception that happen during thetransform in `preprocessing_exc_tuple` in IPython 7.17 and above.\n",
            "  and should_run_async(code)\n"
          ]
        }
      ],
      "source": [
        "MEMORY_SIZE = 100_000     # tamanho do buffer de memória\n",
        "GAMMA = 0.995             # fator de desconto\n",
        "ALPHA = 1e-3              # taxa de aprendizado\n",
        "NUM_STEPS_FOR_UPDATE = 4  # realizar um processo de aprendizado a cada C passos"
      ]
    },
    {
      "cell_type": "markdown",
      "metadata": {
        "id": "sq3EX-nSrF63"
      },
      "source": [
        "## Função de transformação\n",
        "\n",
        "Essa função é necessária pois a rede neural requer um vetor de estados e temos um dicionário. Vamos unificar o dicionário em um vetor toda vez que recebermos uma observação de estado, para passar para a rede."
      ]
    },
    {
      "cell_type": "code",
      "execution_count": 18,
      "metadata": {
        "id": "uuLWz89SpZGp"
      },
      "outputs": [],
      "source": [
        "import tensorflow as tf\n",
        "\n",
        "from keras import Sequential\n",
        "from keras.layers import Dense, Input\n",
        "from keras.losses import MSE\n",
        "from keras.optimizers import Adam\n",
        "\n",
        "# Criação da Q-Network\n",
        "q_network = Sequential([\n",
        "    Input(shape=(state_size,)),  # Ajuste aqui\n",
        "    Dense(units=64, activation='relu'),\n",
        "    Dense(units=64, activation='relu'),\n",
        "    Dense(units=num_actions, activation='linear'),\n",
        "])\n",
        "\n",
        "# Criação da \"target Q-Network\" com mesa arquitetura da Q-Network\n",
        "target_q_network = Sequential([\n",
        "    Input(shape=(state_size,)),  # Ajuste aqui\n",
        "    Dense(units=64, activation='relu'),\n",
        "    Dense(units=64, activation='relu'),\n",
        "    Dense(units=num_actions, activation='linear'),\n",
        "])\n",
        "\n",
        "optimizer = Adam(learning_rate=ALPHA)"
      ]
    },
    {
      "cell_type": "markdown",
      "metadata": {
        "id": "A53Y0KLBBIT5"
      },
      "source": [
        "## Funções auxiliares"
      ]
    },
    {
      "cell_type": "code",
      "execution_count": 19,
      "metadata": {
        "colab": {
          "base_uri": "https://localhost:8080/"
        },
        "id": "JHO7JfY6BIEl",
        "outputId": "ba4636eb-ca35-4116-9918-fe7dfced74da"
      },
      "outputs": [
        {
          "name": "stderr",
          "output_type": "stream",
          "text": [
            "/usr/local/lib/python3.10/dist-packages/ipykernel/ipkernel.py:283: DeprecationWarning: `should_run_async` will not call `transform_cell` automatically in the future. Please pass the result to `transformed_cell` argument and any exception that happen during thetransform in `preprocessing_exc_tuple` in IPython 7.17 and above.\n",
            "  and should_run_async(code)\n"
          ]
        }
      ],
      "source": [
        "import base64\n",
        "import random\n",
        "from itertools import zip_longest\n",
        "\n",
        "import matplotlib.pyplot as plt\n",
        "import matplotlib.ticker as mticker\n",
        "from statsmodels.iolib.table import SimpleTable\n",
        "\n",
        "\n",
        "SEED = 0              # seed para gerador de números aleatório\n",
        "MINIBATCH_SIZE = 64   # tamnho do mini-batch\n",
        "TAU = 1e-3            # update de parâmetros\n",
        "E_DECAY = 0.995       # taxa de decay para política ε-greedy\n",
        "E_MIN = 0.01          # menor valor para política ε-greedy\n",
        "\n",
        "\n",
        "random.seed(SEED)\n",
        "\n",
        "def transform_observation(observation):\n",
        "    scalar_parts = [observation['future_index'], observation['spot_index'], observation['future_quantity']]\n",
        "    array_parts = [observation['available_spot_stocks'], observation['selected_spot_stocks']]\n",
        "    state = np.concatenate([np.array(scalar_parts), *array_parts])\n",
        "    return state\n",
        "\n",
        "\n",
        "def get_experiences(memory_buffer):\n",
        "    experiences = random.sample(memory_buffer, k=MINIBATCH_SIZE)\n",
        "    states = np.array([e.state for e in experiences if e is not None])\n",
        "    actions = np.array([e.action for e in experiences if e is not None])\n",
        "    rewards = np.array([e.reward for e in experiences if e is not None])\n",
        "    next_states = np.array([e.next_state for e in experiences if e is not None])\n",
        "    done_vals = np.array([e.done for e in experiences if e is not None])\n",
        "\n",
        "    # Converter para tensores TensorFlow\n",
        "    states = tf.convert_to_tensor(states, dtype=tf.float32)\n",
        "    actions = tf.convert_to_tensor(actions, dtype=tf.float32)\n",
        "    rewards = tf.convert_to_tensor(rewards, dtype=tf.float32)\n",
        "    next_states = tf.convert_to_tensor(next_states, dtype=tf.float32)\n",
        "    done_vals = tf.convert_to_tensor(done_vals, dtype=tf.float32)\n",
        "\n",
        "    return (states, actions, rewards, next_states, done_vals)\n",
        "\n",
        "\n",
        "\n",
        "def check_update_conditions(t, num_steps_upd, memory_buffer):\n",
        "    if (t + 1) % num_steps_upd == 0 and len(memory_buffer) > MINIBATCH_SIZE:\n",
        "        return True\n",
        "    else:\n",
        "        return False\n",
        "\n",
        "\n",
        "def get_new_eps(epsilon):\n",
        "    return max(E_MIN, E_DECAY*epsilon)\n",
        "\n",
        "\n",
        "def get_action(q_values, epsilon=0, num_actions=4):\n",
        "    if random.random() > epsilon:\n",
        "        return np.argmax(q_values[0])\n",
        "    else:\n",
        "        return random.choice(np.arange(num_actions))\n",
        "\n",
        "def update_target_network(q_network, target_q_network):\n",
        "    for target_weights, q_net_weights in zip(target_q_network.weights, q_network.weights):\n",
        "        target_weights.assign(TAU * q_net_weights + (1.0 - TAU) * target_weights)\n",
        "\n",
        "\n",
        "def plot_history(reward_history, rolling_window=20, lower_limit=None,\n",
        "                 upper_limit=None, plot_rw=True, plot_rm=True):\n",
        "\n",
        "    if lower_limit is None or upper_limit is None:\n",
        "        rh = reward_history\n",
        "        xs = [x for x in range(len(reward_history))]\n",
        "    else:\n",
        "        rh = reward_history[lower_limit:upper_limit]\n",
        "        xs = [x for x in range(lower_limit,upper_limit)]\n",
        "\n",
        "    df = pd.DataFrame(rh)\n",
        "    rollingMean = df.rolling(rolling_window).mean()\n",
        "\n",
        "    plt.figure(figsize=(10,7), facecolor='white')\n",
        "\n",
        "    if plot_rw:\n",
        "        plt.plot(xs, rh, linewidth=1, color='cyan')\n",
        "    if plot_rm:\n",
        "        plt.plot(xs, rollingMean, linewidth=2, color='magenta')\n",
        "\n",
        "    text_color = 'black'\n",
        "\n",
        "    ax = plt.gca()\n",
        "    ax.set_facecolor('black')\n",
        "    plt.grid()\n",
        "    plt.xlabel('Episódio', color=text_color, fontsize=30)\n",
        "    plt.ylabel('Pontos Totais', color=text_color, fontsize=30)\n",
        "    yNumFmt = mticker.StrMethodFormatter('{x:,}')\n",
        "    ax.yaxis.set_major_formatter(yNumFmt)\n",
        "    ax.tick_params(axis='x', colors=text_color)\n",
        "    ax.tick_params(axis='y', colors=text_color)\n",
        "    plt.show()\n",
        "\n",
        "\n",
        "def display_table(initial_state, action, next_state, reward, done):\n",
        "\n",
        "    action_labels = [\"Combinar\", \"Descombinar\", \"Troca da à vista\", \"Troca da a termo\"]\n",
        "\n",
        "    # Não usar headers da Coluna\n",
        "    column_headers = None\n",
        "\n",
        "    with np.printoptions(formatter={'float': '{:.3f}'.format}):\n",
        "        table_info = [(\"Initial State:\", [f\"{initial_state}\"]),\n",
        "                      (\"Action:\", [f\"{action_labels[action]}\"]),\n",
        "                      (\"Next State:\", [f\"{next_state}\"]),\n",
        "                      (\"Reward Received:\", [f\"{reward:.3f}\"]),\n",
        "                      (\"Episode Terminated:\", [f\"{done}\"])]\n",
        "\n",
        "    # Gerar tabela\n",
        "    row_labels, data = zip_longest(*table_info)\n",
        "    table = SimpleTable(data, column_headers, row_labels)\n",
        "\n",
        "    return table"
      ]
    },
    {
      "cell_type": "markdown",
      "metadata": {
        "id": "pAJqORwaXD7s"
      },
      "source": [
        "# 4 - Seleção e Implementação do Algoritmo de Reinforcement Learning:\n",
        "\n",
        "Escolham um algoritmo adequado para o problema, considerando a natureza dos estados, ações e a estrutura do ambiente.\n",
        "Implementem o algoritmo escolhido, como Q-Learning, Policy Gradient, DQN, entre outros.\n"
      ]
    },
    {
      "cell_type": "code",
      "execution_count": 20,
      "metadata": {
        "colab": {
          "base_uri": "https://localhost:8080/"
        },
        "id": "glToLr88-ZMe",
        "outputId": "9176f8ed-9c81-45e3-826b-265aa088f862"
      },
      "outputs": [
        {
          "name": "stderr",
          "output_type": "stream",
          "text": [
            "/usr/local/lib/python3.10/dist-packages/ipykernel/ipkernel.py:283: DeprecationWarning: `should_run_async` will not call `transform_cell` automatically in the future. Please pass the result to `transformed_cell` argument and any exception that happen during thetransform in `preprocessing_exc_tuple` in IPython 7.17 and above.\n",
            "  and should_run_async(code)\n"
          ]
        }
      ],
      "source": [
        "from collections import namedtuple\n",
        "\n",
        "experience = namedtuple(\"Experience\", field_names=[\"state\", \"action\", \"reward\", \"next_state\", \"done\"])"
      ]
    },
    {
      "cell_type": "code",
      "execution_count": 21,
      "metadata": {
        "id": "0q8rmexiXVfO"
      },
      "outputs": [],
      "source": [
        "def compute_loss(experiences, gamma, q_network, target_q_network):\n",
        "    \"\"\"\n",
        "    Calcular a perda.\n",
        "\n",
        "    Args:\n",
        "      experiences: (tuple) tupla [\"state\", \"action\", \"reward\", \"next_state\", \"done\"] namedtuples\n",
        "      gamma: (float) The discount factor.\n",
        "      q_network: (tf.keras.Sequential) Keras model for predicting the q_values\n",
        "      target_q_network: (tf.keras.Sequential) Karas model for predicting the targets\n",
        "\n",
        "    Returns:\n",
        "      loss: (TensorFlow Tensor(shape=(0,), dtype=int32)) the Mean-Squared Error between\n",
        "            the y targets and the Q(s,a) values.\n",
        "    \"\"\"\n",
        "\n",
        "    # Desempacotar o minibatch de experiencias\n",
        "    states, actions, rewards, next_states, done_vals = experiences\n",
        "\n",
        "    # Computar max Q^(s,a)\n",
        "    max_qsa = tf.reduce_max(target_q_network(next_states), axis=-1)\n",
        "\n",
        "    # Setar y = R se o episodio terminar, caso contrario y = R + γ max Q^(s,a).\n",
        "    y_targets = rewards + (gamma * max_qsa * (1 - done_vals))\n",
        "\n",
        "    # Obter os q_values\n",
        "    q_values = q_network(states)\n",
        "    q_values = tf.gather_nd(q_values, tf.stack([tf.range(q_values.shape[0]),\n",
        "                                                tf.cast(actions, tf.int32)], axis=1))\n",
        "\n",
        "    # Computar a perde\n",
        "    loss = MSE(y_targets, q_values)\n",
        "\n",
        "    return loss"
      ]
    },
    {
      "cell_type": "code",
      "execution_count": 22,
      "metadata": {
        "id": "GpR8Kc69_N5V"
      },
      "outputs": [],
      "source": [
        "@tf.function\n",
        "def agent_learn(experiences, gamma):\n",
        "    \"\"\"\n",
        "    Atualizar os pesos da Q-network\n",
        "\n",
        "    Args:\n",
        "      experiences: (tuple) tupla [\"state\", \"action\", \"reward\", \"next_state\", \"done\"] namedtuples\n",
        "      gamma: (float) fator de desconto.\n",
        "\n",
        "    \"\"\"\n",
        "\n",
        "    # calcular a perda\n",
        "    with tf.GradientTape() as tape:\n",
        "        loss = compute_loss(experiences, gamma, q_network, target_q_network)\n",
        "\n",
        "    # update dos gradientes\n",
        "    gradients = tape.gradient(loss, q_network.trainable_variables)\n",
        "\n",
        "    # update dos pesos da q_network.\n",
        "    optimizer.apply_gradients(zip(gradients, q_network.trainable_variables))\n",
        "\n",
        "    # updates dos pesos da target network\n",
        "    update_target_network(q_network, target_q_network)"
      ]
    },
    {
      "cell_type": "markdown",
      "metadata": {
        "id": "pewYY0FhXO9d"
      },
      "source": [
        "# 5 - Treinamento e Otimização:\n",
        "\n",
        "Inicializem os parâmetros do agente e da rede neural, se aplicável.\n",
        "Realizem iterações de treinamento em episódios, onde o agente interage com o ambiente, atualizando seus parâmetros com base na recompensa recebida.\n",
        "Avaliem o desempenho do agente em um conjunto de validação e ajustem os hiperparâmetros para otimizar seu desempenho."
      ]
    },
    {
      "cell_type": "code",
      "execution_count": 28,
      "metadata": {
        "colab": {
          "base_uri": "https://localhost:8080/",
          "height": 1000
        },
        "id": "JKcyusd3XV9d",
        "outputId": "b416f029-33c3-49e0-e50e-6f5a96d04494"
      },
      "outputs": [
        {
          "name": "stdout",
          "output_type": "stream",
          "text": [
            "1/1 [==============================] - 0s 37ms/step\n"
          ]
        },
        {
          "name": "stderr",
          "output_type": "stream",
          "text": [
            "/usr/local/lib/python3.10/dist-packages/pandas/core/dtypes/cast.py:1641: DeprecationWarning: np.find_common_type is deprecated.  Please use `np.result_type` or `np.promote_types`.\n",
            "See https://numpy.org/devdocs/release/1.25.0-notes.html and the docs for more information.  (Deprecated NumPy 1.25)\n",
            "  return np.find_common_type(types, [])\n"
          ]
        },
        {
          "name": "stdout",
          "output_type": "stream",
          "text": [
            "1/1 [==============================] - 0s 23ms/step\n",
            "1/1 [==============================] - 0s 27ms/step\n",
            "1/1 [==============================] - 0s 23ms/step\n",
            "1/1 [==============================] - 0s 23ms/step\n"
          ]
        },
        {
          "name": "stderr",
          "output_type": "stream",
          "text": [
            "/usr/local/lib/python3.10/dist-packages/pandas/core/algorithms.py:522: DeprecationWarning: np.find_common_type is deprecated.  Please use `np.result_type` or `np.promote_types`.\n",
            "See https://numpy.org/devdocs/release/1.25.0-notes.html and the docs for more information.  (Deprecated NumPy 1.25)\n",
            "  common = np.find_common_type([values.dtype, comps_array.dtype], [])\n",
            "/usr/local/lib/python3.10/dist-packages/pandas/core/dtypes/cast.py:1641: DeprecationWarning: np.find_common_type is deprecated.  Please use `np.result_type` or `np.promote_types`.\n",
            "See https://numpy.org/devdocs/release/1.25.0-notes.html and the docs for more information.  (Deprecated NumPy 1.25)\n",
            "  return np.find_common_type(types, [])\n",
            "/usr/local/lib/python3.10/dist-packages/pandas/core/algorithms.py:522: DeprecationWarning: np.find_common_type is deprecated.  Please use `np.result_type` or `np.promote_types`.\n",
            "See https://numpy.org/devdocs/release/1.25.0-notes.html and the docs for more information.  (Deprecated NumPy 1.25)\n",
            "  common = np.find_common_type([values.dtype, comps_array.dtype], [])\n",
            "/usr/local/lib/python3.10/dist-packages/pandas/core/dtypes/cast.py:1641: DeprecationWarning: np.find_common_type is deprecated.  Please use `np.result_type` or `np.promote_types`.\n",
            "See https://numpy.org/devdocs/release/1.25.0-notes.html and the docs for more information.  (Deprecated NumPy 1.25)\n",
            "  return np.find_common_type(types, [])\n"
          ]
        },
        {
          "name": "stdout",
          "output_type": "stream",
          "text": [
            "1/1 [==============================] - 0s 22ms/step\n"
          ]
        },
        {
          "name": "stderr",
          "output_type": "stream",
          "text": [
            "/usr/local/lib/python3.10/dist-packages/pandas/core/algorithms.py:522: DeprecationWarning: np.find_common_type is deprecated.  Please use `np.result_type` or `np.promote_types`.\n",
            "See https://numpy.org/devdocs/release/1.25.0-notes.html and the docs for more information.  (Deprecated NumPy 1.25)\n",
            "  common = np.find_common_type([values.dtype, comps_array.dtype], [])\n",
            "/usr/local/lib/python3.10/dist-packages/pandas/core/dtypes/cast.py:1641: DeprecationWarning: np.find_common_type is deprecated.  Please use `np.result_type` or `np.promote_types`.\n",
            "See https://numpy.org/devdocs/release/1.25.0-notes.html and the docs for more information.  (Deprecated NumPy 1.25)\n",
            "  return np.find_common_type(types, [])\n",
            "/usr/local/lib/python3.10/dist-packages/pandas/core/algorithms.py:522: DeprecationWarning: np.find_common_type is deprecated.  Please use `np.result_type` or `np.promote_types`.\n",
            "See https://numpy.org/devdocs/release/1.25.0-notes.html and the docs for more information.  (Deprecated NumPy 1.25)\n",
            "  common = np.find_common_type([values.dtype, comps_array.dtype], [])\n",
            "/usr/local/lib/python3.10/dist-packages/pandas/core/dtypes/cast.py:1641: DeprecationWarning: np.find_common_type is deprecated.  Please use `np.result_type` or `np.promote_types`.\n",
            "See https://numpy.org/devdocs/release/1.25.0-notes.html and the docs for more information.  (Deprecated NumPy 1.25)\n",
            "  return np.find_common_type(types, [])\n"
          ]
        },
        {
          "name": "stdout",
          "output_type": "stream",
          "text": [
            "1/1 [==============================] - 0s 21ms/step\n"
          ]
        },
        {
          "name": "stderr",
          "output_type": "stream",
          "text": [
            "/usr/local/lib/python3.10/dist-packages/pandas/core/algorithms.py:522: DeprecationWarning: np.find_common_type is deprecated.  Please use `np.result_type` or `np.promote_types`.\n",
            "See https://numpy.org/devdocs/release/1.25.0-notes.html and the docs for more information.  (Deprecated NumPy 1.25)\n",
            "  common = np.find_common_type([values.dtype, comps_array.dtype], [])\n",
            "/usr/local/lib/python3.10/dist-packages/pandas/core/dtypes/cast.py:1641: DeprecationWarning: np.find_common_type is deprecated.  Please use `np.result_type` or `np.promote_types`.\n",
            "See https://numpy.org/devdocs/release/1.25.0-notes.html and the docs for more information.  (Deprecated NumPy 1.25)\n",
            "  return np.find_common_type(types, [])\n",
            "/usr/local/lib/python3.10/dist-packages/pandas/core/algorithms.py:522: DeprecationWarning: np.find_common_type is deprecated.  Please use `np.result_type` or `np.promote_types`.\n",
            "See https://numpy.org/devdocs/release/1.25.0-notes.html and the docs for more information.  (Deprecated NumPy 1.25)\n",
            "  common = np.find_common_type([values.dtype, comps_array.dtype], [])\n",
            "/usr/local/lib/python3.10/dist-packages/pandas/core/dtypes/cast.py:1641: DeprecationWarning: np.find_common_type is deprecated.  Please use `np.result_type` or `np.promote_types`.\n",
            "See https://numpy.org/devdocs/release/1.25.0-notes.html and the docs for more information.  (Deprecated NumPy 1.25)\n",
            "  return np.find_common_type(types, [])\n"
          ]
        },
        {
          "name": "stdout",
          "output_type": "stream",
          "text": [
            "1/1 [==============================] - 0s 20ms/step\n",
            "1/1 [==============================] - 0s 22ms/step\n"
          ]
        },
        {
          "name": "stderr",
          "output_type": "stream",
          "text": [
            "/usr/local/lib/python3.10/dist-packages/pandas/core/algorithms.py:522: DeprecationWarning: np.find_common_type is deprecated.  Please use `np.result_type` or `np.promote_types`.\n",
            "See https://numpy.org/devdocs/release/1.25.0-notes.html and the docs for more information.  (Deprecated NumPy 1.25)\n",
            "  common = np.find_common_type([values.dtype, comps_array.dtype], [])\n",
            "/usr/local/lib/python3.10/dist-packages/pandas/core/dtypes/cast.py:1641: DeprecationWarning: np.find_common_type is deprecated.  Please use `np.result_type` or `np.promote_types`.\n",
            "See https://numpy.org/devdocs/release/1.25.0-notes.html and the docs for more information.  (Deprecated NumPy 1.25)\n",
            "  return np.find_common_type(types, [])\n",
            "/usr/local/lib/python3.10/dist-packages/pandas/core/algorithms.py:522: DeprecationWarning: np.find_common_type is deprecated.  Please use `np.result_type` or `np.promote_types`.\n",
            "See https://numpy.org/devdocs/release/1.25.0-notes.html and the docs for more information.  (Deprecated NumPy 1.25)\n",
            "  common = np.find_common_type([values.dtype, comps_array.dtype], [])\n",
            "/usr/local/lib/python3.10/dist-packages/pandas/core/dtypes/cast.py:1641: DeprecationWarning: np.find_common_type is deprecated.  Please use `np.result_type` or `np.promote_types`.\n",
            "See https://numpy.org/devdocs/release/1.25.0-notes.html and the docs for more information.  (Deprecated NumPy 1.25)\n",
            "  return np.find_common_type(types, [])\n"
          ]
        },
        {
          "name": "stdout",
          "output_type": "stream",
          "text": [
            "1/1 [==============================] - 0s 21ms/step\n",
            "1/1 [==============================] - 0s 20ms/step\n",
            "1/1 [==============================] - 0s 35ms/step\n"
          ]
        },
        {
          "name": "stderr",
          "output_type": "stream",
          "text": [
            "/usr/local/lib/python3.10/dist-packages/pandas/core/algorithms.py:522: DeprecationWarning: np.find_common_type is deprecated.  Please use `np.result_type` or `np.promote_types`.\n",
            "See https://numpy.org/devdocs/release/1.25.0-notes.html and the docs for more information.  (Deprecated NumPy 1.25)\n",
            "  common = np.find_common_type([values.dtype, comps_array.dtype], [])\n",
            "/usr/local/lib/python3.10/dist-packages/pandas/core/dtypes/cast.py:1641: DeprecationWarning: np.find_common_type is deprecated.  Please use `np.result_type` or `np.promote_types`.\n",
            "See https://numpy.org/devdocs/release/1.25.0-notes.html and the docs for more information.  (Deprecated NumPy 1.25)\n",
            "  return np.find_common_type(types, [])\n",
            "/usr/local/lib/python3.10/dist-packages/pandas/core/algorithms.py:522: DeprecationWarning: np.find_common_type is deprecated.  Please use `np.result_type` or `np.promote_types`.\n",
            "See https://numpy.org/devdocs/release/1.25.0-notes.html and the docs for more information.  (Deprecated NumPy 1.25)\n",
            "  common = np.find_common_type([values.dtype, comps_array.dtype], [])\n",
            "/usr/local/lib/python3.10/dist-packages/pandas/core/dtypes/cast.py:1641: DeprecationWarning: np.find_common_type is deprecated.  Please use `np.result_type` or `np.promote_types`.\n",
            "See https://numpy.org/devdocs/release/1.25.0-notes.html and the docs for more information.  (Deprecated NumPy 1.25)\n",
            "  return np.find_common_type(types, [])\n"
          ]
        },
        {
          "name": "stdout",
          "output_type": "stream",
          "text": [
            "1/1 [==============================] - 0s 30ms/step\n"
          ]
        },
        {
          "name": "stderr",
          "output_type": "stream",
          "text": [
            "/usr/local/lib/python3.10/dist-packages/pandas/core/algorithms.py:522: DeprecationWarning: np.find_common_type is deprecated.  Please use `np.result_type` or `np.promote_types`.\n",
            "See https://numpy.org/devdocs/release/1.25.0-notes.html and the docs for more information.  (Deprecated NumPy 1.25)\n",
            "  common = np.find_common_type([values.dtype, comps_array.dtype], [])\n",
            "/usr/local/lib/python3.10/dist-packages/pandas/core/dtypes/cast.py:1641: DeprecationWarning: np.find_common_type is deprecated.  Please use `np.result_type` or `np.promote_types`.\n",
            "See https://numpy.org/devdocs/release/1.25.0-notes.html and the docs for more information.  (Deprecated NumPy 1.25)\n",
            "  return np.find_common_type(types, [])\n",
            "/usr/local/lib/python3.10/dist-packages/pandas/core/algorithms.py:522: DeprecationWarning: np.find_common_type is deprecated.  Please use `np.result_type` or `np.promote_types`.\n",
            "See https://numpy.org/devdocs/release/1.25.0-notes.html and the docs for more information.  (Deprecated NumPy 1.25)\n",
            "  common = np.find_common_type([values.dtype, comps_array.dtype], [])\n",
            "/usr/local/lib/python3.10/dist-packages/pandas/core/dtypes/cast.py:1641: DeprecationWarning: np.find_common_type is deprecated.  Please use `np.result_type` or `np.promote_types`.\n",
            "See https://numpy.org/devdocs/release/1.25.0-notes.html and the docs for more information.  (Deprecated NumPy 1.25)\n",
            "  return np.find_common_type(types, [])\n"
          ]
        },
        {
          "name": "stdout",
          "output_type": "stream",
          "text": [
            "1/1 [==============================] - 0s 36ms/step\n"
          ]
        },
        {
          "name": "stderr",
          "output_type": "stream",
          "text": [
            "/usr/local/lib/python3.10/dist-packages/pandas/core/algorithms.py:522: DeprecationWarning: np.find_common_type is deprecated.  Please use `np.result_type` or `np.promote_types`.\n",
            "See https://numpy.org/devdocs/release/1.25.0-notes.html and the docs for more information.  (Deprecated NumPy 1.25)\n",
            "  common = np.find_common_type([values.dtype, comps_array.dtype], [])\n",
            "/usr/local/lib/python3.10/dist-packages/pandas/core/dtypes/cast.py:1641: DeprecationWarning: np.find_common_type is deprecated.  Please use `np.result_type` or `np.promote_types`.\n",
            "See https://numpy.org/devdocs/release/1.25.0-notes.html and the docs for more information.  (Deprecated NumPy 1.25)\n",
            "  return np.find_common_type(types, [])\n",
            "/usr/local/lib/python3.10/dist-packages/pandas/core/algorithms.py:522: DeprecationWarning: np.find_common_type is deprecated.  Please use `np.result_type` or `np.promote_types`.\n",
            "See https://numpy.org/devdocs/release/1.25.0-notes.html and the docs for more information.  (Deprecated NumPy 1.25)\n",
            "  common = np.find_common_type([values.dtype, comps_array.dtype], [])\n",
            "/usr/local/lib/python3.10/dist-packages/pandas/core/dtypes/cast.py:1641: DeprecationWarning: np.find_common_type is deprecated.  Please use `np.result_type` or `np.promote_types`.\n",
            "See https://numpy.org/devdocs/release/1.25.0-notes.html and the docs for more information.  (Deprecated NumPy 1.25)\n",
            "  return np.find_common_type(types, [])\n"
          ]
        },
        {
          "name": "stdout",
          "output_type": "stream",
          "text": [
            "1/1 [==============================] - 0s 33ms/step\n",
            "1/1 [==============================] - 0s 35ms/step\n"
          ]
        },
        {
          "name": "stderr",
          "output_type": "stream",
          "text": [
            "/usr/local/lib/python3.10/dist-packages/pandas/core/algorithms.py:522: DeprecationWarning: np.find_common_type is deprecated.  Please use `np.result_type` or `np.promote_types`.\n",
            "See https://numpy.org/devdocs/release/1.25.0-notes.html and the docs for more information.  (Deprecated NumPy 1.25)\n",
            "  common = np.find_common_type([values.dtype, comps_array.dtype], [])\n",
            "/usr/local/lib/python3.10/dist-packages/pandas/core/dtypes/cast.py:1641: DeprecationWarning: np.find_common_type is deprecated.  Please use `np.result_type` or `np.promote_types`.\n",
            "See https://numpy.org/devdocs/release/1.25.0-notes.html and the docs for more information.  (Deprecated NumPy 1.25)\n",
            "  return np.find_common_type(types, [])\n",
            "/usr/local/lib/python3.10/dist-packages/pandas/core/algorithms.py:522: DeprecationWarning: np.find_common_type is deprecated.  Please use `np.result_type` or `np.promote_types`.\n",
            "See https://numpy.org/devdocs/release/1.25.0-notes.html and the docs for more information.  (Deprecated NumPy 1.25)\n",
            "  common = np.find_common_type([values.dtype, comps_array.dtype], [])\n",
            "/usr/local/lib/python3.10/dist-packages/pandas/core/dtypes/cast.py:1641: DeprecationWarning: np.find_common_type is deprecated.  Please use `np.result_type` or `np.promote_types`.\n",
            "See https://numpy.org/devdocs/release/1.25.0-notes.html and the docs for more information.  (Deprecated NumPy 1.25)\n",
            "  return np.find_common_type(types, [])\n"
          ]
        },
        {
          "name": "stdout",
          "output_type": "stream",
          "text": [
            "1/1 [==============================] - 0s 34ms/step\n",
            "1/1 [==============================] - 0s 30ms/step\n",
            "1/1 [==============================] - 0s 30ms/step\n"
          ]
        },
        {
          "name": "stderr",
          "output_type": "stream",
          "text": [
            "/usr/local/lib/python3.10/dist-packages/pandas/core/algorithms.py:522: DeprecationWarning: np.find_common_type is deprecated.  Please use `np.result_type` or `np.promote_types`.\n",
            "See https://numpy.org/devdocs/release/1.25.0-notes.html and the docs for more information.  (Deprecated NumPy 1.25)\n",
            "  common = np.find_common_type([values.dtype, comps_array.dtype], [])\n",
            "/usr/local/lib/python3.10/dist-packages/pandas/core/dtypes/cast.py:1641: DeprecationWarning: np.find_common_type is deprecated.  Please use `np.result_type` or `np.promote_types`.\n",
            "See https://numpy.org/devdocs/release/1.25.0-notes.html and the docs for more information.  (Deprecated NumPy 1.25)\n",
            "  return np.find_common_type(types, [])\n",
            "/usr/local/lib/python3.10/dist-packages/pandas/core/algorithms.py:522: DeprecationWarning: np.find_common_type is deprecated.  Please use `np.result_type` or `np.promote_types`.\n",
            "See https://numpy.org/devdocs/release/1.25.0-notes.html and the docs for more information.  (Deprecated NumPy 1.25)\n",
            "  common = np.find_common_type([values.dtype, comps_array.dtype], [])\n",
            "/usr/local/lib/python3.10/dist-packages/pandas/core/dtypes/cast.py:1641: DeprecationWarning: np.find_common_type is deprecated.  Please use `np.result_type` or `np.promote_types`.\n",
            "See https://numpy.org/devdocs/release/1.25.0-notes.html and the docs for more information.  (Deprecated NumPy 1.25)\n",
            "  return np.find_common_type(types, [])\n"
          ]
        },
        {
          "name": "stdout",
          "output_type": "stream",
          "text": [
            "1/1 [==============================] - 0s 211ms/step\n",
            "1/1 [==============================] - 0s 22ms/step\n",
            "1/1 [==============================] - 0s 22ms/step\n"
          ]
        },
        {
          "name": "stderr",
          "output_type": "stream",
          "text": [
            "/usr/local/lib/python3.10/dist-packages/pandas/core/algorithms.py:522: DeprecationWarning: np.find_common_type is deprecated.  Please use `np.result_type` or `np.promote_types`.\n",
            "See https://numpy.org/devdocs/release/1.25.0-notes.html and the docs for more information.  (Deprecated NumPy 1.25)\n",
            "  common = np.find_common_type([values.dtype, comps_array.dtype], [])\n",
            "/usr/local/lib/python3.10/dist-packages/pandas/core/dtypes/cast.py:1641: DeprecationWarning: np.find_common_type is deprecated.  Please use `np.result_type` or `np.promote_types`.\n",
            "See https://numpy.org/devdocs/release/1.25.0-notes.html and the docs for more information.  (Deprecated NumPy 1.25)\n",
            "  return np.find_common_type(types, [])\n",
            "/usr/local/lib/python3.10/dist-packages/pandas/core/algorithms.py:522: DeprecationWarning: np.find_common_type is deprecated.  Please use `np.result_type` or `np.promote_types`.\n",
            "See https://numpy.org/devdocs/release/1.25.0-notes.html and the docs for more information.  (Deprecated NumPy 1.25)\n",
            "  common = np.find_common_type([values.dtype, comps_array.dtype], [])\n",
            "/usr/local/lib/python3.10/dist-packages/pandas/core/dtypes/cast.py:1641: DeprecationWarning: np.find_common_type is deprecated.  Please use `np.result_type` or `np.promote_types`.\n",
            "See https://numpy.org/devdocs/release/1.25.0-notes.html and the docs for more information.  (Deprecated NumPy 1.25)\n",
            "  return np.find_common_type(types, [])\n"
          ]
        },
        {
          "name": "stdout",
          "output_type": "stream",
          "text": [
            "1/1 [==============================] - 0s 90ms/step\n",
            "1/1 [==============================] - 0s 25ms/step\n"
          ]
        },
        {
          "name": "stderr",
          "output_type": "stream",
          "text": [
            "/usr/local/lib/python3.10/dist-packages/pandas/core/algorithms.py:522: DeprecationWarning: np.find_common_type is deprecated.  Please use `np.result_type` or `np.promote_types`.\n",
            "See https://numpy.org/devdocs/release/1.25.0-notes.html and the docs for more information.  (Deprecated NumPy 1.25)\n",
            "  common = np.find_common_type([values.dtype, comps_array.dtype], [])\n",
            "/usr/local/lib/python3.10/dist-packages/pandas/core/dtypes/cast.py:1641: DeprecationWarning: np.find_common_type is deprecated.  Please use `np.result_type` or `np.promote_types`.\n",
            "See https://numpy.org/devdocs/release/1.25.0-notes.html and the docs for more information.  (Deprecated NumPy 1.25)\n",
            "  return np.find_common_type(types, [])\n",
            "/usr/local/lib/python3.10/dist-packages/pandas/core/algorithms.py:522: DeprecationWarning: np.find_common_type is deprecated.  Please use `np.result_type` or `np.promote_types`.\n",
            "See https://numpy.org/devdocs/release/1.25.0-notes.html and the docs for more information.  (Deprecated NumPy 1.25)\n",
            "  common = np.find_common_type([values.dtype, comps_array.dtype], [])\n",
            "/usr/local/lib/python3.10/dist-packages/pandas/core/dtypes/cast.py:1641: DeprecationWarning: np.find_common_type is deprecated.  Please use `np.result_type` or `np.promote_types`.\n",
            "See https://numpy.org/devdocs/release/1.25.0-notes.html and the docs for more information.  (Deprecated NumPy 1.25)\n",
            "  return np.find_common_type(types, [])\n",
            "/usr/local/lib/python3.10/dist-packages/pandas/core/algorithms.py:522: DeprecationWarning: np.find_common_type is deprecated.  Please use `np.result_type` or `np.promote_types`.\n",
            "See https://numpy.org/devdocs/release/1.25.0-notes.html and the docs for more information.  (Deprecated NumPy 1.25)\n",
            "  common = np.find_common_type([values.dtype, comps_array.dtype], [])\n",
            "/usr/local/lib/python3.10/dist-packages/pandas/core/dtypes/cast.py:1641: DeprecationWarning: np.find_common_type is deprecated.  Please use `np.result_type` or `np.promote_types`.\n",
            "See https://numpy.org/devdocs/release/1.25.0-notes.html and the docs for more information.  (Deprecated NumPy 1.25)\n",
            "  return np.find_common_type(types, [])\n",
            "/usr/local/lib/python3.10/dist-packages/pandas/core/algorithms.py:522: DeprecationWarning: np.find_common_type is deprecated.  Please use `np.result_type` or `np.promote_types`.\n",
            "See https://numpy.org/devdocs/release/1.25.0-notes.html and the docs for more information.  (Deprecated NumPy 1.25)\n",
            "  common = np.find_common_type([values.dtype, comps_array.dtype], [])\n",
            "/usr/local/lib/python3.10/dist-packages/pandas/core/dtypes/cast.py:1641: DeprecationWarning: np.find_common_type is deprecated.  Please use `np.result_type` or `np.promote_types`.\n",
            "See https://numpy.org/devdocs/release/1.25.0-notes.html and the docs for more information.  (Deprecated NumPy 1.25)\n",
            "  return np.find_common_type(types, [])\n"
          ]
        },
        {
          "name": "stdout",
          "output_type": "stream",
          "text": [
            "1/1 [==============================] - 0s 163ms/step\n",
            "1/1 [==============================] - 0s 102ms/step\n",
            "1/1 [==============================] - 0s 25ms/step\n"
          ]
        },
        {
          "name": "stderr",
          "output_type": "stream",
          "text": [
            "/usr/local/lib/python3.10/dist-packages/pandas/core/algorithms.py:522: DeprecationWarning: np.find_common_type is deprecated.  Please use `np.result_type` or `np.promote_types`.\n",
            "See https://numpy.org/devdocs/release/1.25.0-notes.html and the docs for more information.  (Deprecated NumPy 1.25)\n",
            "  common = np.find_common_type([values.dtype, comps_array.dtype], [])\n",
            "/usr/local/lib/python3.10/dist-packages/pandas/core/dtypes/cast.py:1641: DeprecationWarning: np.find_common_type is deprecated.  Please use `np.result_type` or `np.promote_types`.\n",
            "See https://numpy.org/devdocs/release/1.25.0-notes.html and the docs for more information.  (Deprecated NumPy 1.25)\n",
            "  return np.find_common_type(types, [])\n",
            "/usr/local/lib/python3.10/dist-packages/pandas/core/algorithms.py:522: DeprecationWarning: np.find_common_type is deprecated.  Please use `np.result_type` or `np.promote_types`.\n",
            "See https://numpy.org/devdocs/release/1.25.0-notes.html and the docs for more information.  (Deprecated NumPy 1.25)\n",
            "  common = np.find_common_type([values.dtype, comps_array.dtype], [])\n",
            "/usr/local/lib/python3.10/dist-packages/pandas/core/dtypes/cast.py:1641: DeprecationWarning: np.find_common_type is deprecated.  Please use `np.result_type` or `np.promote_types`.\n",
            "See https://numpy.org/devdocs/release/1.25.0-notes.html and the docs for more information.  (Deprecated NumPy 1.25)\n",
            "  return np.find_common_type(types, [])\n"
          ]
        },
        {
          "name": "stdout",
          "output_type": "stream",
          "text": [
            "1/1 [==============================] - 0s 22ms/step\n",
            "1/1 [==============================] - 0s 22ms/step\n"
          ]
        },
        {
          "name": "stderr",
          "output_type": "stream",
          "text": [
            "/usr/local/lib/python3.10/dist-packages/pandas/core/algorithms.py:522: DeprecationWarning: np.find_common_type is deprecated.  Please use `np.result_type` or `np.promote_types`.\n",
            "See https://numpy.org/devdocs/release/1.25.0-notes.html and the docs for more information.  (Deprecated NumPy 1.25)\n",
            "  common = np.find_common_type([values.dtype, comps_array.dtype], [])\n",
            "/usr/local/lib/python3.10/dist-packages/pandas/core/dtypes/cast.py:1641: DeprecationWarning: np.find_common_type is deprecated.  Please use `np.result_type` or `np.promote_types`.\n",
            "See https://numpy.org/devdocs/release/1.25.0-notes.html and the docs for more information.  (Deprecated NumPy 1.25)\n",
            "  return np.find_common_type(types, [])\n",
            "/usr/local/lib/python3.10/dist-packages/pandas/core/algorithms.py:522: DeprecationWarning: np.find_common_type is deprecated.  Please use `np.result_type` or `np.promote_types`.\n",
            "See https://numpy.org/devdocs/release/1.25.0-notes.html and the docs for more information.  (Deprecated NumPy 1.25)\n",
            "  common = np.find_common_type([values.dtype, comps_array.dtype], [])\n",
            "/usr/local/lib/python3.10/dist-packages/pandas/core/dtypes/cast.py:1641: DeprecationWarning: np.find_common_type is deprecated.  Please use `np.result_type` or `np.promote_types`.\n",
            "See https://numpy.org/devdocs/release/1.25.0-notes.html and the docs for more information.  (Deprecated NumPy 1.25)\n",
            "  return np.find_common_type(types, [])\n"
          ]
        },
        {
          "ename": "KeyboardInterrupt",
          "evalue": "",
          "output_type": "error",
          "traceback": [
            "\u001b[0;31m---------------------------------------------------------------------------\u001b[0m",
            "\u001b[0;31mAttributeError\u001b[0m                            Traceback (most recent call last)",
            "\u001b[0;32m/usr/local/lib/python3.10/dist-packages/pandas_market_calendars/market_calendar.py\u001b[0m in \u001b[0;36mholidays\u001b[0;34m(self)\u001b[0m\n\u001b[1;32m    550\u001b[0m         \u001b[0;32mtry\u001b[0m\u001b[0;34m:\u001b[0m\u001b[0;34m\u001b[0m\u001b[0;34m\u001b[0m\u001b[0m\n\u001b[0;32m--> 551\u001b[0;31m             \u001b[0;32mreturn\u001b[0m \u001b[0mself\u001b[0m\u001b[0;34m.\u001b[0m\u001b[0m_holidays\u001b[0m\u001b[0;34m\u001b[0m\u001b[0;34m\u001b[0m\u001b[0m\n\u001b[0m\u001b[1;32m    552\u001b[0m         \u001b[0;32mexcept\u001b[0m \u001b[0mAttributeError\u001b[0m\u001b[0;34m:\u001b[0m\u001b[0;34m\u001b[0m\u001b[0;34m\u001b[0m\u001b[0m\n",
            "\u001b[0;31mAttributeError\u001b[0m: 'BMFExchangeCalendar' object has no attribute '_holidays'",
            "\nDuring handling of the above exception, another exception occurred:\n",
            "\u001b[0;31mKeyboardInterrupt\u001b[0m                         Traceback (most recent call last)",
            "\u001b[0;32m<ipython-input-28-158957a49469>\u001b[0m in \u001b[0;36m<cell line: 18>\u001b[0;34m()\u001b[0m\n\u001b[1;32m     29\u001b[0m         \u001b[0maction\u001b[0m \u001b[0;34m=\u001b[0m \u001b[0mget_action\u001b[0m\u001b[0;34m(\u001b[0m\u001b[0mq_values\u001b[0m\u001b[0;34m,\u001b[0m \u001b[0mepsilon\u001b[0m\u001b[0;34m,\u001b[0m \u001b[0mnum_actions\u001b[0m\u001b[0;34m)\u001b[0m\u001b[0;34m\u001b[0m\u001b[0;34m\u001b[0m\u001b[0m\n\u001b[1;32m     30\u001b[0m \u001b[0;34m\u001b[0m\u001b[0m\n\u001b[0;32m---> 31\u001b[0;31m         \u001b[0mnext_state\u001b[0m\u001b[0;34m,\u001b[0m \u001b[0mreward\u001b[0m\u001b[0;34m,\u001b[0m \u001b[0mdone\u001b[0m\u001b[0;34m,\u001b[0m \u001b[0m_\u001b[0m \u001b[0;34m=\u001b[0m \u001b[0menv\u001b[0m\u001b[0;34m.\u001b[0m\u001b[0mstep\u001b[0m\u001b[0;34m(\u001b[0m\u001b[0maction\u001b[0m\u001b[0;34m)\u001b[0m\u001b[0;34m\u001b[0m\u001b[0;34m\u001b[0m\u001b[0m\n\u001b[0m\u001b[1;32m     32\u001b[0m         \u001b[0mnext_state\u001b[0m \u001b[0;34m=\u001b[0m \u001b[0mtransform_observation\u001b[0m\u001b[0;34m(\u001b[0m\u001b[0mnext_state\u001b[0m\u001b[0;34m)\u001b[0m  \u001b[0;31m# Transforma o próximo estado\u001b[0m\u001b[0;34m\u001b[0m\u001b[0;34m\u001b[0m\u001b[0m\n\u001b[1;32m     33\u001b[0m \u001b[0;34m\u001b[0m\u001b[0m\n",
            "\u001b[0;32m/usr/local/lib/python3.10/dist-packages/gym/wrappers/order_enforcing.py\u001b[0m in \u001b[0;36mstep\u001b[0;34m(self, action)\u001b[0m\n\u001b[1;32m     35\u001b[0m         \u001b[0;32mif\u001b[0m \u001b[0;32mnot\u001b[0m \u001b[0mself\u001b[0m\u001b[0;34m.\u001b[0m\u001b[0m_has_reset\u001b[0m\u001b[0;34m:\u001b[0m\u001b[0;34m\u001b[0m\u001b[0;34m\u001b[0m\u001b[0m\n\u001b[1;32m     36\u001b[0m             \u001b[0;32mraise\u001b[0m \u001b[0mResetNeeded\u001b[0m\u001b[0;34m(\u001b[0m\u001b[0;34m\"Cannot call env.step() before calling env.reset()\"\u001b[0m\u001b[0;34m)\u001b[0m\u001b[0;34m\u001b[0m\u001b[0;34m\u001b[0m\u001b[0m\n\u001b[0;32m---> 37\u001b[0;31m         \u001b[0;32mreturn\u001b[0m \u001b[0mself\u001b[0m\u001b[0;34m.\u001b[0m\u001b[0menv\u001b[0m\u001b[0;34m.\u001b[0m\u001b[0mstep\u001b[0m\u001b[0;34m(\u001b[0m\u001b[0maction\u001b[0m\u001b[0;34m)\u001b[0m\u001b[0;34m\u001b[0m\u001b[0;34m\u001b[0m\u001b[0m\n\u001b[0m\u001b[1;32m     38\u001b[0m \u001b[0;34m\u001b[0m\u001b[0m\n\u001b[1;32m     39\u001b[0m     \u001b[0;32mdef\u001b[0m \u001b[0mreset\u001b[0m\u001b[0;34m(\u001b[0m\u001b[0mself\u001b[0m\u001b[0;34m,\u001b[0m \u001b[0;34m**\u001b[0m\u001b[0mkwargs\u001b[0m\u001b[0;34m)\u001b[0m\u001b[0;34m:\u001b[0m\u001b[0;34m\u001b[0m\u001b[0;34m\u001b[0m\u001b[0m\n",
            "\u001b[0;32m/usr/local/lib/python3.10/dist-packages/gym/wrappers/step_api_compatibility.py\u001b[0m in \u001b[0;36mstep\u001b[0;34m(self, action)\u001b[0m\n\u001b[1;32m     50\u001b[0m             \u001b[0;34m(\u001b[0m\u001b[0mobservation\u001b[0m\u001b[0;34m,\u001b[0m \u001b[0mreward\u001b[0m\u001b[0;34m,\u001b[0m \u001b[0mterminated\u001b[0m\u001b[0;34m,\u001b[0m \u001b[0mtruncated\u001b[0m\u001b[0;34m,\u001b[0m \u001b[0minfo\u001b[0m\u001b[0;34m)\u001b[0m \u001b[0;32mor\u001b[0m \u001b[0;34m(\u001b[0m\u001b[0mobservation\u001b[0m\u001b[0;34m,\u001b[0m \u001b[0mreward\u001b[0m\u001b[0;34m,\u001b[0m \u001b[0mdone\u001b[0m\u001b[0;34m,\u001b[0m \u001b[0minfo\u001b[0m\u001b[0;34m)\u001b[0m\u001b[0;34m\u001b[0m\u001b[0;34m\u001b[0m\u001b[0m\n\u001b[1;32m     51\u001b[0m         \"\"\"\n\u001b[0;32m---> 52\u001b[0;31m         \u001b[0mstep_returns\u001b[0m \u001b[0;34m=\u001b[0m \u001b[0mself\u001b[0m\u001b[0;34m.\u001b[0m\u001b[0menv\u001b[0m\u001b[0;34m.\u001b[0m\u001b[0mstep\u001b[0m\u001b[0;34m(\u001b[0m\u001b[0maction\u001b[0m\u001b[0;34m)\u001b[0m\u001b[0;34m\u001b[0m\u001b[0;34m\u001b[0m\u001b[0m\n\u001b[0m\u001b[1;32m     53\u001b[0m         \u001b[0;32mif\u001b[0m \u001b[0mself\u001b[0m\u001b[0;34m.\u001b[0m\u001b[0mnew_step_api\u001b[0m\u001b[0;34m:\u001b[0m\u001b[0;34m\u001b[0m\u001b[0;34m\u001b[0m\u001b[0m\n\u001b[1;32m     54\u001b[0m             \u001b[0;32mreturn\u001b[0m \u001b[0mstep_to_new_api\u001b[0m\u001b[0;34m(\u001b[0m\u001b[0mstep_returns\u001b[0m\u001b[0;34m)\u001b[0m\u001b[0;34m\u001b[0m\u001b[0;34m\u001b[0m\u001b[0m\n",
            "\u001b[0;32m/usr/local/lib/python3.10/dist-packages/gym/wrappers/env_checker.py\u001b[0m in \u001b[0;36mstep\u001b[0;34m(self, action)\u001b[0m\n\u001b[1;32m     37\u001b[0m             \u001b[0;32mreturn\u001b[0m \u001b[0menv_step_passive_checker\u001b[0m\u001b[0;34m(\u001b[0m\u001b[0mself\u001b[0m\u001b[0;34m.\u001b[0m\u001b[0menv\u001b[0m\u001b[0;34m,\u001b[0m \u001b[0maction\u001b[0m\u001b[0;34m)\u001b[0m\u001b[0;34m\u001b[0m\u001b[0;34m\u001b[0m\u001b[0m\n\u001b[1;32m     38\u001b[0m         \u001b[0;32melse\u001b[0m\u001b[0;34m:\u001b[0m\u001b[0;34m\u001b[0m\u001b[0;34m\u001b[0m\u001b[0m\n\u001b[0;32m---> 39\u001b[0;31m             \u001b[0;32mreturn\u001b[0m \u001b[0mself\u001b[0m\u001b[0;34m.\u001b[0m\u001b[0menv\u001b[0m\u001b[0;34m.\u001b[0m\u001b[0mstep\u001b[0m\u001b[0;34m(\u001b[0m\u001b[0maction\u001b[0m\u001b[0;34m)\u001b[0m\u001b[0;34m\u001b[0m\u001b[0;34m\u001b[0m\u001b[0m\n\u001b[0m\u001b[1;32m     40\u001b[0m \u001b[0;34m\u001b[0m\u001b[0m\n\u001b[1;32m     41\u001b[0m     \u001b[0;32mdef\u001b[0m \u001b[0mreset\u001b[0m\u001b[0;34m(\u001b[0m\u001b[0mself\u001b[0m\u001b[0;34m,\u001b[0m \u001b[0;34m**\u001b[0m\u001b[0mkwargs\u001b[0m\u001b[0;34m)\u001b[0m\u001b[0;34m:\u001b[0m\u001b[0;34m\u001b[0m\u001b[0;34m\u001b[0m\u001b[0m\n",
            "\u001b[0;32m<ipython-input-11-401996362902>\u001b[0m in \u001b[0;36mstep\u001b[0;34m(self, action)\u001b[0m\n\u001b[1;32m     89\u001b[0m         \u001b[0;31m# Calcular a recompensa\u001b[0m\u001b[0;34m\u001b[0m\u001b[0;34m\u001b[0m\u001b[0m\n\u001b[1;32m     90\u001b[0m         \u001b[0;31m# Após processar a ação, calcular pdv_future e obter spot_price\u001b[0m\u001b[0;34m\u001b[0m\u001b[0;34m\u001b[0m\u001b[0m\n\u001b[0;32m---> 91\u001b[0;31m         \u001b[0mpdv_future\u001b[0m \u001b[0;34m=\u001b[0m \u001b[0mself\u001b[0m\u001b[0;34m.\u001b[0m\u001b[0m_compute_pdv_future\u001b[0m\u001b[0;34m(\u001b[0m\u001b[0;34m)\u001b[0m\u001b[0;34m\u001b[0m\u001b[0;34m\u001b[0m\u001b[0m\n\u001b[0m\u001b[1;32m     92\u001b[0m         \u001b[0mspot_price\u001b[0m \u001b[0;34m=\u001b[0m \u001b[0mself\u001b[0m\u001b[0;34m.\u001b[0m\u001b[0mdf_spot\u001b[0m\u001b[0;34m.\u001b[0m\u001b[0mat\u001b[0m\u001b[0;34m[\u001b[0m\u001b[0mself\u001b[0m\u001b[0;34m.\u001b[0m\u001b[0mstate\u001b[0m\u001b[0;34m[\u001b[0m\u001b[0;34m'spot_index'\u001b[0m\u001b[0;34m]\u001b[0m\u001b[0;34m,\u001b[0m \u001b[0;34m'Preço'\u001b[0m\u001b[0;34m]\u001b[0m\u001b[0;34m\u001b[0m\u001b[0;34m\u001b[0m\u001b[0m\n\u001b[1;32m     93\u001b[0m         \u001b[0mreward\u001b[0m \u001b[0;34m=\u001b[0m \u001b[0mself\u001b[0m\u001b[0;34m.\u001b[0m\u001b[0m_calculate_reward\u001b[0m\u001b[0;34m(\u001b[0m\u001b[0minitial_future_quantity\u001b[0m\u001b[0;34m,\u001b[0m \u001b[0mpdv_future\u001b[0m\u001b[0;34m,\u001b[0m \u001b[0mspot_price\u001b[0m\u001b[0;34m)\u001b[0m\u001b[0;34m\u001b[0m\u001b[0;34m\u001b[0m\u001b[0m\n",
            "\u001b[0;32m<ipython-input-11-401996362902>\u001b[0m in \u001b[0;36m_compute_pdv_future\u001b[0;34m(self)\u001b[0m\n\u001b[1;32m    144\u001b[0m \u001b[0;34m\u001b[0m\u001b[0m\n\u001b[1;32m    145\u001b[0m         \u001b[0;31m# Gera um DataFrame dos dias úteis entre as datas de início e fim\u001b[0m\u001b[0;34m\u001b[0m\u001b[0;34m\u001b[0m\u001b[0m\n\u001b[0;32m--> 146\u001b[0;31m         \u001b[0mschedule\u001b[0m \u001b[0;34m=\u001b[0m \u001b[0mbmf_calendar\u001b[0m\u001b[0;34m.\u001b[0m\u001b[0mschedule\u001b[0m\u001b[0;34m(\u001b[0m\u001b[0mstart_date\u001b[0m\u001b[0;34m=\u001b[0m\u001b[0mspot\u001b[0m\u001b[0;34m[\u001b[0m\u001b[0;34m'Liquidação'\u001b[0m\u001b[0;34m]\u001b[0m\u001b[0;34m,\u001b[0m \u001b[0mend_date\u001b[0m\u001b[0;34m=\u001b[0m\u001b[0mfuture\u001b[0m\u001b[0;34m[\u001b[0m\u001b[0;34m'Vencimento'\u001b[0m\u001b[0;34m]\u001b[0m\u001b[0;34m)\u001b[0m\u001b[0;34m\u001b[0m\u001b[0;34m\u001b[0m\u001b[0m\n\u001b[0m\u001b[1;32m    147\u001b[0m \u001b[0;34m\u001b[0m\u001b[0m\n\u001b[1;32m    148\u001b[0m         \u001b[0;31m# Calcula o número de dias úteis como o tamanho desse DataFrame\u001b[0m\u001b[0;34m\u001b[0m\u001b[0;34m\u001b[0m\u001b[0m\n",
            "\u001b[0;32m/usr/local/lib/python3.10/dist-packages/pandas_market_calendars/market_calendar.py\u001b[0m in \u001b[0;36mschedule\u001b[0;34m(self, start_date, end_date, tz, start, end, force_special_times, market_times, interruptions)\u001b[0m\n\u001b[1;32m    703\u001b[0m \u001b[0;34m\u001b[0m\u001b[0m\n\u001b[1;32m    704\u001b[0m         \u001b[0;31m# Setup all valid trading days and the requested market_times\u001b[0m\u001b[0;34m\u001b[0m\u001b[0;34m\u001b[0m\u001b[0m\n\u001b[0;32m--> 705\u001b[0;31m         \u001b[0m_all_days\u001b[0m \u001b[0;34m=\u001b[0m \u001b[0mself\u001b[0m\u001b[0;34m.\u001b[0m\u001b[0mvalid_days\u001b[0m\u001b[0;34m(\u001b[0m\u001b[0mstart_date\u001b[0m\u001b[0;34m,\u001b[0m \u001b[0mend_date\u001b[0m\u001b[0;34m)\u001b[0m\u001b[0;34m\u001b[0m\u001b[0;34m\u001b[0m\u001b[0m\n\u001b[0m\u001b[1;32m    706\u001b[0m         \u001b[0;32mif\u001b[0m \u001b[0mmarket_times\u001b[0m \u001b[0;32mis\u001b[0m \u001b[0;32mNone\u001b[0m\u001b[0;34m:\u001b[0m\u001b[0;34m\u001b[0m\u001b[0;34m\u001b[0m\u001b[0m\n\u001b[1;32m    707\u001b[0m             \u001b[0mmarket_times\u001b[0m \u001b[0;34m=\u001b[0m \u001b[0mself\u001b[0m\u001b[0;34m.\u001b[0m\u001b[0m_get_market_times\u001b[0m\u001b[0;34m(\u001b[0m\u001b[0mstart\u001b[0m\u001b[0;34m,\u001b[0m \u001b[0mend\u001b[0m\u001b[0;34m)\u001b[0m\u001b[0;34m\u001b[0m\u001b[0;34m\u001b[0m\u001b[0m\n",
            "\u001b[0;32m/usr/local/lib/python3.10/dist-packages/pandas_market_calendars/market_calendar.py\u001b[0m in \u001b[0;36mvalid_days\u001b[0;34m(self, start_date, end_date, tz)\u001b[0m\n\u001b[1;32m    568\u001b[0m         \"\"\"\n\u001b[1;32m    569\u001b[0m         return pd.date_range(\n\u001b[0;32m--> 570\u001b[0;31m             \u001b[0mstart_date\u001b[0m\u001b[0;34m,\u001b[0m \u001b[0mend_date\u001b[0m\u001b[0;34m,\u001b[0m \u001b[0mfreq\u001b[0m\u001b[0;34m=\u001b[0m\u001b[0mself\u001b[0m\u001b[0;34m.\u001b[0m\u001b[0mholidays\u001b[0m\u001b[0;34m(\u001b[0m\u001b[0;34m)\u001b[0m\u001b[0;34m,\u001b[0m \u001b[0mnormalize\u001b[0m\u001b[0;34m=\u001b[0m\u001b[0;32mTrue\u001b[0m\u001b[0;34m,\u001b[0m \u001b[0mtz\u001b[0m\u001b[0;34m=\u001b[0m\u001b[0mtz\u001b[0m\u001b[0;34m\u001b[0m\u001b[0;34m\u001b[0m\u001b[0m\n\u001b[0m\u001b[1;32m    571\u001b[0m         )\n\u001b[1;32m    572\u001b[0m \u001b[0;34m\u001b[0m\u001b[0m\n",
            "\u001b[0;32m/usr/local/lib/python3.10/dist-packages/pandas_market_calendars/market_calendar.py\u001b[0m in \u001b[0;36mholidays\u001b[0;34m(self)\u001b[0m\n\u001b[1;32m    551\u001b[0m             \u001b[0;32mreturn\u001b[0m \u001b[0mself\u001b[0m\u001b[0;34m.\u001b[0m\u001b[0m_holidays\u001b[0m\u001b[0;34m\u001b[0m\u001b[0;34m\u001b[0m\u001b[0m\n\u001b[1;32m    552\u001b[0m         \u001b[0;32mexcept\u001b[0m \u001b[0mAttributeError\u001b[0m\u001b[0;34m:\u001b[0m\u001b[0;34m\u001b[0m\u001b[0;34m\u001b[0m\u001b[0m\n\u001b[0;32m--> 553\u001b[0;31m             self._holidays = CustomBusinessDay(\n\u001b[0m\u001b[1;32m    554\u001b[0m                 \u001b[0mholidays\u001b[0m\u001b[0;34m=\u001b[0m\u001b[0mself\u001b[0m\u001b[0;34m.\u001b[0m\u001b[0madhoc_holidays\u001b[0m\u001b[0;34m,\u001b[0m\u001b[0;34m\u001b[0m\u001b[0;34m\u001b[0m\u001b[0m\n\u001b[1;32m    555\u001b[0m                 \u001b[0mcalendar\u001b[0m\u001b[0;34m=\u001b[0m\u001b[0mself\u001b[0m\u001b[0;34m.\u001b[0m\u001b[0mregular_holidays\u001b[0m\u001b[0;34m,\u001b[0m\u001b[0;34m\u001b[0m\u001b[0;34m\u001b[0m\u001b[0m\n",
            "\u001b[0;32m/usr/local/lib/python3.10/dist-packages/pandas/_libs/tslibs/offsets.pyx\u001b[0m in \u001b[0;36mpandas._libs.tslibs.offsets.CustomBusinessDay.__init__\u001b[0;34m()\u001b[0m\n",
            "\u001b[0;32m/usr/local/lib/python3.10/dist-packages/pandas/_libs/tslibs/offsets.pyx\u001b[0m in \u001b[0;36mpandas._libs.tslibs.offsets.BusinessMixin._init_custom\u001b[0;34m()\u001b[0m\n",
            "\u001b[0;32m/usr/local/lib/python3.10/dist-packages/pandas/_libs/tslibs/offsets.pyx\u001b[0m in \u001b[0;36mpandas._libs.tslibs.offsets._get_calendar\u001b[0;34m()\u001b[0m\n",
            "\u001b[0;32m/usr/local/lib/python3.10/dist-packages/pandas/_libs/tslibs/offsets.pyx\u001b[0m in \u001b[0;36mpandas._libs.tslibs.offsets._to_dt64D\u001b[0;34m()\u001b[0m\n",
            "\u001b[0;32m/usr/local/lib/python3.10/dist-packages/numpy/core/_dtype.py\u001b[0m in \u001b[0;36m_name_get\u001b[0;34m(dtype)\u001b[0m\n\u001b[1;32m    344\u001b[0m \u001b[0;34m\u001b[0m\u001b[0m\n\u001b[1;32m    345\u001b[0m \u001b[0;34m\u001b[0m\u001b[0m\n\u001b[0;32m--> 346\u001b[0;31m \u001b[0;32mdef\u001b[0m \u001b[0m_name_get\u001b[0m\u001b[0;34m(\u001b[0m\u001b[0mdtype\u001b[0m\u001b[0;34m)\u001b[0m\u001b[0;34m:\u001b[0m\u001b[0;34m\u001b[0m\u001b[0;34m\u001b[0m\u001b[0m\n\u001b[0m\u001b[1;32m    347\u001b[0m     \u001b[0;31m# provides dtype.name.__get__, documented as returning a \"bit name\"\u001b[0m\u001b[0;34m\u001b[0m\u001b[0;34m\u001b[0m\u001b[0m\n\u001b[1;32m    348\u001b[0m \u001b[0;34m\u001b[0m\u001b[0m\n",
            "\u001b[0;31mKeyboardInterrupt\u001b[0m: "
          ]
        }
      ],
      "source": [
        "import time\n",
        "from collections import deque\n",
        "\n",
        "start = time.time()\n",
        "\n",
        "num_episodes = 100\n",
        "max_num_timesteps = 1\n",
        "\n",
        "total_point_history = []\n",
        "\n",
        "num_p_av = 100    # numero de pontos\n",
        "epsilon = 1.0     # ε-greedy policy\n",
        "\n",
        "memory_buffer = deque(maxlen=MEMORY_SIZE)\n",
        "\n",
        "target_q_network.set_weights(q_network.get_weights())\n",
        "\n",
        "for i in range(num_episodes):\n",
        "\n",
        "    # Reiniciar o ambiente\n",
        "    state = env.reset()\n",
        "    state = transform_observation(state)  # Transforma o estado para o formato correto\n",
        "    total_points = 0\n",
        "\n",
        "    for t in range(max_num_timesteps):\n",
        "\n",
        "        state_tensor = tf.expand_dims(tf.convert_to_tensor(state), 0)\n",
        "        q_values = q_network.predict(state_tensor)  # Usa .predict() aqui\n",
        "        action = get_action(q_values, epsilon, num_actions)\n",
        "\n",
        "        next_state, reward, done, _ = env.step(action)\n",
        "        next_state = transform_observation(next_state)  # Transforma o próximo estado\n",
        "\n",
        "        memory_buffer.append(experience(state, action, reward, next_state, done))  # Armazena a experiência\n",
        "\n",
        "\n",
        "        if check_update_conditions(t, NUM_STEPS_FOR_UPDATE, memory_buffer):\n",
        "            experiences = get_experiences(memory_buffer)\n",
        "\n",
        "            agent_learn(experiences, GAMMA)\n",
        "\n",
        "        state = next_state  # Atualiza o estado\n",
        "        total_points += reward\n",
        "\n",
        "        if done:\n",
        "            break\n",
        "\n",
        "    total_point_history.append(total_points)\n",
        "    av_latest_points = np.mean(total_point_history[-num_p_av:])\n",
        "\n",
        "    # Update dos ε values\n",
        "    epsilon = get_new_eps(epsilon)\n",
        "\n",
        "    print(f\"\\rEpisódio {i+1} | Média de pontos totais dos últimos {num_p_av} episódios: {av_latest_points:.2f}\", end=\"\")\n",
        "\n",
        "    if (i+1) % num_p_av == 0:\n",
        "        print(f\"\\rEpisode {i+1} | Média de pontos totais dos últimos {num_p_av} episódios: {av_latest_points:.2f}\")\n",
        "\n",
        "    if av_latest_points >= 100_000_000.0:\n",
        "        print(f\"\\n\\nAmbiente resolvido em {i+1} episódios!\")\n",
        "        q_network.save('cash_and_carry_model.h5')\n",
        "        break\n",
        "\n",
        "\n",
        "q_network.save('cash_and_carry_model.h5')\n",
        "\n",
        "tot_time = time.time() - start\n",
        "\n",
        "print(f\"\\nTempo total de execução: {tot_time:.2f} s ({(tot_time/60):.2f} min)\")"
      ]
    },
    {
      "cell_type": "code",
      "execution_count": 29,
      "metadata": {
        "colab": {
          "base_uri": "https://localhost:8080/",
          "height": 703
        },
        "id": "YVdbUWga_Wto",
        "outputId": "6228cee2-1409-46a4-e940-c7591705990e"
      },
      "outputs": [
        {
          "name": "stderr",
          "output_type": "stream",
          "text": [
            "/usr/local/lib/python3.10/dist-packages/ipykernel/ipkernel.py:283: DeprecationWarning: `should_run_async` will not call `transform_cell` automatically in the future. Please pass the result to `transformed_cell` argument and any exception that happen during thetransform in `preprocessing_exc_tuple` in IPython 7.17 and above.\n",
            "  and should_run_async(code)\n"
          ]
        },
        {
          "data": {
            "image/png": "[encoded data removed]",
            "text/plain": [
              "<Figure size 1000x700 with 1 Axes>"
            ]
          },
          "metadata": {},
          "output_type": "display_data"
        }
      ],
      "source": [
        "plot_history(total_point_history)"
      ]
    },
    {
      "cell_type": "markdown",
      "metadata": {
        "id": "Be6fIH0rXrSt"
      },
      "source": [
        "# Verificar Última Combinação Gerada no Treinamento\n"
      ]
    },
    {
      "cell_type": "code",
      "execution_count": 30,
      "metadata": {
        "colab": {
          "base_uri": "https://localhost:8080/"
        },
        "id": "WWp0LTk3Vsko",
        "outputId": "1ec11eb4-04a5-440d-b59d-d30399694c32"
      },
      "outputs": [
        {
          "name": "stdout",
          "output_type": "stream",
          "text": [
            "{0: [], 1: [0, 0, 0, 0, 0, 0, 0, 0, 0, 0, 0, 0, 0, 0, 0, 0, 0, 0, 0, 0, 0, 0, 0, 0, 0, 0, 0, 0, 0, 0], 2: [], 3: [], 4: [], 5: [], 6: [], 7: [], 8: [], 9: [], 10: [], 11: [], 12: [], 13: [], 14: [], 15: [], 16: [], 17: [], 18: [], 19: [], 20: [], 21: [], 22: [], 23: [], 24: [], 25: [], 26: [], 27: [], 28: [], 29: [], 30: [], 31: [], 32: [], 33: [], 34: [], 35: [], 36: [], 37: [], 38: [], 39: [], 40: [], 41: [], 42: [], 43: [], 44: [], 45: [], 46: [], 47: [], 48: [], 49: [], 50: [], 51: [], 52: [], 53: [], 54: [], 55: [], 56: [], 57: [], 58: [], 59: []}\n"
          ]
        }
      ],
      "source": [
        "# Load the model\n",
        "print(env.matches)"
      ]
    }
  ],
  "metadata": {
    "colab": {
      "provenance": []
    },
    "kernelspec": {
      "display_name": "Python 3",
      "name": "python3"
    },
    "language_info": {
      "name": "python"
    }
  },
  "nbformat": 4,
  "nbformat_minor": 0
}
